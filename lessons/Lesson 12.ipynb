{
 "cells": [
  {
   "cell_type": "markdown",
   "metadata": {},
   "source": [
    "![](../images/cs101.png)\n",
    "***\n",
    "\n",
    "# 12 - Lesson\n",
    "\n",
    "## Topic of the Week\n",
    "\n",
    "- Python Libraries\n",
    "\n",
    "- https://wiki.python.org/moin/UsefulModules\n"
   ]
  },
  {
   "cell_type": "markdown",
   "metadata": {},
   "source": [
    "# 1 - Objectives and Goals\n",
    "\n",
    "Students will:\n",
    "\n",
    "- be introduced to some of the more popular Python libraries.\n"
   ]
  },
  {
   "cell_type": "markdown",
   "metadata": {},
   "source": [
    "# 2 - Preparation\n",
    "\n",
    "For this lesson, please review and read:\n",
    "\n",
    "- [What is github](https://www.howtogeek.com/180167/htg-explains-what-is-github-and-what-do-geeks-use-it-for/)\n",
    "- [Python Libraries](https://wiki.python.org/moin/UsefulModules)\n",
    "- [17 Best Python Libraries](https://boostlog.io/@nixus89896/17-best-python-libraries-5ad83a3247018500491f3e5b)\n",
    "- [Python for Astronomy](http://prancer.physics.louisville.edu/astrowiki/index.php/Python_for_Physics_and_Astronomy)\n",
    "- [Python for CPAs](http://www.python4cpas.com)\n",
    "- [Companies that use Python](https://realpython.com/world-class-companies-using-python)\n"
   ]
  },
  {
   "cell_type": "markdown",
   "metadata": {},
   "source": [
    "# 3 - Lesson Details\n",
    "\n",
    "This lesson outlines some of the Python libraries that python developers use.  These libraries are not in any order."
   ]
  },
  {
   "cell_type": "markdown",
   "metadata": {},
   "source": [
    "## 3.1 - numpy\n",
    "\n",
    "NumPy is a library that provides math functionalities and a scientific computing package for Python that includes N-dimensional array object, sophisticated (broadcasting) functions and tools of integrating code from C, C++ and Fortran.\n",
    "\n",
    "NumPy is useful for linear algebra, Fourier transform and random number capabilities. In addition, this library can also be used as a multi-dimensional container of generic data. It allows arbitrary data types to be defined and makes the integration of different databases seamless and fast.\n",
    "\n"
   ]
  },
  {
   "cell_type": "code",
   "execution_count": 76,
   "metadata": {},
   "outputs": [
    {
     "name": "stdout",
     "output_type": "stream",
     "text": [
      "[1 2 3]\n"
     ]
    }
   ],
   "source": [
    "# Using numpy - First you must import it into your program\n",
    "import numpy as np \n",
    "a = np.array([1,2,3]) \n",
    "print(a)"
   ]
  },
  {
   "cell_type": "code",
   "execution_count": 77,
   "metadata": {
    "scrolled": true
   },
   "outputs": [
    {
     "name": "stdout",
     "output_type": "stream",
     "text": [
      "The array\n",
      "[[1 2]\n",
      " [3 4]]\n",
      "a[0] = [1 2]\n",
      "a[0][1] = 2\n"
     ]
    }
   ],
   "source": [
    "# Sample of a two dimensional array\n",
    "import numpy as np \n",
    "a = np.array([[1, 2], [3, 4]]) \n",
    "print('The array')\n",
    "print(a)\n",
    "print('a[0] =', a[0])\n",
    "print('a[0][1] =', a[0][1])"
   ]
  },
  {
   "cell_type": "code",
   "execution_count": 78,
   "metadata": {},
   "outputs": [
    {
     "name": "stdout",
     "output_type": "stream",
     "text": [
      "[0 1 2 3 4]\n"
     ]
    }
   ],
   "source": [
    "# Create an array of values\n",
    "import numpy as np \n",
    "x = np.arange(5) \n",
    "print(x)"
   ]
  },
  {
   "cell_type": "code",
   "execution_count": 79,
   "metadata": {},
   "outputs": [
    {
     "name": "stdout",
     "output_type": "stream",
     "text": [
      "[10.  12.5 15.  17.5 20. ]\n",
      "[10.         11.42857143 12.85714286 14.28571429 15.71428571 17.14285714\n",
      " 18.57142857 20.        ]\n"
     ]
    }
   ],
   "source": [
    "# Create a range of linear values\n",
    "import numpy as np \n",
    "x = np.linspace(10, 20, 5) \n",
    "print(x)\n",
    "y = np.linspace(10, 20, 8) \n",
    "print(y)"
   ]
  },
  {
   "cell_type": "code",
   "execution_count": 80,
   "metadata": {},
   "outputs": [
    {
     "name": "stdout",
     "output_type": "stream",
     "text": [
      "Sine of different angles:\n",
      "[0.         0.5        0.70710678 0.8660254  1.        ]\n"
     ]
    }
   ],
   "source": [
    "# Math functions\n",
    "import numpy as np \n",
    "a = np.array([0,30,45,60,90]) \n",
    "\n",
    "print('Sine of different angles:')\n",
    "# Convert to radians by multiplying with pi/180 \n",
    "print(np.sin(a*np.pi/180))"
   ]
  },
  {
   "cell_type": "code",
   "execution_count": 81,
   "metadata": {},
   "outputs": [
    {
     "name": "stdout",
     "output_type": "stream",
     "text": [
      "1.118033988749895\n"
     ]
    }
   ],
   "source": [
    "# statistial fucntions - Standard Deviation\n",
    "import numpy as np \n",
    "print(np.std([1,2,3,4]))"
   ]
  },
  {
   "cell_type": "markdown",
   "metadata": {},
   "source": [
    "## 3.2 - matplotlib\n",
    "\n",
    "Matplotlib is 2D numerical plotting library for Python. It can be of great use for data analysis and produces high-quality figures in different formats including interactive graphs and plots.\n"
   ]
  },
  {
   "cell_type": "code",
   "execution_count": 82,
   "metadata": {},
   "outputs": [
    {
     "data": {
      "image/png": "[encoded data removed]",
      "text/plain": [
       "<Figure size 432x288 with 1 Axes>"
      ]
     },
     "metadata": {},
     "output_type": "display_data"
    }
   ],
   "source": [
    "import matplotlib\n",
    "import matplotlib.pyplot as plt\n",
    "import numpy as np\n",
    "%matplotlib inline  \n",
    "\n",
    "# Data for plotting\n",
    "t = np.arange(0.0, 2.0, 0.01)\n",
    "s = 1 + np.sin(2 * np.pi * t)\n",
    "\n",
    "# Note that using plt.subplots below is equivalent to using\n",
    "# fig = plt.figure() and then ax = fig.add_subplot(111)\n",
    "fig, ax = plt.subplots()\n",
    "ax.plot(t, s)\n",
    "\n",
    "ax.set(xlabel='time (s)', ylabel='voltage (mV)',\n",
    "       title='About as simple as it gets, folks')\n",
    "ax.grid()\n",
    "\n",
    "fig.savefig(\"test.png\")\n",
    "plt.show()"
   ]
  },
  {
   "cell_type": "code",
   "execution_count": 83,
   "metadata": {},
   "outputs": [
    {
     "data": {
      "image/png": "[encoded data removed]",
      "text/plain": [
       "<Figure size 432x288 with 1 Axes>"
      ]
     },
     "metadata": {},
     "output_type": "display_data"
    }
   ],
   "source": [
    "import matplotlib.pyplot as plt\n",
    "\n",
    "# Pie chart, where the slices will be ordered and plotted counter-clockwise:\n",
    "labels = 'Frogs', 'Hogs', 'Dogs', 'Logs'\n",
    "sizes = [15, 30, 45, 10]\n",
    "explode = (0, 0.1, 0, 0)  # only \"explode\" the 2nd slice (i.e. 'Hogs')\n",
    "\n",
    "fig1, ax1 = plt.subplots()\n",
    "ax1.pie(sizes, explode=explode, labels=labels, autopct='%1.1f%%', shadow=True, startangle=90)\n",
    "ax1.axis('equal')  # Equal aspect ratio ensures that pie is drawn as a circle.\n",
    "\n",
    "plt.show()"
   ]
  },
  {
   "cell_type": "code",
   "execution_count": 84,
   "metadata": {},
   "outputs": [
    {
     "data": {
      "image/png": "[encoded data removed]",
      "text/plain": [
       "<Figure size 360x360 with 4 Axes>"
      ]
     },
     "metadata": {},
     "output_type": "display_data"
    }
   ],
   "source": [
    "import matplotlib.pyplot as plt\n",
    "import numpy as np\n",
    "\n",
    "np.random.seed(19680801)\n",
    "data = np.random.randn(2, 100)\n",
    "\n",
    "fig, axs = plt.subplots(2, 2, figsize=(5, 5))\n",
    "axs[0, 0].hist(data[0])\n",
    "axs[1, 0].scatter(data[0], data[1])\n",
    "axs[0, 1].plot(data[0], data[1])\n",
    "axs[1, 1].hist2d(data[0], data[1])\n",
    "\n",
    "plt.show()"
   ]
  },
  {
   "cell_type": "markdown",
   "metadata": {},
   "source": [
    "## 3.3 - scrapy\n",
    "\n",
    "Scrappy is widely used Python web scraping library. It is used for creating crawling programs. Initially, it was designed for scraping, like its name indicate but now it used for many purposes including data mining, automated testing, etc.\n",
    "\n",
    "\n"
   ]
  },
  {
   "cell_type": "markdown",
   "metadata": {},
   "source": [
    "## 3.4 - pandas\n",
    "\n",
    "An open source, library providing high-performance, easy-to-use data structures and data analysis tools.\n",
    "\n",
    "pandas is a Python package providing fast, flexible, and expressive data structures designed to make working with “relational” or “labeled” data both easy and intuitive. It aims to be the fundamental high-level building block for doing practical, real world data analysis in Python. Additionally, it has the broader goal of becoming the most powerful and flexible open source data analysis / manipulation tool available in any language. It is already well on its way toward this goal.\n",
    "\n",
    "pandas is well suited for many different kinds of data:\n",
    "\n",
    "- Tabular data with heterogeneously-typed columns, as in an SQL table or Excel spreadsheet\n",
    "- Ordered and unordered (not necessarily fixed-frequency) time series data.\n",
    "- Arbitrary matrix data (homogeneously typed or heterogeneous) with row and column labels\n",
    "- Any other form of observational / statistical data sets. The data actually need not be labeled at all to be placed into a pandas data structure\n",
    "\n",
    "Misc:\n",
    "- [Creating Excel charts](https://pandas-xlsxwriter-charts.readthedocs.io/)\n",
    "\n"
   ]
  },
  {
   "cell_type": "code",
   "execution_count": 85,
   "metadata": {},
   "outputs": [
    {
     "name": "stdout",
     "output_type": "stream",
     "text": [
      "Populating the interactive namespace from numpy and matplotlib\n",
      "          id            name nationality     sex date_of_birth  height  \\\n",
      "0  736041664  A Jesus Garcia         ESP    male    1969-10-17    1.72   \n",
      "1  532037425      A Lam Shin         KOR  female    1986-09-23    1.68   \n",
      "2  435962603     Aaron Brown         CAN    male    1992-05-27    1.98   \n",
      "3  521041435      Aaron Cook         MDA    male    1991-01-02    1.83   \n",
      "4   33922579      Aaron Gate         NZL    male    1990-11-26    1.81   \n",
      "\n",
      "   weight      sport  gold  silver  bronze info  \n",
      "0    64.0  athletics     0       0       0  NaN  \n",
      "1    56.0    fencing     0       0       0  NaN  \n",
      "2    79.0  athletics     0       0       1  NaN  \n",
      "3    80.0  taekwondo     0       0       0  NaN  \n",
      "4    71.0    cycling     0       0       0  NaN  \n"
     ]
    }
   ],
   "source": [
    "import pandas as pd\n",
    "import matplotlib.pyplot as plt\n",
    "%pylab inline\n",
    "\n",
    "ath = pd.read_csv(\"athletes.csv\")\n",
    "\n",
    "print(ath.head())"
   ]
  },
  {
   "cell_type": "code",
   "execution_count": 86,
   "metadata": {},
   "outputs": [
    {
     "name": "stdout",
     "output_type": "stream",
     "text": [
      "0                  A Jesus Garcia\n",
      "1                      A Lam Shin\n",
      "2                     Aaron Brown\n",
      "3                      Aaron Cook\n",
      "4                      Aaron Gate\n",
      "5                     Aaron Royle\n",
      "6                   Aaron Russell\n",
      "7                   Aaron Younger\n",
      "8             Aauri Lorena Bokesa\n",
      "9                 Ababel Yeshaneh\n",
      "10                    Abadi Hadis\n",
      "11           Abbas Abubakar Abbas\n",
      "12                     Abbas Qali\n",
      "13               Abbey D'Agostino\n",
      "14                 Abbey Weitzeil\n",
      "15                    Abbie Brown\n",
      "16                Abbos Rakhmonov\n",
      "17               Abbubaker Mobara\n",
      "18                     Abby Erceg\n",
      "19       Abd Elhalim Mohamed Abou\n",
      "20              Abdalaati Iguider\n",
      "21               Abdalelah Haroun\n",
      "22                 Abdalla Targan\n",
      "23             Abdel Aziz Mehelba\n",
      "24             Abdelati El Guesse\n",
      "25            Abdelaziz Merzougui\n",
      "26        Abdelaziz Mohamed Ahmed\n",
      "27              Abdelghani Demmou\n",
      "28           Abdelhafid Benchabla\n",
      "29            Abdelhakim Amokrane\n",
      "                   ...           \n",
      "11508                 Zoe Buckman\n",
      "11509                     Zoe Lee\n",
      "11510               Zoe Stevenson\n",
      "11511               Zoe de Toledo\n",
      "11512               Zohar Shikler\n",
      "11513               Zohir Kedache\n",
      "11514           Zohra Ez Zahraoui\n",
      "11515             Zoi Kontogianni\n",
      "11516              Zokhid Kenjaev\n",
      "11517          Zoltan Adam Harcsa\n",
      "11518               Zoltan Kovago\n",
      "11519             Zorana Arunovic\n",
      "11520               Zouhair Aouad\n",
      "11521    Zoulehia Abzetta Dabonne\n",
      "11522             Zoya Ananchenko\n",
      "11523              Zsanett Nemeth\n",
      "11524               Zsofia Csonka\n",
      "11525              Zsofia Erdelyi\n",
      "11526             Zsofia Foldhazi\n",
      "11527               Zsofia Kovacs\n",
      "11528               Zsofia Kovacs\n",
      "11529              Zsombor Berecz\n",
      "11530           Zsuzsanna Jakabos\n",
      "11531         Zurabi Datunashvili\n",
      "11532         Zurabi Iakobishvili\n",
      "11533          Zurian Hechavarria\n",
      "11534              Zuzana Hejnova\n",
      "11535                     di Xiao\n",
      "11536           le Quoc Toan Tran\n",
      "11537              le Roux Hamman\n",
      "Name: name, Length: 11538, dtype: object\n"
     ]
    }
   ],
   "source": [
    "# display just names\n",
    "print(ath.name)"
   ]
  },
  {
   "cell_type": "code",
   "execution_count": 87,
   "metadata": {},
   "outputs": [
    {
     "name": "stdout",
     "output_type": "stream",
     "text": [
      "              id                         name nationality     sex  \\\n",
      "2      435962603                  Aaron Brown         CAN    male   \n",
      "77     136977152                  Adam Froese         CAN    male   \n",
      "92     983411298           Adam van Koeverden         CAN    male   \n",
      "238    769580282                 Akeem Haynes         CAN    male   \n",
      "332     84230211                  Alena Sharp         CAN  female   \n",
      "492    537043954                 Alicia Brown         CAN  female   \n",
      "536    373002185            Allison Beveridge         CAN  female   \n",
      "541    686662012              Allysha Chapman         CAN  female   \n",
      "564    746918674                Alysha Newman         CAN  female   \n",
      "570    431586792          Alyxandria Treasure         CAN  female   \n",
      "615    310265171                 Amelie Kretz         CAN  female   \n",
      "641    912480643                   Amy Millar         CAN  female   \n",
      "746    857846421              Andre de Grasse         CAN    male   \n",
      "772    976796859             Andrea Seccafien         CAN  female   \n",
      "775    321087951           Andreanne Langlois         CAN  female   \n",
      "840    559300154                 Andrew Yorke         CAN    male   \n",
      "889    789985846                 Angela Whyte         CAN  female   \n",
      "905    482234536                Anicka Newell         CAN  female   \n",
      "1022   818993615              Anthony Romaniw         CAN    male   \n",
      "1026   851486993  Antje von Seydlitz-Kurzbach         CAN  female   \n",
      "1029   110778822             Antoine Bouchard         CAN    male   \n",
      "1031   778856814             Antoine Duchesne         CAN    male   \n",
      "1034   418069781       Antoine Valois-Fortier         CAN    male   \n",
      "1055   281632549               Antoni Kindler         CAN    male   \n",
      "1105   978867868                Ariane Fortin         CAN  female   \n",
      "1149   216948866           Arthur Biyarslanov         CAN    male   \n",
      "1194   790221508              Ashley Lawrence         CAN  female   \n",
      "1198   405218283                Ashley Steacy         CAN  female   \n",
      "1203   902296774               Ashton Baumann         CAN    male   \n",
      "1238   330818489               Audrey Lacroix         CAN  female   \n",
      "...          ...                          ...         ...     ...   \n",
      "9735   289631929                Shallon Olsen         CAN  female   \n",
      "9769   239879514              Shawnacy Barber         CAN    male   \n",
      "9780   963097425             Shelina Zadorsky         CAN  female   \n",
      "9826   920840087               Shona Thorburn         CAN  female   \n",
      "9992   901973768               Sophie Schmidt         CAN  female   \n",
      "10089  944264216             Stephanie Horner         CAN  female   \n",
      "10090  238315993              Stephanie Labbe         CAN  female   \n",
      "10122   59291100              Steven Marshall         CAN    male   \n",
      "10150  963404474                Sukhi Panesar         CAN    male   \n",
      "10177  199049873             Susanne Grainger         CAN  female   \n",
      "10207  897751532               Sydney Pickrem         CAN  female   \n",
      "10262  215126261                Tamara Tatham         CAN  female   \n",
      "10299  347121929                 Tara Whitten         CAN  female   \n",
      "10308  373794222                 Taryn Suttie         CAN  female   \n",
      "10336  928304511                Taylor Curran         CAN    male   \n",
      "10338   45282983          Taylor Madison Ruck         CAN  female   \n",
      "10340  240962566                 Taylor Milne         CAN    male   \n",
      "10480  336393065               Tiffany Foster         CAN  female   \n",
      "10500  966796753                    Tim Nedow         CAN    male   \n",
      "10502  746547519                Tim Schrijver         CAN    male   \n",
      "10569  298179530                  Tom Ramshaw         CAN    male   \n",
      "10613  219098253                  Tory Nyhaug         CAN    male   \n",
      "10661   87568178             Tyler Mislawchuk         CAN    male   \n",
      "10663  834107099                Tyler Sanders         CAN    male   \n",
      "10760  499001095               Vasek Pospisil         CAN    male   \n",
      "10871  646986835             Vincent Riendeau         CAN    male   \n",
      "11002  202043393                Will Crothers         CAN    male   \n",
      "11003  212657714                    Will Dean         CAN    male   \n",
      "11156  982324748                 Yann Candele         CAN    male   \n",
      "11401  708404577                   Yuri Kisil         CAN    male   \n",
      "\n",
      "      date_of_birth  height  weight         sport  gold  silver  bronze info  \n",
      "2        1992-05-27    1.98    79.0     athletics     0       0       1  NaN  \n",
      "77       1991-08-13    1.82    81.0        hockey     0       0       0  NaN  \n",
      "92       1982-01-29    1.82    85.0         canoe     0       0       0  NaN  \n",
      "238      1992-03-11    1.68    71.0     athletics     0       0       1  NaN  \n",
      "332      1981-03-07    1.68    69.0          golf     0       0       0  NaN  \n",
      "492      1990-01-21    1.65    57.0     athletics     0       0       0  NaN  \n",
      "536      1993-06-01    1.69    62.0       cycling     0       0       1  NaN  \n",
      "541      1989-01-25    1.60    58.0      football     0       0       1  NaN  \n",
      "564      1994-06-29    1.72    67.0     athletics     0       0       0  NaN  \n",
      "570      1992-05-15    1.55    68.0     athletics     0       0       0  NaN  \n",
      "615      1993-05-19    1.68    53.0     triathlon     0       0       0  NaN  \n",
      "641      1977-02-14    1.83    59.0    equestrian     0       0       0  NaN  \n",
      "746      1994-11-10    1.76    70.0     athletics     0       1       2  NaN  \n",
      "772      1990-08-27    1.52    46.0     athletics     0       0       0  NaN  \n",
      "775      1993-04-01    1.58    59.0         canoe     0       0       0  NaN  \n",
      "840      1988-12-20    1.90    75.0     triathlon     0       0       0  NaN  \n",
      "889      1980-05-22    1.70    62.0     athletics     0       0       0  NaN  \n",
      "905      1993-08-05    1.75    64.0     athletics     0       0       0  NaN  \n",
      "1022     1991-09-15    1.80    80.0     athletics     0       0       0  NaN  \n",
      "1026     1990-09-16    1.79    76.0        rowing     0       0       0  NaN  \n",
      "1029     1994-08-24    1.80    66.0          judo     0       0       0  NaN  \n",
      "1031     1991-09-12    1.89    73.0       cycling     0       0       0  NaN  \n",
      "1034     1990-03-13    1.90    81.0          judo     0       0       0  NaN  \n",
      "1055     1988-05-16    1.88    85.0        hockey     0       0       0  NaN  \n",
      "1105     1984-11-20    1.75     NaN        boxing     0       0       0  NaN  \n",
      "1149     1995-04-22    1.74     NaN        boxing     0       0       0  NaN  \n",
      "1194     1995-06-11    1.64    60.0      football     0       0       1  NaN  \n",
      "1198     1987-06-28    1.58    64.0  rugby sevens     0       0       1  NaN  \n",
      "1203     1993-01-05    1.91    74.0      aquatics     0       0       0  NaN  \n",
      "1238     1983-11-17    1.63    54.0      aquatics     0       0       0  NaN  \n",
      "...             ...     ...     ...           ...   ...     ...     ...  ...  \n",
      "9735     2000-07-10    1.58    52.0    gymnastics     0       0       0  NaN  \n",
      "9769     1994-05-27    1.87    82.0     athletics     0       0       0  NaN  \n",
      "9780     1992-10-24    1.72    67.0      football     0       0       1  NaN  \n",
      "9826     1982-08-07    1.75    70.0    basketball     0       0       0  NaN  \n",
      "9992     1988-06-28    1.72    68.0      football     0       0       1  NaN  \n",
      "10089    1989-03-19    1.80    69.0      aquatics     0       0       0  NaN  \n",
      "10090    1986-10-10    1.78    63.0      football     0       0       1  NaN  \n",
      "10122    1989-11-23    1.93    87.0    volleyball     0       0       0  NaN  \n",
      "10150    1993-12-26    1.80    75.0        hockey     0       0       0  NaN  \n",
      "10177    1990-12-30    1.88    86.0        rowing     0       0       0  NaN  \n",
      "10207    1997-05-21    1.68    57.0      aquatics     0       0       0  NaN  \n",
      "10262    1985-08-19    1.85    79.0    basketball     0       0       0  NaN  \n",
      "10299    1980-07-13    1.66    67.0       cycling     0       0       0  NaN  \n",
      "10308    1990-12-07    1.83   103.0     athletics     0       0       0  NaN  \n",
      "10336    1992-05-19    1.83    80.0        hockey     0       0       0  NaN  \n",
      "10338    2000-05-28    1.83    60.0      aquatics     0       0       2  NaN  \n",
      "10340    1981-09-14    1.65    60.0     athletics     0       0       0  NaN  \n",
      "10480    1984-07-24    1.65    50.0    equestrian     0       0       0  NaN  \n",
      "10500    1990-10-16    2.00   140.0     athletics     0       0       0  NaN  \n",
      "10502    1992-02-07    2.03   104.0        rowing     0       0       0  NaN  \n",
      "10569    1991-11-18    1.83    95.0       sailing     0       0       0  NaN  \n",
      "10613    1992-04-17    1.85    92.0       cycling     0       0       0  NaN  \n",
      "10661    1994-08-19    1.72    59.0     triathlon     0       0       0  NaN  \n",
      "10663    1991-12-14    1.91    81.0    volleyball     0       0       0  NaN  \n",
      "10760    1990-06-23    1.94    87.0        tennis     0       0       0  NaN  \n",
      "10871    1996-12-13    1.78    68.0      aquatics     0       0       0  NaN  \n",
      "11002    1987-06-14    1.95    95.0        rowing     0       0       0  NaN  \n",
      "11003    1987-06-10    1.95    95.0        rowing     0       0       0  NaN  \n",
      "11156    1971-03-11    1.73    82.0    equestrian     0       0       0  NaN  \n",
      "11401    1995-09-18    2.00    84.0      aquatics     0       0       0  NaN  \n",
      "\n",
      "[321 rows x 12 columns]\n"
     ]
    }
   ],
   "source": [
    "# display just Canadians\n",
    "print(ath.loc[ath.nationality == 'CAN'])"
   ]
  },
  {
   "cell_type": "code",
   "execution_count": 88,
   "metadata": {
    "scrolled": true
   },
   "outputs": [
    {
     "name": "stdout",
     "output_type": "stream",
     "text": [
      "             id                   name nationality     sex date_of_birth  \\\n",
      "3097  289444580  Erica Elizabeth Wiebe         CAN  female    1989-06-13   \n",
      "8593  239797947         Penny Oleksiak         CAN  female    2000-06-13   \n",
      "9206  870380362    Rosannagh Maclennan         CAN  female    1988-08-27   \n",
      "\n",
      "      height  weight       sport  gold  silver  bronze  \\\n",
      "3097    1.75    75.0   wrestling     1       0       0   \n",
      "8593    1.86    68.0    aquatics     1       1       2   \n",
      "9206    1.58    54.0  gymnastics     1       0       0   \n",
      "\n",
      "                                                   info  \n",
      "3097                                                NaN  \n",
      "8593                                                NaN  \n",
      "9206  Runner-up at the World Championships in 2011, ...  \n"
     ]
    }
   ],
   "source": [
    "# display just Canadians, female and gold metals\n",
    "print(ath.loc[(ath.nationality == 'CAN') & (ath.sex == 'female') & (ath.gold > 0)])"
   ]
  },
  {
   "cell_type": "code",
   "execution_count": 89,
   "metadata": {},
   "outputs": [
    {
     "name": "stdout",
     "output_type": "stream",
     "text": [
      "Populating the interactive namespace from numpy and matplotlib\n",
      "       height  gold\n",
      "0        1.72     0\n",
      "1        1.68     0\n",
      "2        1.98     0\n",
      "3        1.83     0\n",
      "4        1.81     0\n",
      "5        1.80     0\n",
      "6        2.05     0\n",
      "7        1.93     0\n",
      "8        1.80     0\n",
      "9        1.65     0\n",
      "10       1.70     0\n",
      "11       1.75     0\n",
      "12        NaN     0\n",
      "13       1.61     0\n",
      "14       1.78     1\n",
      "15       1.76     0\n",
      "16       1.61     0\n",
      "17       1.75     0\n",
      "18       1.75     0\n",
      "19       2.10     0\n",
      "20       1.73     0\n",
      "21       1.85     0\n",
      "22       1.77     0\n",
      "23       1.76     0\n",
      "24       1.90     0\n",
      "25       1.75     0\n",
      "26       1.81     0\n",
      "27       1.85     0\n",
      "28       1.86     0\n",
      "29       1.86     0\n",
      "...       ...   ...\n",
      "11508    1.68     0\n",
      "11509    1.76     0\n",
      "11510    1.83     0\n",
      "11511    1.72     0\n",
      "11512    1.78     0\n",
      "11513    1.78     0\n",
      "11514    1.65     0\n",
      "11515    1.65     0\n",
      "11516    1.68     0\n",
      "11517    1.84     0\n",
      "11518    2.04     0\n",
      "11519    1.68     0\n",
      "11520    1.75     0\n",
      "11521    1.75     0\n",
      "11522    1.65     0\n",
      "11523    1.75     0\n",
      "11524    1.64     0\n",
      "11525    1.64     0\n",
      "11526    1.70     0\n",
      "11527    1.80     0\n",
      "11528    1.58     0\n",
      "11529    1.95     0\n",
      "11530    1.85     0\n",
      "11531    1.83     0\n",
      "11532    1.71     0\n",
      "11533    1.64     0\n",
      "11534    1.73     0\n",
      "11535    1.85     0\n",
      "11536    1.60     0\n",
      "11537    1.85     0\n",
      "\n",
      "[11538 rows x 2 columns]\n"
     ]
    }
   ],
   "source": [
    "import pandas as pd\n",
    "import matplotlib.pyplot as plt\n",
    "%pylab inline\n",
    "\n",
    "heightGold = pd.read_csv(\"athletes.csv\",  usecols=['height', 'gold'])\n",
    "print(heightGold)"
   ]
  },
  {
   "cell_type": "code",
   "execution_count": 90,
   "metadata": {},
   "outputs": [
    {
     "name": "stdout",
     "output_type": "stream",
     "text": [
      "       height  gold\n",
      "14       1.78     1\n",
      "60       1.77     1\n",
      "85       1.93     1\n",
      "160      1.73     1\n",
      "164      1.78     1\n",
      "223      1.68     2\n",
      "316      1.69     1\n",
      "357      1.98     1\n",
      "389      1.85     1\n",
      "407      1.67     1\n",
      "416      1.74     1\n",
      "418      1.58     1\n",
      "439      1.83     1\n",
      "496      1.73     1\n",
      "518      2.03     1\n",
      "521      1.84     1\n",
      "522      1.61     1\n",
      "526      1.70     1\n",
      "539      1.86     1\n",
      "542      1.68     2\n",
      "545      1.66     1\n",
      "547      1.80     1\n",
      "584      1.81     1\n",
      "589      1.81     1\n",
      "644      1.68     1\n",
      "661      1.75     1\n",
      "686      1.73     1\n",
      "701      1.70     1\n",
      "703      1.65     1\n",
      "835      1.92     1\n",
      "...       ...   ...\n",
      "10944    1.88     1\n",
      "10948    1.98     1\n",
      "10957    1.83     1\n",
      "10960    1.59     1\n",
      "10992    1.86     1\n",
      "11010    1.71     1\n",
      "11011    1.85     1\n",
      "11019    1.98     1\n",
      "11043    1.80     1\n",
      "11055    1.80     1\n",
      "11060    1.86     1\n",
      "11078    1.88     1\n",
      "11079    1.74     1\n",
      "11083    1.80     1\n",
      "11094    2.01     1\n",
      "11099    1.75     1\n",
      "11128    1.75     2\n",
      "11145    2.00     1\n",
      "11155    1.63     1\n",
      "11159    1.97     1\n",
      "11264    1.80     1\n",
      "11328    1.67     1\n",
      "11338    1.64     1\n",
      "11377    1.69     1\n",
      "11393    1.95     1\n",
      "11419    1.66     1\n",
      "11457    1.70     1\n",
      "11477    1.75     1\n",
      "11487    1.68     1\n",
      "11503    1.93     1\n",
      "\n",
      "[619 rows x 2 columns]\n"
     ]
    }
   ],
   "source": [
    "onlyGolds = heightGold.loc[heightGold.gold > 0]\n",
    "print(onlyGolds)"
   ]
  },
  {
   "cell_type": "code",
   "execution_count": 91,
   "metadata": {},
   "outputs": [
    {
     "data": {
      "image/png": "[encoded data removed]",
      "text/plain": [
       "<Figure size 432x288 with 1 Axes>"
      ]
     },
     "metadata": {},
     "output_type": "display_data"
    }
   ],
   "source": [
    "# Height VS gold metals\n",
    "plt.bar(onlyGolds.height, onlyGolds.gold, 1/1.5, color=\"blue\")\n",
    "fig1= plt.gcf()"
   ]
  },
  {
   "cell_type": "code",
   "execution_count": 92,
   "metadata": {},
   "outputs": [
    {
     "data": {
      "image/png": "[encoded data removed]",
      "text/plain": [
       "<Figure size 432x288 with 1 Axes>"
      ]
     },
     "metadata": {},
     "output_type": "display_data"
    }
   ],
   "source": [
    "# gold metals VS height\n",
    "plt.bar(onlyGolds.gold, onlyGolds.height, 1/1.5, color=\"blue\")\n",
    "fig2 = plt.gcf()\n"
   ]
  },
  {
   "cell_type": "markdown",
   "metadata": {},
   "source": [
    "## 3.5 - bokeh\n",
    "\n",
    "Bokeh is an interactive visualization library that targets modern web browsers for presentation. Its goal is to provide elegant, concise construction of versatile graphics, and to extend this capability with high-performance interactivity over very large or streaming datasets. Bokeh can help anyone who would like to quickly and easily create interactive plots, dashboards, and data applications.\n",
    "\n",
    "Website: https://bokeh.pydata.org/en/latest/\n",
    "\n"
   ]
  },
  {
   "cell_type": "code",
   "execution_count": 93,
   "metadata": {},
   "outputs": [],
   "source": [
    "from bokeh.io import output_notebook, show\n",
    "from bokeh.plotting import figure\n",
    "\n",
    "# create a new plot with default tools, using figure\n",
    "p = figure(plot_width=400, plot_height=400)\n",
    "\n",
    "# add a circle renderer with a size, color, and alpha\n",
    "p.circle([1, 2, 3, 4, 5], [6, 7, 2, 4, 5], size=15, line_color=\"navy\", fill_color=\"orange\", fill_alpha=0.5)\n",
    "\n",
    "show(p) # show the results"
   ]
  },
  {
   "cell_type": "markdown",
   "metadata": {},
   "source": [
    "## 3.6 - python-docx\n",
    "\n",
    "python-docx is a Python library for creating and updating Microsoft Word (.docx) files. http://python-docx.readthedocs.io/en/latest/index.html\n"
   ]
  },
  {
   "cell_type": "code",
   "execution_count": null,
   "metadata": {},
   "outputs": [],
   "source": [
    "from docx import Document\n",
    "from docx.shared import Inches\n",
    "\n",
    "document = Document()\n",
    "\n",
    "document.add_heading('Document Title', 0)\n",
    "\n",
    "p = document.add_paragraph('A plain paragraph having some ')\n",
    "p.add_run('bold').bold = True\n",
    "p.add_run(' and some ')\n",
    "p.add_run('italic.').italic = True\n",
    "\n",
    "document.add_heading('Heading, level 1', level=1)\n",
    "document.add_paragraph('Intense quote', style='IntenseQuote')\n",
    "\n",
    "document.add_paragraph(\n",
    "    'first item in unordered list', style='ListBullet'\n",
    ")\n",
    "document.add_paragraph(\n",
    "    'first item in ordered list', style='ListNumber'\n",
    ")\n",
    "\n",
    "document.add_picture('monty-truth.png', width=Inches(1.25))\n",
    "\n",
    "table = document.add_table(rows=1, cols=3)\n",
    "hdr_cells = table.rows[0].cells\n",
    "hdr_cells[0].text = 'Qty'\n",
    "hdr_cells[1].text = 'Id'\n",
    "hdr_cells[2].text = 'Desc'\n",
    "for item in recordset:\n",
    "    row_cells = table.add_row().cells\n",
    "    row_cells[0].text = str(item.qty)\n",
    "    row_cells[1].text = str(item.id)\n",
    "    row_cells[2].text = item.desc\n",
    "\n",
    "document.add_page_break()\n",
    "\n",
    "document.save('demo.docx')"
   ]
  },
  {
   "cell_type": "markdown",
   "metadata": {},
   "source": [
    "## 3.7 - pygame\n",
    "\n",
    "Pygame is the open source library that is for making multimedia applications including games, built on top of powerful Simple Directmedia Library (SDL), and yes, it is used to teach games development to kids.\n",
    "\n",
    "Pygame is highly portable and can run on almost all platforms and operating systems. Millions of people have downloaded it and arguably it is one of the best game library for Python.\n"
   ]
  },
  {
   "cell_type": "markdown",
   "metadata": {},
   "source": [
    "## 3.8 - scipy\n",
    "\n",
    "SciPy contains Python modules useful for common tasks used in science and engineering like linear algebra, optimization, integration, interpolation, image processing and much more. https://www.scipy.org/about.html\n"
   ]
  },
  {
   "cell_type": "markdown",
   "metadata": {},
   "source": [
    "## 3.9 - misc\n",
    "\n",
    "An up-to-date list of Python libraries can be found [here](https://github.com/vinta/awesome-python) and [here](https://pypi.org/)\n",
    "\n",
    "\n",
    "- **Biopython** - It is a distributed collaborative effort to develop Python libraries and applications which address the needs of current and future work in bioinformatics.\n",
    "- **SymPy** - SymPy is a Python library for symbolic mathematics. It aims to become a full-featured computer algebra system (CAS) while keeping the code as simple as possible in order to be comprehensible and easily extensible. SymPy is written entirely in Python.\n",
    "- **opencv** - Computer Vision fuctions.\n",
    "- **scikit-image** - is a collection of algorithms for image processing.\n",
    "- **scikit-learn** - Machine learning tools.\n",
    "- **pytest** - The pytest framework makes it easy to write small tests, yet scales to support complex functional testing for applications and libraries.\n",
    "- **astropy** - The Astropy Project is a community effort to develop a common core package for Astronomy in Python and foster an ecosystem of interoperable astronomy packages.\n",
    "- **TensorFlow** - An open source machine learning framework for everyone.\n",
    "- **Requests** - allows you to send organic, grass-fed HTTP/1.1 requests, without the need for manual labor.\n",
    "- **Django framework** - Django is a free open-source full-stack Python framework to create web applications.\n"
   ]
  },
  {
   "cell_type": "markdown",
   "metadata": {},
   "source": [
    "# 4 - Lesson Review\n",
    "\n"
   ]
  }
 ],
 "metadata": {
  "kernelspec": {
   "display_name": "Python 3",
   "language": "python",
   "name": "python3"
  },
  "language_info": {
   "codemirror_mode": {
    "name": "ipython",
    "version": 3
   },
   "file_extension": ".py",
   "mimetype": "text/x-python",
   "name": "python",
   "nbconvert_exporter": "python",
   "pygments_lexer": "ipython3",
   "version": "3.6.6"
  }
 },
 "nbformat": 4,
 "nbformat_minor": 2
}
