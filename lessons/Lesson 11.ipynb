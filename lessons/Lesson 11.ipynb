{
 "cells": [
  {
   "cell_type": "markdown",
   "metadata": {},
   "source": [
    "![](../images/cs101.png)\n",
    "***\n",
    "\n",
    "# 11 - Lesson\n",
    "\n",
    "## Topic of the Week\n",
    "\n",
    "- How to read and write files.\n",
    "\n"
   ]
  },
  {
   "cell_type": "markdown",
   "metadata": {},
   "source": [
    "# 1 - Objectives and Goals\n",
    "\n",
    "Students will:\n",
    "\n",
    "- Understand what is a file\n",
    "- Learn to read data from a file\n",
    "- Learn to write data to a file\n"
   ]
  },
  {
   "cell_type": "markdown",
   "metadata": {},
   "source": [
    "# 2 - Preparation\n",
    "\n",
    "For this lesson, please review and read:\n",
    "\n",
    "- Review what lists are and how to use them.\n",
    "- Links\n",
    "    - [File Handling: Reading and Writing Files](https://www.guru99.com/reading-and-writing-files-in-python.html)\n",
    "    - [Python for beginners: Reading & Writing Files](http://www.pythonforbeginners.com/files/reading-and-writing-files-in-python)\n"
   ]
  },
  {
   "cell_type": "markdown",
   "metadata": {},
   "source": [
    "# 3 - Lesson Details\n",
    "\n"
   ]
  },
  {
   "cell_type": "markdown",
   "metadata": {},
   "source": [
    "## 3.1 - What is a file?\n",
    "\n",
    "> **A file is a collection of data stored in one unit, identified by a filename.** It can be a document, picture, audio or video stream, data library, application, or other collection of data. The following is a brief description of each file type.\n",
    "\n",
    "> Documents include text files, such as a Word documents, RTF (Rich Text Format) documents, PDFs, Web pages, and others. Pictures include JPEGs, GIFs, BMPs, and layered image files, such as Photoshop documents (PSDs). Audio files include MP3s, AACs, WAVs, AIFs, and several others. Video files can be encoded in MPEG, MOV, WMV, or DV formats, just to name a few.\n",
    "\n",
    "> Files can be opened, saved, deleted, and moved to different folders. They can also be transferred across network connections or downloaded from the Internet. A file's type can be determined by viewing the file's icon or by reading the file extension. If the file type is associated with a specific application, double-clicking the file will typically open the file within the program.\n",
    "\n",
    "> -- https://techterms.com/definition/file\n",
    "\n",
    "\n",
    "### Examples of Files:\n",
    "\n",
    "- **main.py**: Python program.\n",
    "- **img1023.jpg**: Image or photo.\n",
    "- **vacation2018.mp4**: Video of the family vacation.\n",
    "- **grades.txt**: Data file containing grades.\n",
    "- **salesWeek10.csv**: Comma Separated Value file of sales for the week 10.\n"
   ]
  },
  {
   "cell_type": "markdown",
   "metadata": {},
   "source": [
    "## 3.2 - Reading files\n",
    "\n",
    "In order to read a file, you must first open it.  In Python, that command is open()."
   ]
  },
  {
   "cell_type": "code",
   "execution_count": null,
   "metadata": {},
   "outputs": [],
   "source": [
    "# Openning a file named data.txt - Notice the \"Mode='r'\"\n",
    "\n",
    "data = open('data.txt')\n",
    "print(data)\n",
    "data.close()"
   ]
  },
  {
   "cell_type": "markdown",
   "metadata": {},
   "source": [
    "Files can be openned for reading or writing.  By default, Python will assume that you want to open a file for reading.  Notice the \"mode='r'\" in the resulting code above when you run it.  The mode indicates that you are reading (ie., 'r') the file.  In the section below on writing files, we will use the 'w' mode to indicate writing to a file.\n",
    "\n",
    "Once a file is open, it's time to read it.  The following code will read the first line of the file data.txt"
   ]
  },
  {
   "cell_type": "code",
   "execution_count": null,
   "metadata": {},
   "outputs": [],
   "source": [
    "# Open the file 'data.txt' and read the first line\n",
    "data = open('data.txt')\n",
    "\n",
    "print(data.readline())\n",
    "\n",
    "data.close()"
   ]
  },
  {
   "cell_type": "code",
   "execution_count": null,
   "metadata": {},
   "outputs": [],
   "source": [
    "# Open the file 'data.txt' and read the first 3 lines\n",
    "data = open('data.txt')\n",
    "\n",
    "print(data.readline())\n",
    "print(data.readline())\n",
    "print(data.readline())\n",
    "\n",
    "data.close()"
   ]
  },
  {
   "cell_type": "code",
   "execution_count": null,
   "metadata": {},
   "outputs": [],
   "source": [
    "# Open the file 'data.txt' and read the first 3 lines\n",
    "data = open('data.txt')\n",
    "\n",
    "for i in range(3):\n",
    "    print(data.readline())\n",
    "\n",
    "data.close()"
   ]
  },
  {
   "cell_type": "code",
   "execution_count": null,
   "metadata": {},
   "outputs": [],
   "source": [
    "# Open the file 'data.txt' and read all of the lines in the file using a loop.\n",
    "# This loop is using the same method of processing all items of a list\n",
    "#\n",
    "# list = [\"one fish\", \"two fish\", \"red fish\", \"blue fish\"]\n",
    "# for i in list:\n",
    "#    print(i)\n",
    "\n",
    "data = open('data.txt')\n",
    "\n",
    "for line in data:\n",
    "    print(line)\n",
    "\n",
    "data.close()"
   ]
  },
  {
   "cell_type": "code",
   "execution_count": null,
   "metadata": {},
   "outputs": [],
   "source": [
    "# Reading the file 'data.txt' into a list\n",
    "# Notice the '\\n' at the end of each item in the list.  This is a newline or enter.\n",
    "\n",
    "data = open('data.txt')\n",
    "list = []\n",
    "\n",
    "for line in data:\n",
    "    list.append(line)\n",
    "\n",
    "data.close()\n",
    "\n",
    "print(list)"
   ]
  },
  {
   "cell_type": "code",
   "execution_count": null,
   "metadata": {},
   "outputs": [],
   "source": [
    "# Reading the file 'data.txt' into a list and removing the extra '\\n' at the end of each line\n",
    "# Here, the function rstrip() will strip out the enter key for each line before it\n",
    "# is added to the list.\n",
    "\n",
    "data = open('data.txt')\n",
    "list = []\n",
    "\n",
    "for line in data:\n",
    "    list.append(line.rstrip())\n",
    "\n",
    "data.close()\n",
    "\n",
    "print(list)"
   ]
  },
  {
   "cell_type": "code",
   "execution_count": null,
   "metadata": {},
   "outputs": [],
   "source": [
    "# Here is a one line command that will read in all of the lines of a file into a list\n",
    "\n",
    "data = open('data.txt')\n",
    "list = data.read().splitlines()\n",
    "data.close()\n",
    "print(list)"
   ]
  },
  {
   "cell_type": "code",
   "execution_count": null,
   "metadata": {},
   "outputs": [],
   "source": [
    "# When reading from files, the \"with\" statement is used that the file exists.\n",
    "\n",
    "lines = []\n",
    "with open('data.txt') as f:\n",
    "    lines = f.readlines()\n",
    "print(lines)"
   ]
  },
  {
   "cell_type": "code",
   "execution_count": null,
   "metadata": {},
   "outputs": [],
   "source": [
    "# 1) Read the file 'data.txt'\n",
    "# 2) split each line into words\n",
    "# 3) append each word to a list\n",
    "\n",
    "data = open('data.txt')\n",
    "list = []\n",
    "\n",
    "# Read each line in the file one at a time\n",
    "for line in data:\n",
    "    # With each word, split the string into words, adding each word to the list\n",
    "    for word in line.split():\n",
    "        list.append(word)\n",
    "\n",
    "data.close()\n",
    "\n",
    "print(list)"
   ]
  },
  {
   "cell_type": "code",
   "execution_count": null,
   "metadata": {},
   "outputs": [],
   "source": [
    "# TODO - read the file data2.txt, that contains numbers, into a list as numbers\n",
    "\n"
   ]
  },
  {
   "cell_type": "markdown",
   "metadata": {},
   "source": [
    "## 3.3 - Writing files\n",
    "\n",
    "We can also write to a file.  We still need to open a file using the open() function.  However, we want to open it with the mode 'w'.  If the file doesn't exist, the 'w' option will create the file.\n",
    "\n",
    "```python\n",
    "data = open('file.txt', 'w')\n",
    "data.close()\n",
    "```"
   ]
  },
  {
   "cell_type": "code",
   "execution_count": null,
   "metadata": {},
   "outputs": [],
   "source": [
    "# Create a file and write out \n",
    "data = open('dataout.txt', 'w')\n",
    "\n",
    "data.write('One Fish')\n",
    "data.write('Two Fish')\n",
    "data.write('Red Fish')\n",
    "data.write('Blue Fish')\n",
    "\n",
    "data.close()"
   ]
  },
  {
   "cell_type": "code",
   "execution_count": null,
   "metadata": {},
   "outputs": [],
   "source": [
    "# Create a file and write out \n",
    "data = open('values.txt', 'w')\n",
    "list = [12, 23, 34, 45, 56, 67, 78, 89, 90, 100]\n",
    "\n",
    "for i in list:\n",
    "    data.write(str(i) + '\\n')\n",
    "\n",
    "data.close()"
   ]
  },
  {
   "cell_type": "markdown",
   "metadata": {},
   "source": [
    "# 4 - Lesson Review\n",
    "\n",
    "The open() function is used to either open a file for reading (option 'r') or writting (option 'w').\n"
   ]
  }
 ],
 "metadata": {
  "kernelspec": {
   "display_name": "Python 3",
   "language": "python",
   "name": "python3"
  },
  "language_info": {
   "codemirror_mode": {
    "name": "ipython",
    "version": 3
   },
   "file_extension": ".py",
   "mimetype": "text/x-python",
   "name": "python",
   "nbconvert_exporter": "python",
   "pygments_lexer": "ipython3",
   "version": "3.6.6"
  }
 },
 "nbformat": 4,
 "nbformat_minor": 2
}
