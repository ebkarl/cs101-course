{
 "cells": [
  {
   "cell_type": "markdown",
   "metadata": {},
   "source": [
    "![](../images/cs101.png)\n",
    "***\n",
    "\n",
    "# 10 - Lesson\n",
    "\n",
    "## Topic of the Week\n",
    "\n",
    "- Loops in Python - part 2\n",
    "- break statement\n",
    "- continue statement\n",
    "- list comprehensions\n"
   ]
  },
  {
   "cell_type": "markdown",
   "metadata": {},
   "source": [
    "***\n",
    "# 1 - Objectives and Goals\n",
    "\n",
    "Students will:\n",
    "\n",
    "- Using break and continue in loops\n",
    "- Understand how to create list or data using loops\n"
   ]
  },
  {
   "cell_type": "markdown",
   "metadata": {},
   "source": [
    "***\n",
    "# 2 - Preparation\n",
    "\n",
    "For this lesson, please review and read:\n",
    "\n",
    "- Watch the video on [List Comprehensions](https://www.youtube.com/watch?v=1HlyKKiGg-4)\n"
   ]
  },
  {
   "cell_type": "markdown",
   "metadata": {},
   "source": [
    "***\n",
    "# 3 - Lesson Details\n",
    "\n"
   ]
  },
  {
   "cell_type": "markdown",
   "metadata": {},
   "source": [
    "## 3.1 - Break Statement\n",
    "\n",
    "The **break** statement terminates the loop containing it. Control of the program flows to the statement immediately after the body of the loop. If break statement is inside a nested loop (loop inside another loop), break will terminate the innermost loop "
   ]
  },
  {
   "cell_type": "code",
   "execution_count": null,
   "metadata": {},
   "outputs": [],
   "source": [
    "values = [10, 20, 30, -40, 50, 60]\n",
    "for i in values:\n",
    "    print('Looking at value =', i)\n",
    "    if (i < 0):\n",
    "        break;\n",
    "print('After For Loop')\n"
   ]
  },
  {
   "cell_type": "code",
   "execution_count": null,
   "metadata": {},
   "outputs": [],
   "source": [
    "# This is an endless loop.  However, it stops when a negative value is entered\n",
    "while (True):\n",
    "    value = int(input('Enter value: '))\n",
    "    if (value < 0):\n",
    "        break;\n",
    "print('After For Loop')\n"
   ]
  },
  {
   "cell_type": "code",
   "execution_count": null,
   "metadata": {},
   "outputs": [],
   "source": [
    "# This is same as the code above\n",
    "done = False\n",
    "while (not done):\n",
    "    value = int(input('Enter value: '))\n",
    "    if (value < 0):\n",
    "        done = True;\n",
    "print('After For Loop')\n"
   ]
  },
  {
   "cell_type": "markdown",
   "metadata": {},
   "source": [
    "## 3.2 - Continue Statement\n",
    "\n",
    "A **continue** statement returns the control to the beginning of the while loop.. The continue statement rejects all the remaining statements in the current iteration of the loop and moves the control back to the top of the loop. The continue statement can be used in both while and for loops."
   ]
  },
  {
   "cell_type": "code",
   "execution_count": null,
   "metadata": {},
   "outputs": [],
   "source": [
    "values = [10, 20, 30, -40, 50, 60]\n",
    "for i in values:\n",
    "    print('Looking at value =', i)\n",
    "    if (i < 0):\n",
    "        continue;\n",
    "    print('   Still looking at', i)\n",
    "print('After For Loop')\n"
   ]
  },
  {
   "cell_type": "markdown",
   "metadata": {},
   "source": [
    "## 3.3 - List Comprehensions\n",
    "\n",
    "List comprehensions provide a concise way to create lists. Instead of using a **while** or **for** loop to create a list, you can write one line of code to it.\n",
    "\n",
    "The basic syntax is:\n",
    "\n",
    "```\n",
    "[ expression for item in list if conditional ]\n",
    "```\n",
    "\n",
    "This is equivalent to:\n",
    "\n",
    "```python\n",
    "for item in list:\n",
    "    if conditional:\n",
    "        expression\n",
    "```\n",
    "\n",
    "We will be going through many examples in this lesson.  The best method to learn list comprehensions is to try the following code examples for yourself."
   ]
  },
  {
   "cell_type": "markdown",
   "metadata": {},
   "source": [
    "### 3.3.1 - List of Squares Example"
   ]
  },
  {
   "cell_type": "code",
   "execution_count": null,
   "metadata": {},
   "outputs": [],
   "source": [
    "# The following code will use a loop to create a list of squares.\n",
    "squares = []\n",
    "\n",
    "# Loop from values 0 to 9 appending the square of these values to the squares list\n",
    "for x in range(10):\n",
    "    squares.append(x**2)\n",
    "\n",
    "# Display the list of squares\n",
    "print(squares)"
   ]
  },
  {
   "cell_type": "code",
   "execution_count": null,
   "metadata": {},
   "outputs": [],
   "source": [
    "# The following line of code does the same list as the above code\n",
    "squares = [x**2 for x in range(10)]\n",
    "\n",
    "print(squares)"
   ]
  },
  {
   "cell_type": "markdown",
   "metadata": {},
   "source": [
    "### 3.3.2 - Multiple a list of numbers by scale value"
   ]
  },
  {
   "cell_type": "code",
   "execution_count": null,
   "metadata": {},
   "outputs": [],
   "source": [
    "list = [3, 4, 5, 10, 30]\n",
    "scalar = 5\n",
    "multiplied = [item * scalar for item in list] \n",
    "print(multiplied)"
   ]
  },
  {
   "cell_type": "markdown",
   "metadata": {},
   "source": [
    "### 3.3.3 - List of strings"
   ]
  },
  {
   "cell_type": "code",
   "execution_count": null,
   "metadata": {},
   "outputs": [],
   "source": [
    "listOfWords = [\"this\",\"is\",\"a\",\"list\",\"of\",\"words\"]\n",
    "items = [ word[0] for word in listOfWords ]\n",
    "print(items)"
   ]
  },
  {
   "cell_type": "markdown",
   "metadata": {},
   "source": [
    "### 3.3.4 - Convert Celsius to Fahreheit"
   ]
  },
  {
   "cell_type": "code",
   "execution_count": null,
   "metadata": {},
   "outputs": [],
   "source": [
    "celsius = [-40, 0, 100, 39.2, 36.5, 37.3, 37]\n",
    "fahrenheit = [ ((float(9)/5)*x + 32) for x in celsius ]\n",
    "print(fahrenheit)"
   ]
  },
  {
   "cell_type": "markdown",
   "metadata": {},
   "source": [
    "### 3.3.5 - List creating of values that are positive"
   ]
  },
  {
   "cell_type": "code",
   "execution_count": null,
   "metadata": {},
   "outputs": [],
   "source": [
    "import random\n",
    "\n",
    "values = [random.randint(-100,100) for x in range(20)]\n",
    "print(values)\n",
    "\n",
    "positive = [ x for x in values if x > 0]\n",
    "print(positive)"
   ]
  },
  {
   "cell_type": "markdown",
   "metadata": {},
   "source": [
    "### 3.3.6 - Create List of repeated values"
   ]
  },
  {
   "cell_type": "code",
   "execution_count": null,
   "metadata": {},
   "outputs": [],
   "source": [
    "n = 10\n",
    "\n",
    "listofzeros = [0] * n\n",
    "print('listofzeros =', listofzeros)\n",
    "\n",
    "listofones = [1] * n\n",
    "print('listofones =', listofones)\n",
    "\n",
    "listofvalues = [1, 2, 3] * n\n",
    "print('listofvalues =', listofvalues)\n"
   ]
  },
  {
   "cell_type": "markdown",
   "metadata": {},
   "source": [
    "## 3.4 - Exercises\n",
    "\n",
    "Please try the following coding exercises.  Use list comprehensions.\n"
   ]
  },
  {
   "cell_type": "code",
   "execution_count": null,
   "metadata": {},
   "outputs": [],
   "source": [
    "# TODO - Create a list of numbers 0 to 10\n"
   ]
  },
  {
   "cell_type": "code",
   "execution_count": null,
   "metadata": {},
   "outputs": [],
   "source": [
    "# TODO - Create a list of numbers 10 to 20\n"
   ]
  },
  {
   "cell_type": "code",
   "execution_count": null,
   "metadata": {},
   "outputs": [],
   "source": [
    "# TODO - Create a list the contains even numbers from 0 to 20\n"
   ]
  },
  {
   "cell_type": "code",
   "execution_count": null,
   "metadata": {},
   "outputs": [],
   "source": [
    "# TODO - Create a new list that contains\n",
    "\n",
    "import random\n",
    "\n",
    "def isPrime(number):\n",
    "    for i in range(2, number):\n",
    "        if (number % i == 0):\n",
    "            return False\n",
    "    return True\n",
    "\n",
    "values = [random.randint(2, 1000) for x in range(100)]\n",
    "print('Values:', values)\n",
    "print('')\n",
    "\n",
    "primes = [ Add Code here to create a list of primes from values ]\n",
    "print('Primes:', primes)"
   ]
  },
  {
   "cell_type": "markdown",
   "metadata": {},
   "source": [
    "***\n",
    "# 4 - Lesson Review\n",
    "\n",
    "**break** and **continue** statements allow you to better control how if statements, for and while loops work.\n",
    "\n",
    "List conprehensions are used to simplify the creation of lists in Python"
   ]
  }
 ],
 "metadata": {
  "kernelspec": {
   "display_name": "Python 3",
   "language": "python",
   "name": "python3"
  },
  "language_info": {
   "codemirror_mode": {
    "name": "ipython",
    "version": 3
   },
   "file_extension": ".py",
   "mimetype": "text/x-python",
   "name": "python",
   "nbconvert_exporter": "python",
   "pygments_lexer": "ipython3",
   "version": "3.6.5"
  }
 },
 "nbformat": 4,
 "nbformat_minor": 2
}
