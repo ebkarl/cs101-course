{
 "cells": [
  {
   "cell_type": "markdown",
   "metadata": {},
   "source": [
    "![](../images/cs101.png)\n",
    "***\n",
    "\n",
    "# 07 - Lesson"
   ]
  },
  {
   "cell_type": "markdown",
   "metadata": {},
   "source": [
    "# 1 - Objectives and Goals\n",
    "\n",
    "Students will:\n",
    "\n",
    "- Learn to debug programs with Thonny\n",
    "- Learn about break points\n",
    "- Use the Python Shell\n"
   ]
  },
  {
   "cell_type": "markdown",
   "metadata": {},
   "source": [
    "# 2 - Preparation\n",
    "\n",
    "For this lesson;\n",
    "\n",
    "- You will need to have Thonny installed and running on your computer.\n",
    "- Please read and review this webpage on the [Python Interpreter](https://docs.python.org/3/tutorial/interpreter.html)\n"
   ]
  },
  {
   "cell_type": "markdown",
   "metadata": {},
   "source": [
    "# 3 - Lesson Details\n",
    "\n",
    "Writing and running programs that work is a great feeling.  However, most of the time, a software developer is trying to figure out why their program is not running correctly.  Perhaps the program is displaying wrong information or is not displaying anything.\n",
    "\n",
    "To solve this type of problem, the tools that we use to write code allow you the developer to \"walk through\" your code one line at a time.  This is called debugging - the process of finding and removing bugs in your code.\n",
    "\n",
    "## 3.1 - Using Thonny's debugger\n",
    "\n",
    "Normally, you run your program in Thonny by pressing on the run button or pressing F5.  We will learn how to use the debugger in Thonny.\n",
    "\n",
    "## 3.2 - Turn on Variable View\n",
    "\n",
    "Up until now, you have been using Thonny in the following layout.\n",
    "\n",
    "![](images/lesson07-1.jpg)\n",
    "\n",
    "To turn on the variable view, following these steps:\n",
    "\n",
    "1. In Thonny, go to the menu item labeled \"View\"\n",
    "1. Select the \"Variables\" item.\n",
    "\n",
    "Thonny should now display an extra view of the variables used in your programs.  The other view options are not needed for this course.\n",
    "\n",
    "![](images/lesson07-2.jpg)"
   ]
  },
  {
   "cell_type": "markdown",
   "metadata": {},
   "source": [
    "## 3.3 - First debugging program\n",
    "\n",
    "Copy and paste the following code into Thonny.  You will need to create a python file to hols this code.\n",
    "\n",
    "```python\n",
    "print('Welcome to my program')\n",
    "age = int(input('Enter your age: '))\n",
    "print('you are', age, 'years old')\n",
    "```\n",
    "\n",
    "If you press F5 (Or click on the run button), you will get the following output if you enter 23 as the age:\n",
    "\n",
    "```\n",
    "Welcome to my program\n",
    "Enter your age: 23\n",
    "you are 23 years old\n",
    "```\n",
    "\n",
    "Next run the program again, this time press Ctrl-F5 or select \"Debug current script\" from the \"Run\" menu.  Thonny will now stop at each line in your program.  you can then step into a function using F7 or step over to the next line using F6.  To stop debugging, click on the red stop sign button.\n",
    "\n",
    "![](images/lesson07-3.jpg)\n"
   ]
  },
  {
   "cell_type": "markdown",
   "metadata": {},
   "source": [
    "## 3.4 - Debugging a function\n",
    "\n",
    "Copy the following code into Thonny.\n",
    "\n",
    "```python\n",
    "def add(a, b):\n",
    "    sum = a + b\n",
    "    return sum\n",
    "\n",
    "sum = add(34, 45)\n",
    "print('sum =', sum)\n",
    "```\n",
    "\n",
    "When you start debugging (press Ctrl-F5), you will be able to step into the add() function.  Below is an example.  Notice that when you step into the add() function, Thonny pop ups a new window.  This is to show you that the add() function has it's own variables.\n",
    "\n",
    "![](images/lesson07-4.jpg)\n",
    "\n"
   ]
  },
  {
   "cell_type": "markdown",
   "metadata": {},
   "source": [
    "## 3.5 - Debugging Exercise\n",
    "\n",
    "Copy the following code into Thonny and run the debugger stepping through and into each function.  Notice the variables view as you do this.\n",
    "\n",
    "```python\n",
    "def getAge():\n",
    "    age = int(input('Enter age: '))\n",
    "    return age\n",
    "\n",
    "\n",
    "def getStudentAges():\n",
    "    ages = []\n",
    "    ages.append(getAge())\n",
    "    ages.append(getAge())\n",
    "    ages.append(getAge())\n",
    "    ages.append(getAge())\n",
    "    ages.append(getAge())\n",
    "    return ages\n",
    "\n",
    "\n",
    "studentAges = getStudentAges()\n",
    "print('Student ages', studentAges)\n",
    "```"
   ]
  },
  {
   "cell_type": "markdown",
   "metadata": {},
   "source": [
    "## 3.6 - Python Shell or Interpreter\n",
    "\n",
    "Finally for this lesson, we will look at the Python Shell.  Run the following code in Thonny.\n",
    "\n",
    "```python\n",
    "def add(a, b):\n",
    "    return (a + b)\n",
    "\n",
    "name = 'John'\n",
    "print('add(3, 4) = ', add(3, 4))\n",
    "```\n",
    "\n",
    "Here is results in Thonny.  Notice that the variables view indicates the function add() and the variable name.\n",
    "\n",
    "![](images/lesson07-5.jpg)\n",
    "\n",
    "If I then click in the shell view and type \"dir()\", I can see the available variables and functions that I can call.  Next, I can call the add() function from the shell.  Note, you can only run the add() function **after** you run the program.  The shell or Interpreter is used for quick testing code if there are bugs in your program.\n",
    "\n",
    "\n",
    "![](images/lesson07-6.jpg)"
   ]
  },
  {
   "cell_type": "markdown",
   "metadata": {},
   "source": [
    "# 4 - Lesson Review\n",
    "\n",
    "In this lesson, you learned;\n",
    "\n",
    "- How to debug your program in Thonny.\n",
    "- How to use the variable view to see the current list of functions and variables in your program.\n",
    "- How to use the Python Interpreter."
   ]
  }
 ],
 "metadata": {
  "kernelspec": {
   "display_name": "Python 3",
   "language": "python",
   "name": "python3"
  },
  "language_info": {
   "codemirror_mode": {
    "name": "ipython",
    "version": 3
   },
   "file_extension": ".py",
   "mimetype": "text/x-python",
   "name": "python",
   "nbconvert_exporter": "python",
   "pygments_lexer": "ipython3",
   "version": "3.6.5"
  }
 },
 "nbformat": 4,
 "nbformat_minor": 2
}
