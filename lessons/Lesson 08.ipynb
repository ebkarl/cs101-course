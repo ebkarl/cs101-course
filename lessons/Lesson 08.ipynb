{
 "cells": [
  {
   "cell_type": "markdown",
   "metadata": {},
   "source": [
    "![](../images/cs101.png)\n",
    "***\n",
    "\n",
    "# 08 - Lesson\n",
    "\n",
    "## Topic of the Week\n",
    "\n",
    "- Review of Lists\n",
    "- Tuples, Dictionaries and Sets\n"
   ]
  },
  {
   "cell_type": "markdown",
   "metadata": {},
   "source": [
    "# 1 - Objectives and Goals\n",
    "\n",
    "Students will:\n",
    "\n",
    "- Understand how to use Tuple, Dictionary and Set data structures in Python\n"
   ]
  },
  {
   "cell_type": "markdown",
   "metadata": {},
   "source": [
    "# 2 - Preparation\n",
    "\n",
    "For this lesson, please review and read:\n",
    "\n",
    "- [Python data structures](https://docs.python.org/3/tutorial/datastructures.html)\n",
    "- [Python Data types](https://www.datacamp.com/community/tutorials/data-structures-python)"
   ]
  },
  {
   "cell_type": "markdown",
   "metadata": {},
   "source": [
    "# 3 - Lesson Details"
   ]
  },
  {
   "cell_type": "markdown",
   "metadata": {},
   "source": [
    "***\n",
    "## 3.1 - Tuple\n",
    "\n",
    "A List is a collection which is ordered and changeable, a tuple is a collection which is ordered and **unchangeable**. On the surface they look and are used the sample.  The main different is that the append() function only works on a List.\n",
    "\n",
    "The main reason to use a tuple over a list is:\n",
    "\n",
    "1. Fixed data that doesn't change.  For example, names of states.\n",
    "2. Speed.  Since you can't change the values in a tuple once created, it runs faster in your program.\n",
    "\n",
    "[For more information on Python Tuple](https://www.tutorialspoint.com/python3/python_tuples.htm)"
   ]
  },
  {
   "cell_type": "code",
   "execution_count": 69,
   "metadata": {},
   "outputs": [
    {
     "name": "stdout",
     "output_type": "stream",
     "text": [
      "List - created with []:\n",
      "['apple', 'grape', 'orange']\n",
      "grape\n",
      "\n",
      "Tuple - created with ():\n",
      "('apple', 'grape', 'orange')\n",
      "grape\n"
     ]
    }
   ],
   "source": [
    "# Examples between List and Tuple\n",
    "\n",
    "print('List - created with []:')\n",
    "fruitList = ['apple', 'grape', 'orange']\n",
    "print(fruitList)\n",
    "print(fruitList[1])\n",
    "\n",
    "print('\\nTuple - created with ():')\n",
    "fruitTuple = ('apple', 'grape', 'orange')\n",
    "print(fruitTuple)\n",
    "print(fruitTuple[1])\n"
   ]
  },
  {
   "cell_type": "markdown",
   "metadata": {},
   "source": [
    "### Tuples can be created two methods:\n",
    "\n",
    "1) Using ()\n",
    "\n",
    "> grades = (90.4, 89.0, 99.9)\n",
    "\n",
    "2) Using tuple()\n",
    "\n",
    "> grades = tuple(90.4, 89.0, 99.9)"
   ]
  },
  {
   "cell_type": "markdown",
   "metadata": {},
   "source": [
    "### Lists and Tuples are accessed the same way.  "
   ]
  },
  {
   "cell_type": "code",
   "execution_count": 70,
   "metadata": {},
   "outputs": [
    {
     "name": "stdout",
     "output_type": "stream",
     "text": [
      "89.0\n"
     ]
    }
   ],
   "source": [
    "# You can index into them starting at index 0\n",
    "\n",
    "grades = (90.4, 89.0, 99.9)\n",
    "print(grades[1])"
   ]
  },
  {
   "cell_type": "code",
   "execution_count": 71,
   "metadata": {},
   "outputs": [
    {
     "name": "stdout",
     "output_type": "stream",
     "text": [
      "3\n"
     ]
    }
   ],
   "source": [
    "# You can use the len() function\n",
    "\n",
    "grades = (90.4, 89.0, 99.9)\n",
    "print(len(grades))"
   ]
  },
  {
   "cell_type": "code",
   "execution_count": 72,
   "metadata": {},
   "outputs": [
    {
     "name": "stdout",
     "output_type": "stream",
     "text": [
      "Is 45 in values =  True\n",
      "Is 100 in values =  False\n"
     ]
    }
   ],
   "source": [
    "# You can use the \"in\" command\n",
    "\n",
    "values = (1, 6, 45, 76, 23, -10, 5)\n",
    "print('Is 45 in values = ', 45 in values)\n",
    "print('Is 100 in values = ', 100 in values)"
   ]
  },
  {
   "cell_type": "markdown",
   "metadata": {},
   "source": [
    "***\n",
    "## 3.2 - Dictionary\n",
    "\n",
    "A dictionary in Python is:\n",
    "\n",
    "1. a mapping of unique keys to values. \n",
    "1. they are mutable, which means they can be changed. \n",
    "1. they are unordered, so the order that the keys are added doesn't necessarily reflect what order they may be reported back.\n",
    "\n",
    "### Key Value Pair\n",
    "\n",
    "Dictionaries are used to hold values that are accessed using an unique key.  The most common key types are numbers and strings.  The value part of the pair can be any type of data that you want to associate with that key.\n",
    "\n",
    "examples:\n",
    "\n",
    "```\n",
    "'test1' -> 99.9\n",
    "'test2' -> 95.4\n",
    "'ID' -> 'Idaho'\n",
    "'grades' -> [89, 90, 98]\n",
    "```\n",
    "\n",
    "\n",
    "\n"
   ]
  },
  {
   "cell_type": "markdown",
   "metadata": {},
   "source": [
    "### Dictionaries are created with {}:\n",
    "\n",
    "> grades = {'test1' : 89.0, 'test2' : 99.0}\n",
    "\n",
    "### Adding to a Dictionary\n",
    "\n",
    "Since yuou can add to a dictionary, you can create an empty one and then add to it as with did with Lists in past.  Instead of using the append() function, you use \"[]\" to add the access keys in the dictionary.\n"
   ]
  },
  {
   "cell_type": "code",
   "execution_count": 73,
   "metadata": {},
   "outputs": [
    {
     "name": "stdout",
     "output_type": "stream",
     "text": [
      "{'test1': 89.0, 'test2': 99.0, 'test3': 79.0, 'test4': 99.0}\n"
     ]
    }
   ],
   "source": [
    "# Creating a dictionary and adding to it\n",
    "\n",
    "grades = {}\n",
    "\n",
    "grades['test1'] = 89.0\n",
    "grades['test2'] = 99.0\n",
    "grades['test3'] = 79.0\n",
    "grades['test4'] = 99.0\n",
    "\n",
    "print(grades)\n"
   ]
  },
  {
   "cell_type": "code",
   "execution_count": 74,
   "metadata": {},
   "outputs": [
    {
     "name": "stdout",
     "output_type": "stream",
     "text": [
      "{'house': 'maison', 'tree': 'arbre', 'car': 'voiture'}\n",
      "House in French is maison\n"
     ]
    }
   ],
   "source": [
    "# Creating a French to English dictionary\n",
    "\n",
    "french = {}\n",
    "\n",
    "french['house'] = 'maison'\n",
    "french['tree'] = 'arbre'\n",
    "french['car'] = 'voiture'\n",
    "\n",
    "print(french)\n",
    "print('House in French is', french['house'])\n"
   ]
  },
  {
   "cell_type": "code",
   "execution_count": 75,
   "metadata": {},
   "outputs": [
    {
     "name": "stdout",
     "output_type": "stream",
     "text": [
      "{'A': '.-', 'B': '-...', 'C': '-.-.', 'D': '-..', 'E': '.', 'F': '..-.', 'G': '--.', 'H': '....', 'I': '..', 'J': '.---', 'K': '-.-', 'L': '.-..', 'M': '--', 'N': '-.', 'O': '---', 'P': '.--.', 'Q': '--.-', 'R': '.-.', 'S': '...', 'T': '-', 'U': '..-', 'V': '...-', 'W': '.--', 'X': '-..-', 'Y': '-.--', 'Z': '--..', '0': '-----', '1': '.----', '2': '..---', '3': '...--', '4': '....-', '5': '.....', '6': '-....', '7': '--...', '8': '---..', '9': '----.', '.': '.-.-.-', ',': '--..--'}\n",
      "len()) of morse 38\n",
      "Is 'A' in morse:  True\n",
      "Is 'a' in morse:  False\n",
      "USA =  ..- ... .-\n",
      "Canada =  -.-. .- -. .- -.. .-\n",
      "SOS =  ... --- ...\n"
     ]
    }
   ],
   "source": [
    "# Dictionary Morse Code Example\n",
    "\n",
    "# Question: What would I need to add to be able to handle lower case letters?\n",
    "\n",
    "morse = {\n",
    "    \"A\" : \".-\", \n",
    "    \"B\" : \"-...\", \n",
    "    \"C\" : \"-.-.\", \n",
    "    \"D\" : \"-..\", \n",
    "    \"E\" : \".\", \n",
    "    \"F\" : \"..-.\", \n",
    "    \"G\" : \"--.\", \n",
    "    \"H\" : \"....\", \n",
    "    \"I\" : \"..\", \n",
    "    \"J\" : \".---\", \n",
    "    \"K\" : \"-.-\", \n",
    "    \"L\" : \".-..\", \n",
    "    \"M\" : \"--\", \n",
    "    \"N\" : \"-.\", \n",
    "    \"O\" : \"---\", \n",
    "    \"P\" : \".--.\", \n",
    "    \"Q\" : \"--.-\", \n",
    "    \"R\" : \".-.\", \n",
    "    \"S\" : \"...\", \n",
    "    \"T\" : \"-\", \n",
    "    \"U\" : \"..-\", \n",
    "    \"V\" : \"...-\", \n",
    "    \"W\" : \".--\", \n",
    "    \"X\" : \"-..-\", \n",
    "    \"Y\" : \"-.--\", \n",
    "    \"Z\" : \"--..\", \n",
    "    \"0\" : \"-----\", \n",
    "    \"1\" : \".----\", \n",
    "    \"2\" : \"..---\", \n",
    "    \"3\" : \"...--\", \n",
    "    \"4\" : \"....-\", \n",
    "    \"5\" : \".....\", \n",
    "    \"6\" : \"-....\", \n",
    "    \"7\" : \"--...\", \n",
    "    \"8\" : \"---..\", \n",
    "    \"9\" : \"----.\", \n",
    "    \".\" : \".-.-.-\", \n",
    "    \",\" : \"--..--\"\n",
    "}\n",
    "print(morse)\n",
    "print('len()) of morse', len(morse))\n",
    "print(\"Is 'A' in morse: \", 'A' in morse)\n",
    "print(\"Is 'a' in morse: \", 'a' in morse)\n",
    "print('USA = ', morse['U'], morse['S'], morse['A'])\n",
    "print('Canada = ', morse['C'], morse['A'], morse['N'], morse['A'], morse['D'], morse['A'])\n",
    "print('SOS = ', morse['S'], morse['O'], morse['S'])\n"
   ]
  },
  {
   "cell_type": "markdown",
   "metadata": {},
   "source": [
    "***\n",
    "## 3.3 - Set\n",
    "\n",
    "A set in Python is:\n",
    "\n",
    "1. unordered group of values.\n",
    "1. they are mutable, which means they can be changed.\n",
    "1. can be used in math programs.\n",
    "\n",
    "Below is from [Snakify Lessons website](https://snakify.org/lessons/sets/)\n",
    "\n",
    "\n",
    "> Set in Python is a data structure equivalent to sets in mathematics. It may consist of various elements; the order of elements in a set is undefined. You can add and delete elements of a set, you can iterate the elements of the set, you can perform standard operations on sets (union, intersection, difference). Besides that, you can check if an element belongs to a set.\n",
    "\n",
    "> Unlike arrays, where the elements are stored as ordered list, the order of elements in a set is undefined (moreover, the set elements are usually not stored in order of appearance in the set; this allows checking if an element belongs to a set faster than just going through all the elements of the set).\n",
    "\n",
    "> Any immutable data type can be an element of a set: a number, a string, a tuple. Mutable (changeable) data types cannot be elements of the set. In particular, list cannot be an element of a set (but tuple can), and another set cannot be an element of a set. The requirement of immutability follows from the way how do computers represent sets in memory.\n"
   ]
  },
  {
   "cell_type": "markdown",
   "metadata": {},
   "source": [
    "### Dictionaries are created with the set() function:\n",
    "\n",
    "> items = set([1, 2, 3, 4])\n",
    "\n",
    "Note, that you need to use a List to create a set or a string\n",
    "\n",
    "> letters = set(\"house\")\n",
    "\n",
    "\n",
    "### Adding to a set\n",
    "\n",
    "You can add to a set using the add() function.\n"
   ]
  },
  {
   "cell_type": "code",
   "execution_count": 76,
   "metadata": {},
   "outputs": [
    {
     "name": "stdout",
     "output_type": "stream",
     "text": [
      "set()\n",
      "{'car', 'house', 'truck', 'tree'}\n"
     ]
    }
   ],
   "source": [
    "# Example of adding to a set\n",
    "\n",
    "things = set()\n",
    "print(things)\n",
    "\n",
    "things.add('car')\n",
    "things.add('tree')\n",
    "things.add('house')\n",
    "things.add('truck')\n",
    "\n",
    "print(things)\n"
   ]
  },
  {
   "cell_type": "code",
   "execution_count": 77,
   "metadata": {},
   "outputs": [
    {
     "name": "stdout",
     "output_type": "stream",
     "text": [
      "set1 =  {1, 2, 3}\n",
      "set2 =  {3, 4, 5}\n",
      "union        = {1, 2, 3, 4, 5}\n",
      "intersection = {3}\n",
      "difference   = {1, 2}\n"
     ]
    }
   ],
   "source": [
    "# join sets together\n",
    "\n",
    "set1 = set([1, 2, 3])\n",
    "set2 = set([3, 4, 5])\n",
    "print('set1 = ', set1)\n",
    "print('set2 = ', set2)\n",
    "\n",
    "print('union        =', set1.union(set2))\n",
    "print('intersection =', set1.intersection(set2))\n",
    "print('difference   =', set1.difference(set2))\n"
   ]
  },
  {
   "cell_type": "markdown",
   "metadata": {},
   "source": [
    "# 4 - Lesson Review\n",
    "\n",
    "\n",
    "| data type  | How to Create  | Ordered?  | Changable?  | Used for  |\n",
    "|---|---|---|---|---|\n",
    "| List  | []  | Yes  | Yes  | Add, delete, add values to an array  |\n",
    "| Tuple  | ()  | Yes  | No  | Quick fast access to array of values |\n",
    "| Dictionary  | {}  | No  | Yes  | Key -> Value Lookup  |\n",
    "| Set  | set()  | No  | Yes  | Math  |\n"
   ]
  }
 ],
 "metadata": {
  "kernelspec": {
   "display_name": "Python 3",
   "language": "python",
   "name": "python3"
  },
  "language_info": {
   "codemirror_mode": {
    "name": "ipython",
    "version": 3
   },
   "file_extension": ".py",
   "mimetype": "text/x-python",
   "name": "python",
   "nbconvert_exporter": "python",
   "pygments_lexer": "ipython3",
   "version": "3.6.5"
  }
 },
 "nbformat": 4,
 "nbformat_minor": 2
}
