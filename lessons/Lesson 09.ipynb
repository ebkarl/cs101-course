{
 "cells": [
  {
   "cell_type": "markdown",
   "metadata": {},
   "source": [
    "![](../images/cs101.png)\n",
    "***\n",
    "\n",
    "# 09 - Lesson\n",
    "\n",
    "## Topic of the Week\n",
    "\n",
    "- For and While Loops - Part 1\n"
   ]
  },
  {
   "cell_type": "markdown",
   "metadata": {},
   "source": [
    "# 1 - Objectives and Goals\n",
    "\n",
    "Students will:\n",
    "\n",
    "- Understand how to use **while** and **for** loops\n"
   ]
  },
  {
   "cell_type": "markdown",
   "metadata": {},
   "source": [
    "# 2 - Preparation\n",
    "\n",
    "For this lesson, please review and read:\n",
    "\n",
    "- https://www.tutorialspoint.com/python/python_for_loop.htm\n",
    "- https://wiki.python.org/moin/ForLoop\n",
    "- [While loop video](https://www.youtube.com/watch?v=jSs58VZVLw8)\n",
    "- [For loop video](https://www.youtube.com/watch?v=xtXexPSfcZg)\n"
   ]
  },
  {
   "cell_type": "markdown",
   "metadata": {},
   "source": [
    "# 3 - Lesson Details"
   ]
  },
  {
   "cell_type": "markdown",
   "metadata": {},
   "source": [
    "***\n",
    "## 3.1 - While Loop\n",
    "\n",
    "A While loop is used to repeat something until a condition is satisfied.  For Example: loop until the user enters an avail month, loop until the the user types 3 grades.\n",
    "\n",
    "### 3.1.1 - Syntax  of a while loop\n",
    "\n",
    "The following are code examples of while loop\n"
   ]
  },
  {
   "cell_type": "code",
   "execution_count": 20,
   "metadata": {},
   "outputs": [
    {
     "name": "stdout",
     "output_type": "stream",
     "text": [
      "1\n",
      "2\n",
      "3\n",
      "4\n"
     ]
    }
   ],
   "source": [
    "# This will loop from numbers 1 to 4\n",
    "\n",
    "count = 1\n",
    "while (count < 5):\n",
    "    print(count)\n",
    "    count += 1"
   ]
  },
  {
   "cell_type": "code",
   "execution_count": 21,
   "metadata": {},
   "outputs": [
    {
     "name": "stdout",
     "output_type": "stream",
     "text": [
      "Please enter a valid month: 34\n",
      "Please enter a valid month: 8\n",
      "You entered the month = August\n"
     ]
    }
   ],
   "source": [
    "# This will ask the user for a month, if the user enters a invalid month number, the code\n",
    "# will continue to request a month.\n",
    "\n",
    "def displayMonthName(number):\n",
    "    months = ['January', 'February', 'March', 'April', 'May', 'June', 'July',\n",
    "              'August', 'September', 'October', 'November', 'December']\n",
    "    return months[number - 1]\n",
    "\n",
    "    \n",
    "done = False\n",
    "while (not done):\n",
    "    month = int(input('Please enter a valid month: '))\n",
    "    if (month >= 1 and month <= 12):\n",
    "        done = True\n",
    "print('You entered the month =', displayMonthName(month))"
   ]
  },
  {
   "cell_type": "code",
   "execution_count": 22,
   "metadata": {},
   "outputs": [],
   "source": [
    "# TODO - Write code to ask for grades from a user until a value of 0 is entered.  \n",
    "# Also, Add the values into a list and display it when done.\n",
    "\n"
   ]
  },
  {
   "cell_type": "code",
   "execution_count": 23,
   "metadata": {},
   "outputs": [],
   "source": [
    "# TODO - Write code to display powers of 2 until the value is over 1,000,000\n",
    "\n"
   ]
  },
  {
   "cell_type": "markdown",
   "metadata": {},
   "source": [
    "***\n",
    "## 3.2 - For Loop\n",
    "\n",
    "A for loop is used to process a list or a range of values.  The main difference between while nad for loop is that a while is used to do something until it's done and a for loop is generally used when you know how many times you want to loop.\n",
    "\n",
    "### 3.2.1 - Syntax of a for loop\n"
   ]
  },
  {
   "cell_type": "code",
   "execution_count": 24,
   "metadata": {},
   "outputs": [
    {
     "name": "stdout",
     "output_type": "stream",
     "text": [
      "John\n",
      "Mary\n",
      "Fred\n"
     ]
    }
   ],
   "source": [
    "# loop through a list of names\n",
    "\n",
    "names = ['John', 'Mary', 'Fred']\n",
    "for i in names:\n",
    "    print(i)"
   ]
  },
  {
   "cell_type": "code",
   "execution_count": 25,
   "metadata": {},
   "outputs": [
    {
     "name": "stdout",
     "output_type": "stream",
     "text": [
      "J\n",
      "o\n",
      "h\n",
      "n\n",
      " \n",
      "S\n",
      "m\n",
      "i\n",
      "t\n",
      "h\n"
     ]
    }
   ],
   "source": [
    "# Loop through a string\n",
    "\n",
    "name = 'John Smith'\n",
    "for i in name:\n",
    "    print(i)"
   ]
  },
  {
   "cell_type": "code",
   "execution_count": 26,
   "metadata": {},
   "outputs": [
    {
     "name": "stdout",
     "output_type": "stream",
     "text": [
      "sum = 114\n"
     ]
    }
   ],
   "source": [
    "# Loop through a list of values adding them up\n",
    "\n",
    "numbers = [12, 23, 34, 45]\n",
    "sum = 0\n",
    "for i in numbers:\n",
    "    sum += i\n",
    "print('sum =', sum)"
   ]
  },
  {
   "cell_type": "code",
   "execution_count": 27,
   "metadata": {},
   "outputs": [
    {
     "name": "stdout",
     "output_type": "stream",
     "text": [
      "0\n",
      "1\n",
      "2\n",
      "3\n",
      "4\n",
      "5\n"
     ]
    }
   ],
   "source": [
    "# Display numbers from 0 to 5\n",
    "\n",
    "for i in range(6):\n",
    "    print(i)"
   ]
  },
  {
   "cell_type": "code",
   "execution_count": 28,
   "metadata": {},
   "outputs": [
    {
     "name": "stdout",
     "output_type": "stream",
     "text": [
      "4\n",
      "5\n",
      "6\n",
      "7\n",
      "8\n"
     ]
    }
   ],
   "source": [
    "# Display numbers from 4 to 8\n",
    "\n",
    "for i in range(4, 9):\n",
    "    print(i)"
   ]
  },
  {
   "cell_type": "code",
   "execution_count": 29,
   "metadata": {},
   "outputs": [
    {
     "name": "stdout",
     "output_type": "stream",
     "text": [
      "0\n",
      "3\n",
      "6\n",
      "9\n",
      "12\n",
      "15\n",
      "18\n"
     ]
    }
   ],
   "source": [
    "# Display numbers that are multiple of 3 under 20\n",
    "\n",
    "for i in range(0, 20, 3):\n",
    "    print(i)"
   ]
  },
  {
   "cell_type": "code",
   "execution_count": 30,
   "metadata": {},
   "outputs": [],
   "source": [
    "# TODO - Write a for loop to find the largest number in a list\n",
    "\n"
   ]
  },
  {
   "cell_type": "code",
   "execution_count": 31,
   "metadata": {},
   "outputs": [
    {
     "name": "stdout",
     "output_type": "stream",
     "text": [
      "34 was not found\n"
     ]
    }
   ],
   "source": [
    "# TODO - Complete the following function that uses a for to see if a value is in a list of numbers\n",
    "\n",
    "def isFound(value, numbers):\n",
    "    # Add your code here - use a for loop\n",
    "    pass\n",
    "\n",
    "\n",
    "numbers = [1, 2, 43, 54, 65, 87, 65, 543, 43, 321, 543, 1, 33, 22, 44, 33, 55]\n",
    "if (isFound(34, numbers)):\n",
    "    print('34 was found')\n",
    "else:\n",
    "    print('34 was not found')\n"
   ]
  },
  {
   "cell_type": "markdown",
   "metadata": {},
   "source": [
    "# 4 - Lesson Review\n",
    "\n",
    "Using loops in programs is very powerful.  You have the choice of while and for loops. "
   ]
  }
 ],
 "metadata": {
  "kernelspec": {
   "display_name": "Python 3",
   "language": "python",
   "name": "python3"
  },
  "language_info": {
   "codemirror_mode": {
    "name": "ipython",
    "version": 3
   },
   "file_extension": ".py",
   "mimetype": "text/x-python",
   "name": "python",
   "nbconvert_exporter": "python",
   "pygments_lexer": "ipython3",
   "version": "3.6.5"
  }
 },
 "nbformat": 4,
 "nbformat_minor": 2
}
