{
 "cells": [
  {
   "cell_type": "markdown",
   "metadata": {},
   "source": [
    "![](../images/cs101.png)\n",
    "***\n",
    "\n",
    "# 12 - Lesson : Lists (Part 2)\n"
   ]
  },
  {
   "cell_type": "markdown",
   "metadata": {},
   "source": [
    "# 0 - Coding Examples in This Lesson\n",
    "\n",
    "There are many small coding examples in this lesson.  I would strongly suggest that you type these examples in Thonny (or your Python IDE) to better understand the code."
   ]
  },
  {
   "cell_type": "markdown",
   "metadata": {},
   "source": [
    "# 1 - Objectives and Goals\n",
    "\n",
    "Students will:\n",
    "\n",
    "- learn more advanced functions and methods of using Python lists.\n"
   ]
  },
  {
   "cell_type": "markdown",
   "metadata": {},
   "source": [
    "# 2 - Preparation\n",
    "\n",
    "For this lesson, please review and read:\n",
    "\n",
    "- read last week's lesson of lists (Part 1)\n"
   ]
  },
  {
   "cell_type": "markdown",
   "metadata": {},
   "source": [
    "# 3 - Lesson Details\n",
    "\n",
    "We will be looking at more advanced functions and methods of using Python lists.  "
   ]
  },
  {
   "cell_type": "markdown",
   "metadata": {},
   "source": [
    "## Indexing\n",
    "\n",
    "This is a review of last week's lesson.  When you have a list, you can access individual items in that list using `[]` brackets.  Note that indexing starts with zero `[0]`."
   ]
  },
  {
   "cell_type": "code",
   "execution_count": 109,
   "metadata": {},
   "outputs": [
    {
     "name": "stdout",
     "output_type": "stream",
     "text": [
      "90 80\n"
     ]
    }
   ],
   "source": [
    "# Accessing the first 2 items of a list\n",
    "grades = [90, 80, 70, 98]\n",
    "print(grades[0], grades[1])"
   ]
  },
  {
   "cell_type": "code",
   "execution_count": 110,
   "metadata": {},
   "outputs": [
    {
     "name": "stdout",
     "output_type": "stream",
     "text": [
      "98 70\n"
     ]
    }
   ],
   "source": [
    "# Accessing the last items in a list using negative indexing\n",
    "grades = [90, 80, 70, 98]\n",
    "print(grades[-1], grades[-2])"
   ]
  },
  {
   "cell_type": "code",
   "execution_count": 111,
   "metadata": {},
   "outputs": [
    {
     "name": "stdout",
     "output_type": "stream",
     "text": [
      "c\n"
     ]
    }
   ],
   "source": [
    "# Accessing the middle item of a list\n",
    "letters = ['a', 'b', 'c', 'd', 'e']\n",
    "\n",
    "# len(letters) is the number of items in the list and \"// 2\" divides that count by half\n",
    "print(letters[len(letters) // 2])"
   ]
  },
  {
   "cell_type": "markdown",
   "metadata": {},
   "source": [
    "## Sorting\n",
    "\n",
    "It is very easy to sort the values of a list using the `sort()` function.  Note that when you use `sort()` it will change the order of the items in that list."
   ]
  },
  {
   "cell_type": "code",
   "execution_count": 112,
   "metadata": {},
   "outputs": [
    {
     "name": "stdout",
     "output_type": "stream",
     "text": [
      "Before: [25, 10, 25, 1, 5, 1, 10]\n",
      "After : [1, 1, 5, 10, 10, 25, 25]\n"
     ]
    }
   ],
   "source": [
    "# sort values from smallest to largest\n",
    "money = [25, 10, 25, 1, 5, 1, 10]\n",
    "print('Before:', money)\n",
    "\n",
    "money.sort()\n",
    "print('After :', money)"
   ]
  },
  {
   "cell_type": "markdown",
   "metadata": {},
   "source": [
    "## Concatenation\n",
    "\n",
    "There are times when you might need to join or conbine two lists together.  This is called `Concatenation` in Python.  The operator for concatenation is `+`."
   ]
  },
  {
   "cell_type": "code",
   "execution_count": 113,
   "metadata": {},
   "outputs": [
    {
     "name": "stdout",
     "output_type": "stream",
     "text": [
      "Fruits  : ['pear', 'grape']\n",
      "Vegs    : ['carrot', 'green bean', 'pea']\n",
      "New list: ['pear', 'grape', 'carrot', 'green bean', 'pea']\n"
     ]
    }
   ],
   "source": [
    "# Combine two lists together\n",
    "fruits = ['pear', 'grape']\n",
    "vegs = ['carrot', 'green bean', 'pea']\n",
    "newList = fruit + vegs\n",
    "\n",
    "print('Fruits  :', fruits)\n",
    "print('Vegs    :', vegs)\n",
    "print('New list:', newList)"
   ]
  },
  {
   "cell_type": "code",
   "execution_count": 114,
   "metadata": {},
   "outputs": [
    {
     "name": "stdout",
     "output_type": "stream",
     "text": [
      "Numbers : [1, 2, 3, 4, 5]\n",
      "Letters : ['a', 'b', 'c', 'd', 'e', 'f']\n",
      "New list: [1, 2, 3, 4, 5, 'a', 'b', 'c', 'd', 'e', 'f']\n"
     ]
    }
   ],
   "source": [
    "# Combine two lists together\n",
    "numbers = [1, 2, 3, 4, 5]\n",
    "letters = ['a', 'b', 'c', 'd', 'e', 'f']\n",
    "newList = numbers + letters\n",
    "\n",
    "print('Numbers :', numbers)\n",
    "print('Letters :', letters)\n",
    "print('New list:', newList)"
   ]
  },
  {
   "cell_type": "code",
   "execution_count": 115,
   "metadata": {},
   "outputs": [
    {
     "name": "stdout",
     "output_type": "stream",
     "text": [
      "Numbers: [0, 1, 2, 3, 4]\n"
     ]
    }
   ],
   "source": [
    "# Add numbers to a list one at a time\n",
    "numbers = []\n",
    "for i in range(5):\n",
    "    numbers += [i]\n",
    "print('Numbers:', numbers)"
   ]
  },
  {
   "cell_type": "markdown",
   "metadata": {},
   "source": [
    "## Iteration\n",
    "\n",
    "You can iterate through all of the items of a list.  `for` loops are great for this."
   ]
  },
  {
   "cell_type": "code",
   "execution_count": 116,
   "metadata": {},
   "outputs": [
    {
     "name": "stdout",
     "output_type": "stream",
     "text": [
      "34\n",
      "456\n",
      "23\n",
      "65\n",
      "21\n"
     ]
    }
   ],
   "source": [
    "# Display all numbers of a list. It this example, the variable 'i' will be each value one at a time\n",
    "numbers = [34, 456, 23, 65, 21]\n",
    "for i in numbers:\n",
    "    print(i)"
   ]
  },
  {
   "cell_type": "code",
   "execution_count": 117,
   "metadata": {},
   "outputs": [
    {
     "name": "stdout",
     "output_type": "stream",
     "text": [
      "1 1 1 1\n",
      "2 4 8 16\n",
      "3 9 27 81\n",
      "4 16 64 256\n",
      "5 25 125 625\n",
      "6 36 216 1296\n"
     ]
    }
   ],
   "source": [
    "# Display all numbers of a list and their \"powers\" of 2, 3 and 4\n",
    "numbers = [1, 2, 3, 4, 5, 6]\n",
    "for i in numbers:\n",
    "    print(i, i ** 2, i ** 3, i ** 4)"
   ]
  },
  {
   "cell_type": "code",
   "execution_count": 118,
   "metadata": {},
   "outputs": [
    {
     "name": "stdout",
     "output_type": "stream",
     "text": [
      "1 1 1 1\n",
      "2 4 8 16\n",
      "3 9 27 81\n",
      "4 16 64 256\n",
      "5 25 125 625\n",
      "6 36 216 1296\n"
     ]
    }
   ],
   "source": [
    "# Display all numbers of a list and their \"powers\" of 2, 3 and 4\n",
    "for i in [1, 2, 3, 4, 5, 6]:\n",
    "    print(i, i ** 2, i ** 3, i ** 4)"
   ]
  },
  {
   "cell_type": "markdown",
   "metadata": {},
   "source": [
    "## Repetition\n",
    "\n",
    "There are times when you need to create a list that contains a certain number of items that are the same."
   ]
  },
  {
   "cell_type": "code",
   "execution_count": 119,
   "metadata": {},
   "outputs": [
    {
     "name": "stdout",
     "output_type": "stream",
     "text": [
      "[100, 100, 100, 100, 100, 100, 100, 100, 100, 100]\n"
     ]
    }
   ],
   "source": [
    "# Create a list of 10 grades that are all 100\n",
    "grades = [100] * 10\n",
    "print(grades)"
   ]
  },
  {
   "cell_type": "code",
   "execution_count": 120,
   "metadata": {},
   "outputs": [
    {
     "name": "stdout",
     "output_type": "stream",
     "text": [
      "[0, 0, 0, 0, 0, 0, 0, 0, 0, 0, 0, 0, 0, 0, 0, 0, 0, 0, 0, 0, 0, 0, 0, 0, 0, 0, 0, 0, 0, 0, 0, 0, 0, 0, 0, 0, 0, 0, 0, 0, 0, 0, 0, 0, 0, 0, 0, 0, 0, 0, 0, 0, 0, 0, 0, 0, 0, 0, 0, 0, 0, 0, 0, 0, 0, 0, 0, 0, 0, 0, 0, 0, 0, 0, 0, 0, 0, 0, 0, 0, 0, 0, 0, 0, 0, 0, 0, 0, 0, 0, 0, 0, 0, 0, 0, 0, 0, 0, 0, 0]\n"
     ]
    }
   ],
   "source": [
    "# Create a list of 100 zeros\n",
    "zeros = [0] * 100\n",
    "print(zeros)"
   ]
  },
  {
   "cell_type": "code",
   "execution_count": 121,
   "metadata": {},
   "outputs": [
    {
     "name": "stdout",
     "output_type": "stream",
     "text": [
      "['abc', 'abc', 'abc', 'abc', 'abc', 'abc', 'abc', 'abc', 'abc', 'abc', 'abc', 'abc', 'abc', 'abc']\n"
     ]
    }
   ],
   "source": [
    "# Create a list of 14 strings of 'abc'\n",
    "abc = ['abc'] * 14\n",
    "print(abc)"
   ]
  },
  {
   "cell_type": "code",
   "execution_count": 122,
   "metadata": {},
   "outputs": [
    {
     "name": "stdout",
     "output_type": "stream",
     "text": [
      "['abc', 55, False, 'abc', 55, False, 'abc', 55, False, 'abc', 55, False]\n"
     ]
    }
   ],
   "source": [
    "# Create a list of 4 sets of ['abc', 55, False]\n",
    "values = ['abc', 55, False] * 4\n",
    "print(values)"
   ]
  },
  {
   "cell_type": "code",
   "execution_count": 123,
   "metadata": {},
   "outputs": [
    {
     "name": "stdout",
     "output_type": "stream",
     "text": [
      "Before: [1, 5, 10]\n",
      "After : [1, 5, 10, 25, 25, 25]\n"
     ]
    }
   ],
   "source": [
    "# Add 3 values of 25 to a list (Using concatenation and repetition)\n",
    "values = [1, 5, 10]\n",
    "print('Before:', values)\n",
    "\n",
    "values += [25] * 3\n",
    "print('After :', values)"
   ]
  },
  {
   "cell_type": "code",
   "execution_count": 124,
   "metadata": {},
   "outputs": [
    {
     "name": "stdout",
     "output_type": "stream",
     "text": [
      "Before: [1, 5, 10]\n",
      "After : [1, 5, 10, 25, 25, 25]\n"
     ]
    }
   ],
   "source": [
    "# Add 3 values of 25 to a list (Using concatenation)\n",
    "values = [1, 5, 10]\n",
    "print('Before:', values)\n",
    "\n",
    "values += [25, 25, 25]\n",
    "print('After :', values)"
   ]
  },
  {
   "cell_type": "code",
   "execution_count": 125,
   "metadata": {},
   "outputs": [
    {
     "name": "stdout",
     "output_type": "stream",
     "text": [
      "Before: [1, 5, 10]\n",
      "After : [1, 5, 10, 25, 25, 25]\n"
     ]
    }
   ],
   "source": [
    "# Add 3 values of 25 to a list (Using a loop and append())\n",
    "values = [1, 5, 10]\n",
    "print('Before:', values)\n",
    "\n",
    "for i in range(3):\n",
    "    values.append(25)\n",
    "print('After :', values)"
   ]
  },
  {
   "cell_type": "markdown",
   "metadata": {},
   "source": [
    "## Pop\n",
    "\n",
    "When you need to remove an item from a list, you can use the `pop()` function.  It removes the item and allows you to use that item.  The `pop()` function takes an argument that will allow you to indicate which item in the list to remove or \"pop\"."
   ]
  },
  {
   "cell_type": "code",
   "execution_count": 126,
   "metadata": {},
   "outputs": [
    {
     "name": "stdout",
     "output_type": "stream",
     "text": [
      "Before: [100, 200, 300, 400]\n",
      "First item = 100\n",
      "After : [200, 300, 400]\n",
      "Next item = 200\n",
      "After : [300, 400]\n"
     ]
    }
   ],
   "source": [
    "# Remove the first item from a list and display it.\n",
    "values = [100, 200, 300, 400]\n",
    "print('Before:', values)\n",
    "\n",
    "firstItem = values.pop(0)\n",
    "print('First item =', firstItem)\n",
    "print('After :', values)\n",
    "\n",
    "nextItem = values.pop(0)\n",
    "print('Next item =', nextItem)\n",
    "print('After :', values)"
   ]
  },
  {
   "cell_type": "code",
   "execution_count": 127,
   "metadata": {},
   "outputs": [
    {
     "name": "stdout",
     "output_type": "stream",
     "text": [
      "Before: [100, 200, 300, 400]\n",
      "Last item = 400\n",
      "After : [100, 200, 300]\n"
     ]
    }
   ],
   "source": [
    "# Remove the last item from a list and display it. Notice that this is negative indexing.\n",
    "values = [100, 200, 300, 400]\n",
    "print('Before:', values)\n",
    "\n",
    "item = values.pop(-1)\n",
    "print('Last item =', item)\n",
    "print('After :', values)"
   ]
  },
  {
   "cell_type": "code",
   "execution_count": 128,
   "metadata": {},
   "outputs": [
    {
     "name": "stdout",
     "output_type": "stream",
     "text": [
      "Before: [55, 66, 77, 33, 99]\n",
      "Sorted: [33, 55, 66, 77, 99]\n",
      "Smallest = 33\n",
      "After : [55, 66, 77, 99]\n"
     ]
    }
   ],
   "source": [
    "# Remove smallest values from a list.\n",
    "values = [55, 66, 77, 33, 99]\n",
    "print('Before:', values)\n",
    "\n",
    "values.sort()\n",
    "print('Sorted:', values)\n",
    "\n",
    "smallest = values.pop(0)\n",
    "print('Smallest =', smallest)\n",
    "print('After :', values)"
   ]
  },
  {
   "cell_type": "code",
   "execution_count": 129,
   "metadata": {},
   "outputs": [
    {
     "name": "stdout",
     "output_type": "stream",
     "text": [
      "Before: [100, 200, 300, 400]\n",
      "Popped 100 Current values: [200, 300, 400]\n",
      "Popped 200 Current values: [300, 400]\n",
      "Popped 300 Current values: [400]\n",
      "Popped 400 Current values: []\n",
      "Resulting list: []\n"
     ]
    }
   ],
   "source": [
    "# Remove all of the items from a list one at a time\n",
    "values = [100, 200, 300, 400]\n",
    "print('Before:', values)\n",
    "\n",
    "# While the length of the list is > 0 (or while there are items in the list)\n",
    "while (len(values) > 0):\n",
    "    popped = values.pop(0)\n",
    "    print('Popped', popped, 'Current values:', values)\n",
    "    \n",
    "print('Resulting list:', values)\n"
   ]
  },
  {
   "cell_type": "markdown",
   "metadata": {},
   "source": [
    "## Insert\n",
    "\n",
    "`append()` is used to add an item to a list at the end.  Sometimes, you need to add items at the front or anywhere in a list.  The `insert()` function allows you to do this."
   ]
  },
  {
   "cell_type": "code",
   "execution_count": 130,
   "metadata": {},
   "outputs": [
    {
     "name": "stdout",
     "output_type": "stream",
     "text": [
      "Before: [0, 0, 0, 0, 0]\n",
      "After : [99, 0, 0, 0, 0, 0]\n"
     ]
    }
   ],
   "source": [
    "# Insert a number at the front of a list\n",
    "values = [0] * 5\n",
    "print('Before:', values)\n",
    "\n",
    "values.insert(0, 99)\n",
    "print('After :', values)"
   ]
  },
  {
   "cell_type": "code",
   "execution_count": 131,
   "metadata": {},
   "outputs": [
    {
     "name": "stdout",
     "output_type": "stream",
     "text": [
      "Before: [0, 0, 0, 0, 0]\n",
      "After : [0, 99, 0, 0, 0, 0]\n"
     ]
    }
   ],
   "source": [
    "# Insert a number in the second position of a list.  Member that indexes start at number zero.\n",
    "values = [0] * 5\n",
    "print('Before:', values)\n",
    "\n",
    "values.insert(1, 99)\n",
    "print('After :', values)"
   ]
  },
  {
   "cell_type": "code",
   "execution_count": 132,
   "metadata": {},
   "outputs": [
    {
     "name": "stdout",
     "output_type": "stream",
     "text": [
      "Before: [0, 0, 0, 0, 0]\n",
      "After : [0, 0, 0, 0, 0, 99]\n"
     ]
    }
   ],
   "source": [
    "# Insert a number at the end of a list using \"insert\"\n",
    "values = [0] * 5\n",
    "print('Before:', values)\n",
    "\n",
    "# Need to user len() to get the number of current items in the list\n",
    "values.insert(len(values), 99)\n",
    "print('After :', values)"
   ]
  },
  {
   "cell_type": "markdown",
   "metadata": {},
   "source": [
    "## Slicing\n",
    "\n",
    "Slicing allows you to extract sub-lists from a list and a string.\n",
    "\n",
    "From last week's lesson, we covered how Python indexes strings and lists where is starting counting from the number zero.  You can also index backwards using negative values.\n",
    "\n",
    "![](indexing.png)\n",
    "\n",
    "The format of slicing is:\n",
    "\n",
    "```python\n",
    "list[start:end]\n",
    "\n",
    "string[start:end]\n",
    "```\n",
    "\n",
    "**start**\n",
    "\n",
    "This is the starting index of the extracted sub-list or sub-string.  If the starting value is not used, the index of 0 is used by Python.\n",
    "\n",
    "**end**\n",
    "\n",
    "This is the ending index of the sub-list or sub-string.  Note that the index itself is NOT used in the sub-string/list (See the examples below).  If the ending index is not used, Python will use the end of the list/string for the slice.\n"
   ]
  },
  {
   "cell_type": "markdown",
   "metadata": {},
   "source": [
    "### String Slicing\n",
    "\n",
    "There are times when you need to extract a sub-string from a string.  The following examples will highlight how to do it."
   ]
  },
  {
   "cell_type": "code",
   "execution_count": 133,
   "metadata": {},
   "outputs": [
    {
     "name": "stdout",
     "output_type": "stream",
     "text": [
      "name: Joe Brown\n",
      "firstName: Joe\n"
     ]
    }
   ],
   "source": [
    "# Extract the first 3 characters from a string\n",
    "# This is letters [0], [1] and [2].\n",
    "name = 'Joe Brown'\n",
    "firstName = name[0:3]\n",
    "print('name:', name)\n",
    "print('firstName:', firstName)\n"
   ]
  },
  {
   "cell_type": "code",
   "execution_count": 134,
   "metadata": {},
   "outputs": [
    {
     "name": "stdout",
     "output_type": "stream",
     "text": [
      "name: Joe Brown\n",
      "first letter: J\n"
     ]
    }
   ],
   "source": [
    "# Extract the first character from a string\n",
    "name = 'Joe Brown'\n",
    "first = name[0:1]\n",
    "print('name:', name)\n",
    "print('first letter:', first)\n"
   ]
  },
  {
   "cell_type": "code",
   "execution_count": 135,
   "metadata": {},
   "outputs": [
    {
     "name": "stdout",
     "output_type": "stream",
     "text": [
      "name: Joe Brown\n",
      "last letter: n\n"
     ]
    }
   ],
   "source": [
    "# Extract the last character from a string\n",
    "name = 'Joe Brown'\n",
    "last = name[-1:]\n",
    "print('name:', name)\n",
    "print('last letter:', last)\n"
   ]
  },
  {
   "cell_type": "code",
   "execution_count": 136,
   "metadata": {},
   "outputs": [
    {
     "name": "stdout",
     "output_type": "stream",
     "text": [
      "name: Joe Brown\n",
      "last letter: Brown\n"
     ]
    }
   ],
   "source": [
    "# Extract the last 5 characters from a string\n",
    "name = 'Joe Brown'\n",
    "last = name[-5:]\n",
    "print('name:', name)\n",
    "print('last letter:', last)\n"
   ]
  },
  {
   "cell_type": "code",
   "execution_count": 137,
   "metadata": {},
   "outputs": [
    {
     "name": "stdout",
     "output_type": "stream",
     "text": [
      "letters: abcdefghijklmnopqrstuvwxyz\n",
      "sub1   : fghij\n",
      "sub2   : klmno\n",
      "sub3   : pqrst\n"
     ]
    }
   ],
   "source": [
    "# Extract sub-strings.  Notice that the sub-string do NOT include the ending index letter.\n",
    "letters = 'abcdefghijklmnopqrstuvwxyz'\n",
    "sub1 = letters[5:10]\n",
    "sub2 = letters[10:15]\n",
    "sub3 = letters[15:20]\n",
    "print('letters:', letters)\n",
    "print('sub1   :', sub1)\n",
    "print('sub2   :', sub2)\n",
    "print('sub3   :', sub3)"
   ]
  },
  {
   "cell_type": "markdown",
   "metadata": {},
   "source": [
    "### List Slicing\n",
    "\n",
    "Slicing a list uses the same syntax as slcing a string.  In the case of strings, the resulting slice is another string.  With lists, the resulting slice is a new list.  Note that the original list is not changed."
   ]
  },
  {
   "cell_type": "code",
   "execution_count": 138,
   "metadata": {},
   "outputs": [
    {
     "name": "stdout",
     "output_type": "stream",
     "text": [
      "Values  : [100, 200, 300, 400, 500]\n",
      "New List: [100, 200]\n"
     ]
    }
   ],
   "source": [
    "# Extract the first 2 items of a list\n",
    "values = [100, 200, 300, 400, 500]\n",
    "newList = values[0:2]\n",
    "print('Values  :', values)\n",
    "print('New List:', newList)"
   ]
  },
  {
   "cell_type": "code",
   "execution_count": 139,
   "metadata": {},
   "outputs": [
    {
     "name": "stdout",
     "output_type": "stream",
     "text": [
      "Values  : [100, 200, 300, 400, 500]\n",
      "New List: [100, 200]\n"
     ]
    }
   ],
   "source": [
    "# Extract the first 2 items of a list (Not using the starting index, default to zero)\n",
    "values = [100, 200, 300, 400, 500]\n",
    "newList = values[:2]\n",
    "print('Values  :', values)\n",
    "print('New List:', newList)"
   ]
  },
  {
   "cell_type": "code",
   "execution_count": 140,
   "metadata": {},
   "outputs": [
    {
     "name": "stdout",
     "output_type": "stream",
     "text": [
      "Values  : [100, 200, 300, 400, 500, 600, 700, 800, 900]\n",
      "New List: [400, 500, 600, 700, 800, 900]\n"
     ]
    }
   ],
   "source": [
    "# Extract all of the items from a list starting at index 3\n",
    "# Notice that the ending index is not used which defaults to the end of the list\n",
    "values = [100, 200, 300, 400, 500, 600, 700, 800, 900]\n",
    "newList = values[3:]\n",
    "print('Values  :', values)\n",
    "print('New List:', newList)"
   ]
  },
  {
   "cell_type": "code",
   "execution_count": 141,
   "metadata": {},
   "outputs": [
    {
     "name": "stdout",
     "output_type": "stream",
     "text": [
      "Values  : [100, 200, 300, 400, 500, 600, 700, 800, 900]\n",
      "New List: [100, 200, 300, 400, 500, 600, 700, 800, 900]\n"
     ]
    }
   ],
   "source": [
    "# Copy all of a list\n",
    "# No starting or ending index, this is the whole list\n",
    "values = [100, 200, 300, 400, 500, 600, 700, 800, 900]\n",
    "newList = values[:]\n",
    "print('Values  :', values)\n",
    "print('New List:', newList)"
   ]
  },
  {
   "cell_type": "code",
   "execution_count": 142,
   "metadata": {},
   "outputs": [
    {
     "name": "stdout",
     "output_type": "stream",
     "text": [
      "Values  : [100, 200, 300, 400, 500, 600, 700, 800, 900]\n",
      "New List: [100, 200, 300, 400, 500, 600, 700, 800, 900]\n",
      "\n",
      "Change the first item in newList - BOTH CHANGED!!!!!!!!\n",
      "Values  : ['Changed', 200, 300, 400, 500, 600, 700, 800, 900]\n",
      "New List: ['Changed', 200, 300, 400, 500, 600, 700, 800, 900]\n",
      "\n",
      "Change the last item in values - BOTH CHANGED!!!!!!!!\n",
      "Values  : ['Changed', 200, 300, 400, 500, 600, 700, 800, 'Changed 2']\n",
      "New List: ['Changed', 200, 300, 400, 500, 600, 700, 800, 'Changed 2']\n"
     ]
    }
   ],
   "source": [
    "# Thinking that you copied a list.\n",
    "# Assigning a list to another does NOT create a new list\n",
    "values = [100, 200, 300, 400, 500, 600, 700, 800, 900]\n",
    "newList = values\n",
    "\n",
    "print('Values  :', values)\n",
    "print('New List:', newList)\n",
    "\n",
    "# Change the first item in the newList\n",
    "print('\\nChange the first item in newList - BOTH CHANGED!!!!!!!!')\n",
    "newList[0] = 'Changed'\n",
    "print('Values  :', values)\n",
    "print('New List:', newList)\n",
    "\n",
    "# Change the item in the values\n",
    "print('\\nChange the last item in values - BOTH CHANGED!!!!!!!!')\n",
    "values[-1] = 'Changed 2'\n",
    "print('Values  :', values)\n",
    "print('New List:', newList)\n"
   ]
  },
  {
   "cell_type": "code",
   "execution_count": 143,
   "metadata": {},
   "outputs": [
    {
     "name": "stdout",
     "output_type": "stream",
     "text": [
      "Values  : [100, 200, 300, 400, 500, 600, 700, 800, 900]\n",
      "New List: [100, 200, 300, 400, 500, 600, 700, 800, 900]\n",
      "\n",
      "Change the first item in newList - ONLY newList CHANGED\n",
      "Values  : [100, 200, 300, 400, 500, 600, 700, 800, 900]\n",
      "New List: ['Changed', 200, 300, 400, 500, 600, 700, 800, 900]\n",
      "\n",
      "Change the last item in values - ONLY values CHANGED\n",
      "Values  : [100, 200, 300, 400, 500, 600, 700, 800, 'Changed 2']\n",
      "New List: ['Changed', 200, 300, 400, 500, 600, 700, 800, 900]\n"
     ]
    }
   ],
   "source": [
    "# Doing a correct copy of a list using [:]\n",
    "values = [100, 200, 300, 400, 500, 600, 700, 800, 900]\n",
    "newList = values[:]\n",
    "\n",
    "print('Values  :', values)\n",
    "print('New List:', newList)\n",
    "\n",
    "# Change the first item in the newList\n",
    "print('\\nChange the first item in newList - ONLY newList CHANGED')\n",
    "newList[0] = 'Changed'\n",
    "print('Values  :', values)\n",
    "print('New List:', newList)\n",
    "\n",
    "# Change the item in the values\n",
    "print('\\nChange the last item in values - ONLY values CHANGED')\n",
    "values[-1] = 'Changed 2'\n",
    "print('Values  :', values)\n",
    "print('New List:', newList)\n"
   ]
  },
  {
   "cell_type": "markdown",
   "metadata": {},
   "source": [
    "# 4 - Lesson Review\n",
    "\n",
    "This lesson introduced you to more advanced and useful list functions and commands.\n",
    "\n",
    "[Website for reviewing Python Lists](https://www.tutorialspoint.com/python/python_lists.htm)"
   ]
  }
 ],
 "metadata": {
  "kernelspec": {
   "display_name": "Python 3",
   "language": "python",
   "name": "python3"
  },
  "language_info": {
   "codemirror_mode": {
    "name": "ipython",
    "version": 3
   },
   "file_extension": ".py",
   "mimetype": "text/x-python",
   "name": "python",
   "nbconvert_exporter": "python",
   "pygments_lexer": "ipython3",
   "version": "3.7.1"
  }
 },
 "nbformat": 4,
 "nbformat_minor": 2
}
