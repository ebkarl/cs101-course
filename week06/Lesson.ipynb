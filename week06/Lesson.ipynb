{
 "cells": [
  {
   "cell_type": "markdown",
   "metadata": {},
   "source": [
    "![](../images/cs101.png)\n",
    "***\n",
    "\n",
    "# 06 - Lesson : Functions (Part 2)\n"
   ]
  },
  {
   "cell_type": "markdown",
   "metadata": {},
   "source": [
    "# 0 - Coding Examples in This Lesson\n",
    "\n",
    "There are many small coding examples in this lesson.  I would strongly suggest that you type these examples in Thonny (or your Python IDE) to better understand the code."
   ]
  },
  {
   "cell_type": "markdown",
   "metadata": {},
   "source": [
    "# 1 - Objectives and Goals\n",
    "\n",
    "Students will:\n",
    "\n",
    "- understand how to pass variables (arguments) to functions.\n",
    "- be able to call functions that contain arguments from other functions.\n"
   ]
  },
  {
   "cell_type": "markdown",
   "metadata": {},
   "source": [
    "# 2 - Preparation\n",
    "\n",
    "For this lesson, please review and read:\n",
    "\n",
    "- last week's lesson on functions."
   ]
  },
  {
   "cell_type": "markdown",
   "metadata": {},
   "source": [
    "# 3 - Lesson Details\n",
    "\n",
    "This lesson will focus on how to pass information or values to a function.  These values are called arguments.\n",
    "\n",
    "Format of a function in Python.  We will be focusing on the \"arguments\" section.\n",
    "\n",
    "```python\n",
    "def functionName(arguments):\n",
    "    \"\"\" Function Description \"\"\"\n",
    "    statement(s)\n",
    "    return value\n",
    "```\n",
    "\n",
    "**arguments**\n",
    "\n",
    "Arguments are used to pass information or data to a function depending on the task of the function.  It is up to the programmer to decide the purpose of a function and what arguments/data it needs.  A function can have zero to any number of arguments.\n",
    "\n",
    "Values that are passed to a function must be given a name.  The names that a function uses for arguments has nothing to do with variable names in other parts of your Python code.  "
   ]
  },
  {
   "cell_type": "markdown",
   "metadata": {},
   "source": [
    "## 3.1 - Function examples and descriptions."
   ]
  },
  {
   "cell_type": "markdown",
   "metadata": {},
   "source": [
    "### A function that has one argument and display that value to the screen"
   ]
  },
  {
   "cell_type": "code",
   "execution_count": 7,
   "metadata": {},
   "outputs": [
    {
     "name": "stdout",
     "output_type": "stream",
     "text": [
      "Income = 1234.56\n"
     ]
    }
   ],
   "source": [
    "def displayIncome(income):\n",
    "    \"\"\" Displays the current income \"\"\"\n",
    "    print('Income =', income)\n",
    "\n",
    "\n",
    "displayIncome(1234.56)    "
   ]
  },
  {
   "cell_type": "markdown",
   "metadata": {},
   "source": [
    "### A function that has two arguments and display info to the screen"
   ]
  },
  {
   "cell_type": "code",
   "execution_count": 8,
   "metadata": {},
   "outputs": [
    {
     "name": "stdout",
     "output_type": "stream",
     "text": [
      "John Brown has income = 1234.56\n",
      "1234.56 has income = John Brown\n"
     ]
    }
   ],
   "source": [
    "def displayIncome(name, income):\n",
    "    \"\"\" Displays the current income \"\"\"\n",
    "    print('{} has income = {}'.format(name, income))\n",
    "\n",
    "\n",
    "displayIncome('John Brown', 1234.56)    \n",
    "\n",
    "# Notice that the function displayIncome() doesn't care that\n",
    "# I mixed up the arguments.\n",
    "displayIncome(1234.56, 'John Brown')"
   ]
  },
  {
   "cell_type": "markdown",
   "metadata": {},
   "source": [
    "### Function takes two arguments and add them together. It returns the sum."
   ]
  },
  {
   "cell_type": "code",
   "execution_count": 9,
   "metadata": {},
   "outputs": [
    {
     "name": "stdout",
     "output_type": "stream",
     "text": [
      "sum of 23 and 34 is 57\n",
      "sum of 23 and 34 is 57\n",
      "sum of 23 and 34 is 57\n"
     ]
    }
   ],
   "source": [
    "def add(value1, value2):\n",
    "    \"\"\" Returns the sum of two numbers \"\"\"\n",
    "    return (value1 + value2)\n",
    "\n",
    "# Calling the function add() and printing the returned sum\n",
    "print('sum of 23 and 34 is', add(23, 34))\n",
    "\n",
    "# Holding the sum in a variable\n",
    "sum = add(23, 34)\n",
    "print('sum of 23 and 34 is', sum)\n",
    "\n",
    "# Using variables that are passed to the function add()\n",
    "value1 = 23\n",
    "value2 = 34\n",
    "sum = add(value1, value2)\n",
    "print('sum of {} and {} is {}'.format(value1, value2, sum))"
   ]
  },
  {
   "cell_type": "markdown",
   "metadata": {},
   "source": [
    "### Function takes five arguments and add them together. It returns the sum."
   ]
  },
  {
   "cell_type": "code",
   "execution_count": 10,
   "metadata": {},
   "outputs": [
    {
     "name": "stdout",
     "output_type": "stream",
     "text": [
      "sum of 12, 23, 34, 45, 56 = 170\n",
      "sum of 123, 234, 345, 456, 99 = 1257\n"
     ]
    }
   ],
   "source": [
    "def add(value1, value2, value3, value4, value5):\n",
    "    \"\"\" Returns the sum of five numbers \"\"\"\n",
    "    return (value1 + value2 + value3 + value4 + value5)\n",
    "\n",
    "sum = add(12, 23, 34, 45, 56)\n",
    "print('sum of 12, 23, 34, 45, 56 =', sum)\n",
    "\n",
    "num1 = 123\n",
    "num2 = 234\n",
    "num3 = 345\n",
    "num4 = 456\n",
    "sum = add(num1, num2, num3, num4, 99)\n",
    "print('sum of {}, {}, {}, {}, {} = {}'.format(num1, num2, num3, num4, 99, sum))\n"
   ]
  },
  {
   "cell_type": "markdown",
   "metadata": {},
   "source": [
    "### Function to add one to a given argument."
   ]
  },
  {
   "cell_type": "code",
   "execution_count": 11,
   "metadata": {},
   "outputs": [
    {
     "name": "stdout",
     "output_type": "stream",
     "text": [
      "newScore = 79, initScore = 78\n"
     ]
    }
   ],
   "source": [
    "# Note that the value of the variable \"initScore\" is passed to the function addOne(),\n",
    "# not the name of the variable.  The function addOne() decided to name the value coming\n",
    "# into the function to be called \"score\" - it has the same value of the variable initScore.\n",
    "\n",
    "def addOne(score):\n",
    "    \"\"\" Adds one with the given number and returns the results \"\"\"\n",
    "    return(score + 1)\n",
    "\n",
    "# initial score\n",
    "initScore = 78\n",
    "\n",
    "# pass the value of initScore to addOne() and assign the returned value to newScore\n",
    "# Note that the value of initScore is not changed.\n",
    "newScore = addOne(initScore)\n",
    "\n",
    "print('newScore = {}, initScore = {}'.format(newScore, initScore))"
   ]
  },
  {
   "cell_type": "markdown",
   "metadata": {},
   "source": [
    "### Functions can have return values of other functions as arguments"
   ]
  },
  {
   "cell_type": "code",
   "execution_count": 12,
   "metadata": {},
   "outputs": [
    {
     "name": "stdout",
     "output_type": "stream",
     "text": [
      "Score = 4\n"
     ]
    }
   ],
   "source": [
    "def addOne(score):\n",
    "    \"\"\" Adds one with the given number and returns the results \"\"\"\n",
    "    return(score + 1)\n",
    "\n",
    "print('Score =', addOne(addOne(addOne(1))))"
   ]
  },
  {
   "cell_type": "markdown",
   "metadata": {},
   "source": [
    "### Functions calls other functions"
   ]
  },
  {
   "cell_type": "code",
   "execution_count": 13,
   "metadata": {},
   "outputs": [
    {
     "name": "stdout",
     "output_type": "stream",
     "text": [
      "Name = John Brown\n",
      "Age = 23\n",
      "\n",
      "Name = Jim Smith\n",
      "Age = 44\n"
     ]
    }
   ],
   "source": [
    "def displayName(name):\n",
    "    \"\"\" Display a person's name \"\"\"\n",
    "    print('Name =', name)\n",
    "\n",
    "    \n",
    "def displayAge(age):\n",
    "    \"\"\" display a person's age \"\"\"\n",
    "    print('Age =', age)\n",
    "\n",
    "    \n",
    "def displayPerson(name, age):\n",
    "    \"\"\" Displays info about a person \"\"\"\n",
    "    displayName(name)\n",
    "    displayAge(age)\n",
    "    \n",
    "\n",
    "displayPerson('John Brown', 23)\n",
    "\n",
    "# Calling displayPerson() with variables\n",
    "print() \n",
    "\n",
    "fullName = 'Jim Smith'\n",
    "ageOfPerson = 44\n",
    "displayPerson(fullName, ageOfPerson)"
   ]
  },
  {
   "cell_type": "markdown",
   "metadata": {},
   "source": [
    "# 4 - Lesson Review\n",
    "\n",
    "Functions allow a program to break up a program into logical parts.  Being able to pass information to a function is key to being able to do this."
   ]
  }
 ],
 "metadata": {
  "kernelspec": {
   "display_name": "Python 3",
   "language": "python",
   "name": "python3"
  },
  "language_info": {
   "codemirror_mode": {
    "name": "ipython",
    "version": 3
   },
   "file_extension": ".py",
   "mimetype": "text/x-python",
   "name": "python",
   "nbconvert_exporter": "python",
   "pygments_lexer": "ipython3",
   "version": "3.7.0"
  }
 },
 "nbformat": 4,
 "nbformat_minor": 2
}
