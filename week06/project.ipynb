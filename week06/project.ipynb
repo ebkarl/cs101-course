{
 "cells": [
  {
   "cell_type": "markdown",
   "metadata": {},
   "source": [
    "![](../images/cs101.png)\n",
    "***\n",
    "\n",
    "# 06 - Project : Calculate Area and Perimeters\n"
   ]
  },
  {
   "cell_type": "markdown",
   "metadata": {},
   "source": [
    "# 0 - Setup\n",
    "\n",
    "The following project will require you write and run your own Python code.  There are a number of ways to do this.\n",
    "\n",
    "- All projects in this course are individually based in that you submit your own code.  You must not copy code from the Internet or from another student.\n",
    "- Thonny on your computer.  To install Thonny, please go to [Installing Thonny for instructions.](../resources/thonny.ipynb)\n",
    "- Online sites such as https://www.pythonanywhere.com/ or https://www.trinket.io/.  You are able to create free accounts on these websites.\n",
    "- There are other Python 3 IDEs that are available.  You are free to use them.  Remember that the course TA must be able to run your code that you submit.  The details of these other IDEs are not covered in this course.\n",
    "- You must use version 3 of Python."
   ]
  },
  {
   "cell_type": "markdown",
   "metadata": {},
   "source": [
    "# 1 - Objectives\n",
    "\n",
    "- Learn how to create and implement functions to calculate areas and perimeters of shapes.\n"
   ]
  },
  {
   "cell_type": "markdown",
   "metadata": {},
   "source": [
    "# 2 - Overview\n",
    "\n",
    "In this lesson, you learned how to use functions that take in arguments and return values.  This project will require you to create and implement simple area and perimeter calculations on some shapes.\n"
   ]
  },
  {
   "cell_type": "markdown",
   "metadata": {},
   "source": [
    "# 3 - Instructions"
   ]
  },
  {
   "cell_type": "markdown",
   "metadata": {},
   "source": [
    "## 3.1 - Get the Project code\n",
    "\n",
    "1. Open Thonny and create a new Python called projectXX.py. (Where XX is the project number) Keep Thonny open.\n",
    "1. Click on [this link to open the project.py](project.py) file.\n",
    "1. To the right of the screen, then is a button with the text \"Raw\".  Click on this.\n",
    "1. Press Control-A or Command-A to select all of the code.\n",
    "1. Press Control-C or Command-C to copy the code.\n",
    "1. Select Thonny and press Control-v or Command-v to paste the Python code to Thonny.\n",
    "1. In Thonny, save your Python file with the code that you pasted.  You can save your project file anywhere on your computer.  However, you need to keep track where it is.\n",
    "\n",
    "## 3.2 - Writing your Code\n",
    "\n",
    "**Math**\n",
    "\n",
    "For this project you will need to use math to calculate values.  The circle functions will require you to use PI.  The following is an example on how to use PI in Python.  You will notice that I imported the math library for you in the project code."
   ]
  },
  {
   "cell_type": "code",
   "execution_count": 3,
   "metadata": {},
   "outputs": [
    {
     "name": "stdout",
     "output_type": "stream",
     "text": [
      "3.141592653589793 6.283185307179586\n"
     ]
    }
   ],
   "source": [
    "import math\n",
    "\n",
    "print(math.pi, math.pi * 2)"
   ]
  },
  {
   "cell_type": "markdown",
   "metadata": {},
   "source": [
    "**Instructions**\n",
    "\n",
    "- This project contains a small program that will calculate areas\n",
    "  and perimeters of different shapes.  \n",
    "- There is code in the main section of the project that you can\n",
    "  NOT edit.  \n",
    "- Your task is to create and implement the missing functions \n",
    "  that the code in main calls.\n",
    "- You **must** use math to calculate these values.  \n",
    "- You must add function descriptions for each function you implement.\n",
    "- Your goal is to match the sample output below.\n",
    "\n",
    "\n",
    "**Output**\n",
    "\n",
    "```text\n",
    "Welcome to project 06 - Calculate Areas and Perimeters\n",
    "======================================================\n",
    "Circle   : area = 39.82, perimeter = 22.37\n",
    "Square   : area = 85.19, perimeter = 36.92\n",
    "Rectangle: area = 41.24, perimeter = 34.24\n",
    "Triangle : area = 21.16\n",
    "```    "
   ]
  },
  {
   "cell_type": "markdown",
   "metadata": {},
   "source": [
    "# 4 - Rubric\n",
    "\n",
    "| Exceptional  | Good  | Acceptable  | Developing  | Unsatisfactory |\n",
    "|:-:\t|:-:\t|:-:\t|:-:\t|:-:\t|\n",
    "| Looks great | Nothing wrong  | one or two issues  | Issues with the project, too simple  | Little effort was spent on this project  |\n",
    "| 100%  | 90%  | 70%  | 50%  | 0%  |\n"
   ]
  },
  {
   "cell_type": "markdown",
   "metadata": {},
   "source": [
    "# 5 - Submitting\n",
    "\n",
    "After you have finished writing and testing your program:\n",
    "\n",
    "1. Go to the course in I-Learn.\n",
    "1. Find this project item.\n",
    "1. There will be a \"Submit Assignment\" button to the upper right.\n",
    "1. Click on \"Choose File\" and find the Python file for your program that you saved to your computer.\n"
   ]
  }
 ],
 "metadata": {
  "kernelspec": {
   "display_name": "Python 3",
   "language": "python",
   "name": "python3"
  },
  "language_info": {
   "codemirror_mode": {
    "name": "ipython",
    "version": 3
   },
   "file_extension": ".py",
   "mimetype": "text/x-python",
   "name": "python",
   "nbconvert_exporter": "python",
   "pygments_lexer": "ipython3",
   "version": "3.7.0"
  }
 },
 "nbformat": 4,
 "nbformat_minor": 2
}
