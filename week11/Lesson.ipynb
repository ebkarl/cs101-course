{
 "cells": [
  {
   "cell_type": "markdown",
   "metadata": {},
   "source": [
    "![](../images/cs101.png)\n",
    "***\n",
    "\n",
    "# 11 - Lesson : Lists (Part 1)\n"
   ]
  },
  {
   "cell_type": "markdown",
   "metadata": {},
   "source": [
    "# 0 - Coding Examples in This Lesson\n",
    "\n",
    "There are many small coding examples in this lesson.  I would strongly suggest that you type these examples in Thonny (or your Python IDE) to better understand the code."
   ]
  },
  {
   "cell_type": "markdown",
   "metadata": {},
   "source": [
    "# 1 - Objectives and Goals\n",
    "\n",
    "Students will:\n",
    "\n",
    "- be able to create lists.\n",
    "- be able to use lists to solve problems.\n"
   ]
  },
  {
   "cell_type": "markdown",
   "metadata": {},
   "source": [
    "# 2 - Preparation\n",
    "\n",
    "For this lesson, please review and read:\n",
    "\n",
    "- Review `for` loops\n"
   ]
  },
  {
   "cell_type": "markdown",
   "metadata": {},
   "source": [
    "# 3 - Lesson Details\n",
    "\n",
    "A Python list is a data structure that is used to hold a sequence of values.  A Python list is ordered which means that the order of the values in a list stay in the same position unless you change them.  You can create, modify, loop through, remove values in a list.  They are designed to be very flexible. Python use the characters `[]` to denote a list.\n",
    "\n",
    "Examples of lists:\n",
    "\n",
    "```python\n",
    "grades = [78, 89, 100]\n",
    "temperatures = [22.3, 44.4, 55.5, 66.6. 212.0]\n",
    "shoppingList = ['bread', 'milk', 'eggs', 'ice cream']\n",
    "myCourses = ['cs124', 'cs165', 'cs101']\n",
    "letters = ['a', 'b', 't', 'g', 'w']\n",
    "```\n"
   ]
  },
  {
   "cell_type": "markdown",
   "metadata": {},
   "source": [
    "## Creating lists\n",
    "\n",
    "It is very easy to create a list in Python\n",
    "\n",
    "```Python\n",
    "    name = [ value(s) ]\n",
    "```\n",
    "\n",
    "Most lists need to have a meaningful name for the list just as variables need meaningful names.  The `[]` brackets are used to tell Python that this is a list.  Finially, you can place as many values in a list.\n"
   ]
  },
  {
   "cell_type": "code",
   "execution_count": 51,
   "metadata": {},
   "outputs": [
    {
     "name": "stdout",
     "output_type": "stream",
     "text": [
      "['John', 'Mary', 'Fred']\n"
     ]
    }
   ],
   "source": [
    "# Creating a list of names\n",
    "names = ['John', 'Mary', 'Fred']\n",
    "print(names)"
   ]
  },
  {
   "cell_type": "code",
   "execution_count": 52,
   "metadata": {},
   "outputs": [
    {
     "name": "stdout",
     "output_type": "stream",
     "text": [
      "[90, 50, 100]\n"
     ]
    }
   ],
   "source": [
    "# Creating a list of grades\n",
    "grades = [90, 50, 100]\n",
    "print(grades)"
   ]
  },
  {
   "cell_type": "code",
   "execution_count": 53,
   "metadata": {},
   "outputs": [
    {
     "name": "stdout",
     "output_type": "stream",
     "text": [
      "[123, 'House', 55.5, False, 'Car']\n"
     ]
    }
   ],
   "source": [
    "# Lists can contain different types of data in them\n",
    "# here is a list of integers, strings and boolean values\n",
    "values = [123, 'House', 55.5, False, 'Car']\n",
    "print(values)"
   ]
  },
  {
   "cell_type": "code",
   "execution_count": 54,
   "metadata": {},
   "outputs": [
    {
     "name": "stdout",
     "output_type": "stream",
     "text": [
      "[]\n"
     ]
    }
   ],
   "source": [
    "# Lists can also be empty\n",
    "emptyList = []\n",
    "print(emptyList)"
   ]
  },
  {
   "cell_type": "code",
   "execution_count": 55,
   "metadata": {},
   "outputs": [
    {
     "name": "stdout",
     "output_type": "stream",
     "text": [
      "[5, 5, 5, 5, 5, 5, 5, 5, 5, 5]\n",
      "aaaaa\n",
      "['a', 'a', 'a', 'a', 'a']\n"
     ]
    }
   ],
   "source": [
    "# Lists can also be created with the '*' character\n",
    "fives = [5] * 10\n",
    "print(fives)\n",
    "\n",
    "# Creates a string of 5 'a'\n",
    "print('a' * 5)\n",
    "\n",
    "# Creates a list of 5 'a'\n",
    "print(['a'] * 5)\n"
   ]
  },
  {
   "cell_type": "markdown",
   "metadata": {},
   "source": [
    "## Indexing lists\n",
    "\n",
    "It is easy to print all of the values of a list using the print() statement.  However, there are many times when you only want to use or print one item in a list. \n",
    "\n",
    "Indexing starting with counting from zero and increases by one left to right.  You can also index a list backwards by using a negative index starting at -1.\n",
    "\n",
    "![](indexing.png)"
   ]
  },
  {
   "cell_type": "code",
   "execution_count": 56,
   "metadata": {},
   "outputs": [
    {
     "name": "stdout",
     "output_type": "stream",
     "text": [
      "All grades: [10, 20, 30, 40, 50, 60]\n",
      "first and third: 10 30\n"
     ]
    }
   ],
   "source": [
    "# Displaying the first and third values from a list\n",
    "grades = [10, 20, 30, 40, 50, 60]\n",
    "print('All grades:', grades)\n",
    "print('first and third:', grades[0], grades[2])"
   ]
  },
  {
   "cell_type": "code",
   "execution_count": 57,
   "metadata": {},
   "outputs": [
    {
     "name": "stdout",
     "output_type": "stream",
     "text": [
      "All grades: [10, 20, 30, 40, 50, 60]\n",
      "last and second last: 60 50\n"
     ]
    }
   ],
   "source": [
    "# Displaying the last two values of a list\n",
    "grades = [10, 20, 30, 40, 50, 60]\n",
    "print('All grades:', grades)\n",
    "print('last and second last:', grades[-1], grades[-2])"
   ]
  },
  {
   "cell_type": "markdown",
   "metadata": {},
   "source": [
    "## Looping through a list\n",
    "\n",
    "Using indexing, we can loop through all of the values of a list using a `for` loop.  The format of the `for` loop is:\n",
    "\n",
    "```python\n",
    "for item in aList:\n",
    "    statement(s)\n",
    "```\n",
    "\n",
    "In the above for loop, the variable `item` will take on each value in the list `aList` one at a time.  The loop will loop the number of items in the list.  For example, if a list contains 100 values, the loop will loop 100 times."
   ]
  },
  {
   "cell_type": "code",
   "execution_count": 58,
   "metadata": {},
   "outputs": [
    {
     "name": "stdout",
     "output_type": "stream",
     "text": [
      "grade = 10\n",
      "grade = 20\n",
      "grade = 30\n",
      "grade = 40\n",
      "grade = 50\n",
      "grade = 60\n"
     ]
    }
   ],
   "source": [
    "# Display all of the grades\n",
    "grades = [10, 20, 30, 40, 50, 60]\n",
    "for grade in grades:\n",
    "    print('grade =', grade)"
   ]
  },
  {
   "cell_type": "code",
   "execution_count": 1,
   "metadata": {},
   "outputs": [
    {
     "name": "stdout",
     "output_type": "stream",
     "text": [
      "There are 6 items in the list\n"
     ]
    }
   ],
   "source": [
    "# Count the number of values in a list\n",
    "grades = [10, 20, 30, 40, 50, 60]\n",
    "print('There are', len(grades), 'items in the list')"
   ]
  },
  {
   "cell_type": "code",
   "execution_count": 59,
   "metadata": {},
   "outputs": [
    {
     "name": "stdout",
     "output_type": "stream",
     "text": [
      "There are 6 items in the list\n"
     ]
    }
   ],
   "source": [
    "# Count the number of values in a list\n",
    "grades = [10, 20, 30, 40, 50, 60]\n",
    "count = 0\n",
    "for grade in grades:\n",
    "    count += 1\n",
    "print('There are', count, 'items in the list')"
   ]
  },
  {
   "cell_type": "code",
   "execution_count": 60,
   "metadata": {},
   "outputs": [
    {
     "name": "stdout",
     "output_type": "stream",
     "text": [
      "Total grades are 210\n"
     ]
    }
   ],
   "source": [
    "# Total grades\n",
    "grades = [10, 20, 30, 40, 50, 60]\n",
    "total = 0\n",
    "for grade in grades:\n",
    "    total += grade\n",
    "print('Total grades are', total)"
   ]
  },
  {
   "cell_type": "code",
   "execution_count": 61,
   "metadata": {},
   "outputs": [
    {
     "name": "stdout",
     "output_type": "stream",
     "text": [
      "Average is 35.0\n"
     ]
    }
   ],
   "source": [
    "# Average grades\n",
    "grades = [10, 20, 30, 40, 50, 60]\n",
    "count = 0\n",
    "total = 0\n",
    "for grade in grades:\n",
    "    count += 1\n",
    "    total += grade\n",
    "print('Average is', total / count)"
   ]
  },
  {
   "cell_type": "code",
   "execution_count": 2,
   "metadata": {},
   "outputs": [
    {
     "name": "stdout",
     "output_type": "stream",
     "text": [
      "Average is 35.0\n"
     ]
    }
   ],
   "source": [
    "# Average grades\n",
    "grades = [10, 20, 30, 40, 50, 60]\n",
    "print('Average is', sum(grades) / len(grades))"
   ]
  },
  {
   "cell_type": "markdown",
   "metadata": {},
   "source": [
    "## Updating a value in a list\n",
    "\n",
    "We have learned above that we can access a value in a list by using the `[]` brackets.  Using these brackets, we can also change a value in a list."
   ]
  },
  {
   "cell_type": "code",
   "execution_count": 62,
   "metadata": {},
   "outputs": [
    {
     "name": "stdout",
     "output_type": "stream",
     "text": [
      "numbers = [1, 2, 3, 4, 5]\n",
      "Third item is 3\n",
      "numbers with 3rd changed = [1, 2, 99, 4, 5]\n",
      "numbers with last changed = [1, 2, 99, 4, 100]\n",
      "numbers with second last changed = [1, 2, 99, 'John', 100]\n"
     ]
    }
   ],
   "source": [
    "# Create a list of integers\n",
    "numbers = [1, 2, 3, 4, 5]\n",
    "print('numbers =', numbers)\n",
    "\n",
    "# access the 3rd item (ie., [2])\n",
    "print('Third item is', numbers[2])\n",
    "\n",
    "# Change the 3rd item to be 99\n",
    "numbers[2] = 99\n",
    "print('numbers with 3rd changed =', numbers)\n",
    "\n",
    "# change the last item to be 100\n",
    "numbers[-1] = 100\n",
    "print('numbers with last changed =', numbers)\n",
    "\n",
    "# change the second last item to be 'John'\n",
    "numbers[-2] = 'John'\n",
    "print('numbers with second last changed =', numbers)"
   ]
  },
  {
   "cell_type": "markdown",
   "metadata": {},
   "source": [
    "## Adding to a list\n",
    "\n",
    "Lists a not fixed in size.  They can grow.  To add an item to a list, you use the `append()` function.  Note that the `append()` function will add the new item to the end of the list.  Python lists are ordered which means that they will keep the order of the items as they are added to a list."
   ]
  },
  {
   "cell_type": "code",
   "execution_count": 63,
   "metadata": {},
   "outputs": [
    {
     "name": "stdout",
     "output_type": "stream",
     "text": [
      "empty names = []\n",
      "names with one append() = ['John']\n",
      "names with appends = ['John', 'Mary', 'Fred']\n"
     ]
    }
   ],
   "source": [
    "# Start with empty list\n",
    "names = []\n",
    "print('empty names =', names)\n",
    "\n",
    "names.append('John')\n",
    "print('names with one append() =', names)\n",
    "\n",
    "names.append('Mary')\n",
    "names.append('Fred')\n",
    "print('names with appends =', names)\n"
   ]
  },
  {
   "cell_type": "code",
   "execution_count": 64,
   "metadata": {},
   "outputs": [
    {
     "name": "stdout",
     "output_type": "stream",
     "text": [
      "Enter grade: 50\n",
      "Enter grade: 60\n",
      "Enter grade: 70\n",
      "grades are: [50, 60, 70]\n"
     ]
    }
   ],
   "source": [
    "# Ask for 3 grades and append them to a list\n",
    "# Note: it is very important that the grades list start as an empty list\n",
    "grades = []\n",
    "for i in range(3):\n",
    "    grade = int(input('Enter grade: '))\n",
    "    grades.append(grade)\n",
    "print('grades are:', grades)"
   ]
  },
  {
   "cell_type": "markdown",
   "metadata": {},
   "source": [
    "## Removing from a list\n",
    "\n",
    "Lists a not fixed in size.  They can shrink.  To remove an item to a list, you use the `del` function."
   ]
  },
  {
   "cell_type": "code",
   "execution_count": 65,
   "metadata": {},
   "outputs": [
    {
     "name": "stdout",
     "output_type": "stream",
     "text": [
      "Letters           = ['a', 'b', 'c', 'd', 'e', 'f']\n",
      "Resulting letters = ['a', 'b', 'd', 'e', 'f']\n",
      "Resulting letters = ['a', 'b', 'd', 'e']\n"
     ]
    }
   ],
   "source": [
    "# List of letters where the 3rd letter will be removed\n",
    "letters = ['a', 'b', 'c', 'd', 'e', 'f']\n",
    "print('Letters           =', letters)\n",
    "\n",
    "# delete the 3rd item in the list\n",
    "del letters[2]\n",
    "\n",
    "print('Resulting letters =', letters)\n",
    "\n",
    "# delete the last item in the list\n",
    "del letters[-1]\n",
    "\n",
    "print('Resulting letters =', letters)"
   ]
  },
  {
   "cell_type": "markdown",
   "metadata": {},
   "source": [
    "## Converting a string to a list\n",
    "\n",
    "A string can contain many words in it seperated by spaces. For example: `\"The cat is black\"`.  There is a method in Python to convert a string into a list.  The `split()` function does this.  There is also the `list()` function that converts a string into individual letters."
   ]
  },
  {
   "cell_type": "code",
   "execution_count": 10,
   "metadata": {},
   "outputs": [
    {
     "name": "stdout",
     "output_type": "stream",
     "text": [
      "sentence: The cat is black\n",
      "words: ['The', 'cat', 'is', 'black']\n",
      "letters: ['T', 'h', 'e', ' ', 'c', 'a', 't', ' ', 'i', 's', ' ', 'b', 'l', 'a', 'c', 'k']\n"
     ]
    }
   ],
   "source": [
    "# Split a string into words\n",
    "sentence = 'The cat is black'\n",
    "words = sentence.split()\n",
    "letters = list(sentence)\n",
    "\n",
    "print('sentence:', sentence)\n",
    "print('words:', words)\n",
    "print('letters:', letters)"
   ]
  },
  {
   "cell_type": "markdown",
   "metadata": {},
   "source": [
    "## List Functions\n",
    "\n",
    "Python lists have built-in functions.  Here are some of them."
   ]
  },
  {
   "cell_type": "markdown",
   "metadata": {},
   "source": [
    "### len()\n",
    "\n",
    "Returns the length or number of items in a list."
   ]
  },
  {
   "cell_type": "code",
   "execution_count": 66,
   "metadata": {},
   "outputs": [
    {
     "name": "stdout",
     "output_type": "stream",
     "text": [
      "Length of grades is 3\n"
     ]
    }
   ],
   "source": [
    "grades = [55, 66, 99]\n",
    "print('Length of grades is', len(grades))"
   ]
  },
  {
   "cell_type": "markdown",
   "metadata": {},
   "source": [
    "### sum()\n",
    "\n",
    "When you have a list of integers or floats, the sum() function will return the sum of these values."
   ]
  },
  {
   "cell_type": "code",
   "execution_count": 67,
   "metadata": {},
   "outputs": [
    {
     "name": "stdout",
     "output_type": "stream",
     "text": [
      "Sum of grades is 220\n"
     ]
    }
   ],
   "source": [
    "grades = [55, 66, 99]\n",
    "print('Sum of grades is', sum(grades))"
   ]
  },
  {
   "cell_type": "markdown",
   "metadata": {},
   "source": [
    "### max()\n",
    "\n",
    "When you have a list of integers or floats, the max() function will return the largest of these values."
   ]
  },
  {
   "cell_type": "code",
   "execution_count": 68,
   "metadata": {},
   "outputs": [
    {
     "name": "stdout",
     "output_type": "stream",
     "text": [
      "Max value of grades is 99\n"
     ]
    }
   ],
   "source": [
    "grades = [55, 66, 99]\n",
    "print('Max value of grades is', max(grades))"
   ]
  },
  {
   "cell_type": "markdown",
   "metadata": {},
   "source": [
    "### min()\n",
    "\n",
    "When you have a list of integers or floats, the min() function will return the smallest of these values."
   ]
  },
  {
   "cell_type": "code",
   "execution_count": 69,
   "metadata": {},
   "outputs": [
    {
     "name": "stdout",
     "output_type": "stream",
     "text": [
      "Min value of grades is 55\n"
     ]
    }
   ],
   "source": [
    "grades = [55, 66, 99]\n",
    "print('Min value of grades is', min(grades))"
   ]
  },
  {
   "cell_type": "markdown",
   "metadata": {},
   "source": [
    "### count()\n",
    "\n",
    "This function is used to count the number of items in a list that match a value."
   ]
  },
  {
   "cell_type": "code",
   "execution_count": 70,
   "metadata": {},
   "outputs": [
    {
     "name": "stdout",
     "output_type": "stream",
     "text": [
      "The number of a's in the list is = 3\n",
      "The number of b's in the list is = 1\n",
      "The number of x's in the list is = 0\n"
     ]
    }
   ],
   "source": [
    "letters = ['a', 'b', 'c', 'a', 'g', 'a']\n",
    "print(\"The number of a's in the list is =\", letters.count('a'))\n",
    "print(\"The number of b's in the list is =\", letters.count('b'))\n",
    "print(\"The number of x's in the list is =\", letters.count('x'))"
   ]
  },
  {
   "cell_type": "markdown",
   "metadata": {},
   "source": [
    "### sort()\n",
    "\n",
    "The sort() function will sort values in a list in increasing values.  Note that this function changes the order of the list."
   ]
  },
  {
   "cell_type": "code",
   "execution_count": 71,
   "metadata": {},
   "outputs": [
    {
     "name": "stdout",
     "output_type": "stream",
     "text": [
      "list not sorted: [34, 45, 12, 23, -45, 66, 33, 44, 99, 88, 64, 54]\n",
      "list sorted: [-45, 12, 23, 33, 34, 44, 45, 54, 64, 66, 88, 99]\n"
     ]
    }
   ],
   "source": [
    "values = [34, 45, 12, 23, -45, 66, 33, 44, 99, 88, 64, 54]\n",
    "print('list not sorted:', values)\n",
    "\n",
    "# sort the list\n",
    "values.sort()\n",
    "print('list sorted:', values)\n"
   ]
  },
  {
   "cell_type": "markdown",
   "metadata": {},
   "source": [
    "### reverse()\n",
    "\n",
    "The reverse() function will reverse a list.  Note that it changes the list."
   ]
  },
  {
   "cell_type": "code",
   "execution_count": 72,
   "metadata": {},
   "outputs": [
    {
     "name": "stdout",
     "output_type": "stream",
     "text": [
      "list not sorted: [34, 45, 12, 23, -45, 66, 33, 44, 99, 88, 64, 54]\n",
      "list in reverse: [54, 64, 88, 99, 44, 33, 66, -45, 23, 12, 45, 34]\n"
     ]
    }
   ],
   "source": [
    "values = [34, 45, 12, 23, -45, 66, 33, 44, 99, 88, 64, 54]\n",
    "print('list not sorted:', values)\n",
    "\n",
    "values.reverse()\n",
    "print('list in reverse:', values)\n"
   ]
  },
  {
   "cell_type": "markdown",
   "metadata": {},
   "source": [
    "### `in` statment\n",
    "\n",
    "The `in` statement is used to tell if a value is found in a list.  The results of the `in` statement is either `True` or `False`."
   ]
  },
  {
   "cell_type": "code",
   "execution_count": 73,
   "metadata": {},
   "outputs": [
    {
     "name": "stdout",
     "output_type": "stream",
     "text": [
      "The list: [10, 20, 30, 40, 50, 60, 70]\n",
      "Is the number 20 in the list: True\n",
      "Is the number 22 in the list: False\n",
      "Is the number 70 in the list: True\n"
     ]
    }
   ],
   "source": [
    "values = [10, 20, 30, 40, 50, 60, 70]\n",
    "print('The list:', values)\n",
    "contain20 = 20 in values\n",
    "print('Is the number 20 in the list:', contain20)\n",
    "print('Is the number 22 in the list:', 22 in values)\n",
    "print('Is the number 70 in the list:', 70 in values)"
   ]
  },
  {
   "cell_type": "markdown",
   "metadata": {},
   "source": [
    "# 4 - Lesson Review\n",
    "\n",
    "Python lists are very useful in programming.  Please copy the coding examples above and try them out yourself."
   ]
  }
 ],
 "metadata": {
  "kernelspec": {
   "display_name": "Python 3",
   "language": "python",
   "name": "python3"
  },
  "language_info": {
   "codemirror_mode": {
    "name": "ipython",
    "version": 3
   },
   "file_extension": ".py",
   "mimetype": "text/x-python",
   "name": "python",
   "nbconvert_exporter": "python",
   "pygments_lexer": "ipython3",
   "version": "3.7.1"
  }
 },
 "nbformat": 4,
 "nbformat_minor": 2
}
