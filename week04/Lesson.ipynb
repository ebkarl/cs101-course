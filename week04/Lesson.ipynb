{
 "cells": [
  {
   "cell_type": "markdown",
   "metadata": {},
   "source": [
    "![](../images/cs101.png)\n",
    "***\n",
    "\n",
    "# 04 - Lesson : Data Input\n"
   ]
  },
  {
   "cell_type": "markdown",
   "metadata": {},
   "source": [
    "# 0 - Coding Examples in This Lesson\n",
    "\n",
    "There are many small coding examples in this lesson.  I would strongly suggest that you type these examples in Thonny (or your Python IDE) to better understand the code."
   ]
  },
  {
   "cell_type": "markdown",
   "metadata": {},
   "source": [
    "# 1 - Objectives and Goals\n",
    "\n",
    "Students will:\n",
    "\n",
    "- Learn to use the input() function to prompt the user for information\n",
    "- Convert integers to strings, strings to integers\n",
    "- Learn about the builtin functions abs(), len(), max(), min(), pow(), sum(), round()\n"
   ]
  },
  {
   "cell_type": "markdown",
   "metadata": {},
   "source": [
    "# 2 - Preparation\n",
    "\n",
    "For this lesson, please review and read:\n",
    "\n",
    "- Last week's lesson on variables.\n"
   ]
  },
  {
   "cell_type": "markdown",
   "metadata": {},
   "source": [
    "# 3 - Lesson Details\n",
    "\n",
    "This lesson is about receiving information or data into your program from a user.  The main function that we will be using in this course is the input() function."
   ]
  },
  {
   "cell_type": "markdown",
   "metadata": {},
   "source": [
    "## input() function\n",
    "\n",
    "The input() function:\n",
    "1. reads a line from input when the Enter key is pressed.\n",
    "1. converts into a string.\n",
    "1. and returns it.\n",
    "\n",
    "The syntax of input() method is where prompt is a text string:\n",
    "```python\n",
    "variable = input([prompt])\n",
    "\n",
    "name = input('Enter your name: ')\n",
    "```"
   ]
  },
  {
   "cell_type": "code",
   "execution_count": 1,
   "metadata": {},
   "outputs": [
    {
     "name": "stdin",
     "output_type": "stream",
     "text": [
      "Enter your favorite color: Blue\n"
     ]
    },
    {
     "name": "stdout",
     "output_type": "stream",
     "text": [
      "The color you entered was Blue\n"
     ]
    }
   ],
   "source": [
    "# Example of asking the user for a color using a variable\n",
    "color = input('Enter your favorite color: ')\n",
    "print('The color you entered was {}'.format(color))"
   ]
  },
  {
   "cell_type": "code",
   "execution_count": 2,
   "metadata": {},
   "outputs": [
    {
     "name": "stdin",
     "output_type": "stream",
     "text": [
      "Enter your favorite color: Red\n"
     ]
    },
    {
     "name": "stdout",
     "output_type": "stream",
     "text": [
      "The color you entered was Red\n"
     ]
    }
   ],
   "source": [
    "# Example of asking the user for a color where the answer goes directly\n",
    "# into the format() function.\n",
    "print('The color you entered was {}'.format(input('Enter your favorite color:')))"
   ]
  },
  {
   "cell_type": "markdown",
   "metadata": {},
   "source": [
    "## Input Data Types\n",
    "\n",
    "The function input() will return a string for anything prompted to the user.  This means that when you prompt the user for a number, that number will be returned as a string.  The type() function tells the programmer what data type a variable is."
   ]
  },
  {
   "cell_type": "code",
   "execution_count": 3,
   "metadata": {},
   "outputs": [
    {
     "name": "stdin",
     "output_type": "stream",
     "text": [
      "Enter a number: 23\n"
     ]
    },
    {
     "name": "stdout",
     "output_type": "stream",
     "text": [
      "value is 23\n",
      "The data type of value is <class 'str'>\n",
      "The data type of 34 is <class 'int'>\n"
     ]
    }
   ],
   "source": [
    "# Prompt user for a number and display it's type\n",
    "value = input('Enter a number:')\n",
    "print('value is', value)\n",
    "print('The data type of value is', type(value))\n",
    "print('The data type of 34 is', type(34))"
   ]
  },
  {
   "cell_type": "markdown",
   "metadata": {},
   "source": [
    "The **\"<class 'str'>\"** tells the programmer that the variable \"value\" is a string not an integer. **\"<class 'int'>\"** indicates that a variable is an integer.  **\"<class 'float'>\"** is for floats."
   ]
  },
  {
   "cell_type": "markdown",
   "metadata": {},
   "source": [
    "**Integers**\n",
    "\n",
    "In order to have a variable that is an integer when prompting information from the user, you must use the function **int()**.  It will convert a string representation of a number to a number.  In most cases, the function int() is used \"around\" the input function.  See the coding example below."
   ]
  },
  {
   "cell_type": "code",
   "execution_count": 4,
   "metadata": {},
   "outputs": [
    {
     "name": "stdin",
     "output_type": "stream",
     "text": [
      "Enter a number: 23\n"
     ]
    },
    {
     "name": "stdout",
     "output_type": "stream",
     "text": [
      "value is 23\n",
      "The data type of value is <class 'int'>\n"
     ]
    }
   ],
   "source": [
    "# Prompt user for a number and display it's type\n",
    "value = int(input('Enter a number:'))\n",
    "print('value is', value)\n",
    "print('The data type of value is', type(value))"
   ]
  },
  {
   "cell_type": "markdown",
   "metadata": {},
   "source": [
    "**floats**\n",
    "\n",
    "If you want to prompt the user for a float, you can use the function **float()** to convert the string to a float."
   ]
  },
  {
   "cell_type": "code",
   "execution_count": 5,
   "metadata": {},
   "outputs": [
    {
     "name": "stdin",
     "output_type": "stream",
     "text": [
      "Enter a number: 23\n"
     ]
    },
    {
     "name": "stdout",
     "output_type": "stream",
     "text": [
      "value is 23.0\n",
      "The data type of value is <class 'float'>\n"
     ]
    }
   ],
   "source": [
    "# Prompt user for a number and display it's type\n",
    "value = float(input('Enter a number:'))\n",
    "print('value is', value)\n",
    "print('The data type of value is', type(value))"
   ]
  },
  {
   "cell_type": "markdown",
   "metadata": {},
   "source": [
    "## Builtin String and Math functions"
   ]
  },
  {
   "cell_type": "markdown",
   "metadata": {},
   "source": [
    "### len() function\n",
    "\n",
    "This is a very useful function that returns the length of a string.  Later in the course, we will be using this function with lists."
   ]
  },
  {
   "cell_type": "code",
   "execution_count": 6,
   "metadata": {},
   "outputs": [
    {
     "name": "stdout",
     "output_type": "stream",
     "text": [
      "10\n"
     ]
    }
   ],
   "source": [
    "name = 'John Smith'\n",
    "print(len(name))"
   ]
  },
  {
   "cell_type": "markdown",
   "metadata": {},
   "source": [
    "### abs() function\n",
    "\n",
    "This function converts a number to the positive version of itself."
   ]
  },
  {
   "cell_type": "code",
   "execution_count": 7,
   "metadata": {},
   "outputs": [
    {
     "name": "stdout",
     "output_type": "stream",
     "text": [
      "-123.456 123.456\n"
     ]
    }
   ],
   "source": [
    "value = -123.456\n",
    "print(value, abs(value))"
   ]
  },
  {
   "cell_type": "markdown",
   "metadata": {},
   "source": [
    "### max() function\n",
    "\n",
    "This function returns the largest value from a group of values"
   ]
  },
  {
   "cell_type": "code",
   "execution_count": 8,
   "metadata": {},
   "outputs": [
    {
     "name": "stdout",
     "output_type": "stream",
     "text": [
      "45\n"
     ]
    }
   ],
   "source": [
    "print(max(12, 23, 34, 45, 9))"
   ]
  },
  {
   "cell_type": "markdown",
   "metadata": {},
   "source": [
    "### min() function\n",
    "\n",
    "This function returns the smallest value from a group of values"
   ]
  },
  {
   "cell_type": "code",
   "execution_count": 9,
   "metadata": {},
   "outputs": [
    {
     "name": "stdout",
     "output_type": "stream",
     "text": [
      "9\n"
     ]
    }
   ],
   "source": [
    "print(min(12, 23, 34, 45, 9))"
   ]
  },
  {
   "cell_type": "markdown",
   "metadata": {},
   "source": [
    "### pow() function\n",
    "\n",
    "This function is the power function.  It allows you to calculate the results of raising a value to a power.  The same feature of raising a value to a power can be done using two '*' characters."
   ]
  },
  {
   "cell_type": "code",
   "execution_count": 10,
   "metadata": {},
   "outputs": [
    {
     "name": "stdout",
     "output_type": "stream",
     "text": [
      "pow(34, 4) = 1336336\n",
      "34 ** 4    = 1336336\n"
     ]
    }
   ],
   "source": [
    "# Display 34 to the 4th power\n",
    "print('pow(34, 4) =', pow(34, 4))\n",
    "print('34 ** 4    =', 34 ** 4)\n"
   ]
  },
  {
   "cell_type": "markdown",
   "metadata": {},
   "source": [
    "### sum() function\n",
    "\n",
    "This function till sum or total a group of values.  **Note** that the group of numbers must be surrounded by **()** or **[]** in order for the sum() function to work."
   ]
  },
  {
   "cell_type": "code",
   "execution_count": 11,
   "metadata": {},
   "outputs": [
    {
     "name": "stdout",
     "output_type": "stream",
     "text": [
      "55\n",
      "55\n"
     ]
    }
   ],
   "source": [
    "print(sum((1, 2, 3, 4, 5, 6, 7, 8, 9, 10)))\n",
    "print(sum([1, 2, 3, 4, 5, 6, 7, 8, 9, 10]))"
   ]
  },
  {
   "cell_type": "markdown",
   "metadata": {},
   "source": [
    "### round() function\n",
    "\n",
    "This function is helpful when you need to round float numbers.  The function takes two arugments or values, 1) the number to round and 2) the number of decimal points to round to."
   ]
  },
  {
   "cell_type": "code",
   "execution_count": 12,
   "metadata": {},
   "outputs": [
    {
     "name": "stdout",
     "output_type": "stream",
     "text": [
      "Round to 0: 123.0\n",
      "Round to 1: 123.5\n",
      "Round to 2: 123.46\n",
      "Round to 3: 123.457\n"
     ]
    }
   ],
   "source": [
    "value = 123.4567890\n",
    "print('Round to 0:', round(value, 0))\n",
    "print('Round to 1:', round(value, 1))\n",
    "print('Round to 2:', round(value, 2))\n",
    "print('Round to 3:', round(value, 3))"
   ]
  },
  {
   "cell_type": "markdown",
   "metadata": {},
   "source": [
    "# 4 - Lesson Review\n",
    "\n",
    "The function input() is the main method that Python programmers how to get information directly from the user.  Remember that the results from the input() function is always a string.  You can use **int()** and **float()** to convert those results."
   ]
  }
 ],
 "metadata": {
  "kernelspec": {
   "display_name": "Python 3",
   "language": "python",
   "name": "python3"
  },
  "language_info": {
   "codemirror_mode": {
    "name": "ipython",
    "version": 3
   },
   "file_extension": ".py",
   "mimetype": "text/x-python",
   "name": "python",
   "nbconvert_exporter": "python",
   "pygments_lexer": "ipython3",
   "version": "3.7.0"
  }
 },
 "nbformat": 4,
 "nbformat_minor": 2
}
