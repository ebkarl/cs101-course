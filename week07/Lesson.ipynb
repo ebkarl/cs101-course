{
 "cells": [
  {
   "cell_type": "markdown",
   "metadata": {},
   "source": [
    "![](../images/cs101.png)\n",
    "***\n",
    "\n",
    "# 07 - Lesson : Boolean Expressions\n"
   ]
  },
  {
   "cell_type": "markdown",
   "metadata": {},
   "source": [
    "# 0 - Coding Examples in This Lesson\n",
    "\n",
    "There are many small coding examples in this lesson.  I would strongly suggest that you type these examples in Thonny (or your Python IDE) to better understand the code."
   ]
  },
  {
   "cell_type": "markdown",
   "metadata": {},
   "source": [
    "# 1 - Objectives and Goals\n",
    "\n",
    "Students will:\n",
    "\n",
    "- understand how to construct boolean expressions using `and`, `or`, and `not`.\n",
    "- Learn to use comparison operations such as less than, greater than, etc..."
   ]
  },
  {
   "cell_type": "markdown",
   "metadata": {},
   "source": [
    "# 2 - Preparation\n",
    "\n",
    "For this lesson, please review and read:\n",
    "\n",
    "- None."
   ]
  },
  {
   "cell_type": "markdown",
   "metadata": {},
   "source": [
    "# 3 - Lesson Details\n",
    "\n",
    "This lesson outlines the different operators in Python that are used to compare variables and values.\n",
    "\n",
    "### Booleans\n",
    "\n",
    "In Python, a variable can be of type boolean.  These variables can only be assigned `True` or `False`.  Notice that both `True` and `False` are capitalized.  In programming, boolean variables are sometimes called \"flags\" or \"toggles\" where they indicate if something is on or off.\n"
   ]
  },
  {
   "cell_type": "code",
   "execution_count": 12,
   "metadata": {},
   "outputs": [
    {
     "name": "stdout",
     "output_type": "stream",
     "text": [
      "male    = True\n",
      "sunny   = False\n",
      "raining = True\n"
     ]
    }
   ],
   "source": [
    "# Boolean Examples\n",
    "male = True\n",
    "sunny = False\n",
    "raining = True\n",
    "print('male    =', male)\n",
    "print('sunny   =', sunny)\n",
    "print('raining =', raining)"
   ]
  },
  {
   "cell_type": "markdown",
   "metadata": {},
   "source": [
    "### Review of Math Operators\n",
    "\n",
    "Math operators compare numbers and the results of this comparison is another number.\n",
    "\n",
    "Assume these variables:\n",
    "\n",
    "```python\n",
    "a = 10\n",
    "b = 21\n",
    "```\n",
    "\n",
    "| Operator | Name | Description | Example |\n",
    "|----------\t|----------\t|---------------\t|-------\t|\n",
    "| + | addition | Adds values on either side of the operator | a + b => 31 |\n",
    "| - | subtraction | Subtracts right hand operand from left hand operand | a – b => -11 |\n",
    "| * | multiplication | Multiplies values on either side of the operator | a * b => 210 |\n",
    "| / | division | Divides left hand operand by right hand operand | b / a => 2.1 |\n",
    "| % | modulo | Divides left hand operand by right hand operand and returns remainder | b % a => 1 |\n",
    "| ** | exponent | Performs exponential (power) calculation on operators | a ** b => 10 to the power 20 |\n",
    "| // | floor division | The division of operands where the result is the quotient in which the digits after the decimal point are removed. But if one of the operands is negative, the result is floored, i.e., rounded away from zero (towards negative infinity) | 9//2 => 4 and 9.0//2.0 => 4.0, -11//3 => -4, -11.0//3 => -4.0 |\n"
   ]
  },
  {
   "cell_type": "markdown",
   "metadata": {},
   "source": [
    "### Comparison Operators\n",
    "\n",
    "Comparison operators are used to compare `integers`, `floats` and `strings`.  The results of these operators is a boolean (ie., True or False)."
   ]
  },
  {
   "cell_type": "code",
   "execution_count": 13,
   "metadata": {},
   "outputs": [
    {
     "name": "stdout",
     "output_type": "stream",
     "text": [
      "age > 50  = False\n",
      "age < 50  = True\n",
      "age == 50 = False\n"
     ]
    }
   ],
   "source": [
    "# comparing integers\n",
    "age = 34\n",
    "print('age > 50  =', age > 50)\n",
    "print('age < 50  =', age < 50)\n",
    "print('age == 50 =', age == 50)"
   ]
  },
  {
   "cell_type": "code",
   "execution_count": 14,
   "metadata": {},
   "outputs": [
    {
     "name": "stdout",
     "output_type": "stream",
     "text": [
      "gpa == 4.0 -> False\n",
      "gpa > 3.0  -> False\n",
      "gpa < 3.0  -> True\n"
     ]
    }
   ],
   "source": [
    "# Comparing floats\n",
    "gpa = 3.45\n",
    "print('gpa == 4.0 ->', gpa == 4.0)\n",
    "print('gpa > 3.0  ->', gpa > 4.0)\n",
    "print('gpa < 3.0  ->', gpa < 4.0)\n"
   ]
  },
  {
   "cell_type": "code",
   "execution_count": 15,
   "metadata": {},
   "outputs": [
    {
     "name": "stdout",
     "output_type": "stream",
     "text": [
      "name == 'John' -> True\n",
      "name == 'john' -> False\n",
      "name == name2  -> True\n"
     ]
    }
   ],
   "source": [
    "# Comparing Strings\n",
    "name = 'John'\n",
    "print(\"name == 'John' ->\", name == 'John')\n",
    "\n",
    "# Notice that 'J' is not the same as 'j'.  How would you compare them?\n",
    "print(\"name == 'john' ->\", name == 'john')\n",
    "\n",
    "name2 = 'John'\n",
    "print(\"name == name2  ->\", name == name2)\n"
   ]
  },
  {
   "cell_type": "markdown",
   "metadata": {},
   "source": [
    "Given these two variables, the following table outlines the different operators.\n",
    "\n",
    "```python\n",
    "a = 10\n",
    "b = 21\n",
    "```\n",
    "\n",
    "| Operator | Name | Description | Example |\n",
    "|----------\t|----------\t|---------------\t|-------\t|\n",
    "| == | is equal | If the values of two operands are equal, then the condition becomes true. | (a == b) is not true. |\n",
    "| != | not equal | If values of two operands are not equal, then condition becomes true. | (a != b) is true. |\n",
    "| > | greater than | If the value of left operand is greater than the value of right operand, then condition becomes true. | (a > b) is not true. |\n",
    "| < | lesser than | If the value of left operand is less than the value of right operand, then condition becomes true. | (a < b) is true. |\n",
    "| >= | greater than equal | If the value of left operand is greater than or equal to the value of right operand, then condition becomes true. | (a >= b) is not true. |\n",
    "| <= | lesser than equal | If the value of left operand is less than or equal to the value of right operand, then condition becomes true. | (a <= b) is true. |"
   ]
  },
  {
   "cell_type": "markdown",
   "metadata": {},
   "source": [
    "### Logic Operators\n",
    "\n",
    "Logic operators will compare boolean values.  The results is another boolean.  For example in the code sample below, two boolean variables are set to True and are compared using `and`, `or` and `not`. In the sample code below, notice that `not` is evaluated before `and` and `or` if there are no parentheses."
   ]
  },
  {
   "cell_type": "code",
   "execution_count": 16,
   "metadata": {},
   "outputs": [
    {
     "name": "stdout",
     "output_type": "stream",
     "text": [
      "happy and knowit       : True\n",
      "happy or knowit        : True\n",
      "not happy              : False\n",
      "not (happy and knowit) : False\n",
      "not happy and knowit   : False\n",
      "not happy or knowit    : True\n",
      "not (happy or knowit)  : False\n"
     ]
    }
   ],
   "source": [
    "happy = True\n",
    "knowit = True\n",
    "print('happy and knowit       :', happy and knowit)\n",
    "print('happy or knowit        :', happy or knowit)\n",
    "print('not happy              :', not happy)\n",
    "print('not (happy and knowit) :', not (happy and knowit))\n",
    "print('not happy and knowit   :', not happy and knowit)\n",
    "print('not happy or knowit    :', not happy or knowit)\n",
    "print('not (happy or knowit)  :', not (happy or knowit))\n"
   ]
  },
  {
   "cell_type": "markdown",
   "metadata": {},
   "source": [
    "Given the variables `a` and `b`, here is a table of logic operations.\n",
    "\n",
    "```python\n",
    "a = True\n",
    "b = False\n",
    "```\n",
    "\n",
    "| Operator | Description | Example |\n",
    "|----------\t|---------------\t|-------\t|\n",
    "| and | Logical AND\tIf both the operands are true then condition becomes true. | (a and b) is False. |\n",
    "| or | Logical OR\tIf any of the two operands are non-zero then condition becomes true. | (a or b) is True. |\n",
    "| not | Logical NOT\tUsed to reverse the logical state of its operand. | Not(a and b) is True. |"
   ]
  },
  {
   "cell_type": "markdown",
   "metadata": {},
   "source": [
    "# 4 - Lesson Review\n",
    "\n",
    "There are different types of operators that can be used to compare variables and value.  They fall into 3 main groups.\n",
    "\n",
    "| Operator type | What they compare | Results |\n",
    "|----------\t|---------------\t|-------\t|\n",
    "| Math Operators | numbers | number |\n",
    "| Comparison Operators | numbers and strings | boolean |\n",
    "| Logic Operators | boolean | boolean |\n",
    "\n"
   ]
  }
 ],
 "metadata": {
  "kernelspec": {
   "display_name": "Python 3",
   "language": "python",
   "name": "python3"
  },
  "language_info": {
   "codemirror_mode": {
    "name": "ipython",
    "version": 3
   },
   "file_extension": ".py",
   "mimetype": "text/x-python",
   "name": "python",
   "nbconvert_exporter": "python",
   "pygments_lexer": "ipython3",
   "version": "3.7.0"
  }
 },
 "nbformat": 4,
 "nbformat_minor": 2
}
