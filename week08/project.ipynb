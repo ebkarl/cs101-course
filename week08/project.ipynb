{
 "cells": [
  {
   "cell_type": "markdown",
   "metadata": {},
   "source": [
    "![](../images/cs101.png)\n",
    "***\n",
    "\n",
    "# 08 - Project : IF Statements\n"
   ]
  },
  {
   "cell_type": "markdown",
   "metadata": {},
   "source": [
    "# 0 - Setup\n",
    "\n",
    "The following project will require you write and run your own Python code.  There are a number of ways to do this.\n",
    "\n",
    "- All projects in this course are individually based in that you submit your own code.  You must not copy code from the Internet or from another student.\n",
    "- Thonny on your computer.  To install Thonny, please go to [Installing Thonny for instructions.](../resources/thonny.ipynb)\n",
    "- Online sites such as https://www.pythonanywhere.com/ or https://www.trinket.io/.  You are able to create free accounts on these websites.\n",
    "- There are other Python 3 IDEs that are available.  You are free to use them.  Remember that the course TA must be able to run your code that you submit.  The details of these other IDEs are not covered in this course.\n",
    "- You must use version 3 of Python."
   ]
  },
  {
   "cell_type": "markdown",
   "metadata": {},
   "source": [
    "# 1 - Objectives\n",
    "\n",
    "- Using if statements.\n",
    "- Using assert() functions to verify and test the return values of functions."
   ]
  },
  {
   "cell_type": "markdown",
   "metadata": {},
   "source": [
    "# 2 - Overview\n",
    "\n",
    "This project will implement tax rate fucntions.\n"
   ]
  },
  {
   "cell_type": "markdown",
   "metadata": {},
   "source": [
    "# 3 - Instructions\n",
    "\n",
    "## 3.1 - Get the Project code\n",
    "\n",
    "1. Open Thonny and create a new Python called projectXX.py. (Where XX is the project number) Keep Thonny open.\n",
    "1. Click on [this link to open the project.py](project.py) file.\n",
    "1. To the right of the screen, then is a button with the text \"Raw\".  Click on this.\n",
    "1. Press Control-A or Command-A to select all of the code.\n",
    "1. Press Control-C or Command-C to copy the code.\n",
    "1. Select Thonny and press Control-v or Command-v to paste the Python code to Thonny.\n",
    "1. In Thonny, save your Python file with the code that you pasted.  You can save your project file anywhere on your computer.  However, you need to keep track where it is."
   ]
  },
  {
   "cell_type": "markdown",
   "metadata": {},
   "source": [
    "## 3.2 - Writing your Code\n",
    "\n",
    "Your program will be calculating the tax rate for single and married individuals.  For example, if a single person made $25,345, then their tax rate would be 12%.  A married couple with combined income of 100,000.00 would have a tax rate of 22%\n",
    "\n",
    "2018 IRS Tax Rates: (https://www.efile.com/tax-rate/federal-income-tax-rates/#2018)\n",
    "\n",
    "| Tax Rate % | Single | Married/Joint & Widow(er) | Married/Separate | Head of Household |\n",
    "| ---- | ---- | ---- | ---- | ---- |\n",
    "| `10` | `$1 to $9,525` | `$1 to $19,050` | `$1 to $9,525` | `$1 to $13,600` |\n",
    "| `12` | `$9,526 to $38,700` | `$19,051 to $77,400` | `$9,526 to $38,700` | `$13,601 to $51,800` |\n",
    "| `22` | `$38,701 to $82,500` | `$77,401 to $165,000` | `$38,701 to $82,500` | `$51,801 to $82,500` |\n",
    "| `24` | `$82,501 to $157,500` | `$165,001 to $315,000` | `$82,501 to $157,500` | `$82,501 to $157,500` |\n",
    "| `32` | `$157,501 to $200,000` | `$315,001 to $400,000` | `$157,501 to $200,000` | `$157,500 to $200,000` |\n",
    "| `35` | `$200,001 to $500,000` | `$400,001 to $600,000` | `$200,001 to $300,000` | `$200,001 to $500,000` |\n",
    "| `37` | `over $500,000` | `over $600,000` | `over $300,000` | `over $500,000` |"
   ]
  },
  {
   "cell_type": "markdown",
   "metadata": {},
   "source": [
    "## 3.3 - Project code\n",
    "\n",
    "When you download the project.py file, you will find where you should implement the `computeSingleTax()` and `computeMarriedTax()` functions.  There will also be code in the main part of the program that will test your function.  Don't edit this code.\n",
    "\n",
    "The main code is using the assert() function to help with the testing of your functions.  They verify that you are calculating the correct tax rate based on monthly and yearly incomes.  If an assert() fails (ie., stops your program), you need to fix a bug/issue in your tax functions.\n",
    "\n"
   ]
  },
  {
   "cell_type": "markdown",
   "metadata": {},
   "source": [
    "# 4 - Rubric\n",
    "\n",
    "| Exceptional  | Good  | Acceptable  | Developing  | Unsatisfactory |\n",
    "|:-:\t|:-:\t|:-:\t|:-:\t|:-:\t|\n",
    "| Looks great | Nothing wrong, but could be better  | one or two issues  | Issues with the menu, too simple  | Little effort was spent on this project  |\n",
    "| 100%  | 90%  | 70%  | 50%  | 0%  |\n"
   ]
  },
  {
   "cell_type": "markdown",
   "metadata": {},
   "source": [
    "# 5 - Submitting\n",
    "\n",
    "After you have finished writing and testing your program:\n",
    "\n",
    "1. Go to the course in I-Learn.\n",
    "1. Find this project item.\n",
    "1. There will be a \"Submit Assignment\" button to the upper right.\n",
    "1. Click on \"Choose File\" and find the Python file for your program that you saved to your computer.\n"
   ]
  }
 ],
 "metadata": {
  "kernelspec": {
   "display_name": "Python 3",
   "language": "python",
   "name": "python3"
  },
  "language_info": {
   "codemirror_mode": {
    "name": "ipython",
    "version": 3
   },
   "file_extension": ".py",
   "mimetype": "text/x-python",
   "name": "python",
   "nbconvert_exporter": "python",
   "pygments_lexer": "ipython3",
   "version": "3.7.0"
  }
 },
 "nbformat": 4,
 "nbformat_minor": 2
}
