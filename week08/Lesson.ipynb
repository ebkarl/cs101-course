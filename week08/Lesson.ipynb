{
 "cells": [
  {
   "cell_type": "markdown",
   "metadata": {},
   "source": [
    "![](../images/cs101.png)\n",
    "***\n",
    "\n",
    "# 08 - Lesson : IF Statements\n"
   ]
  },
  {
   "cell_type": "markdown",
   "metadata": {},
   "source": [
    "# 0 - Coding Examples in This Lesson\n",
    "\n",
    "There are many small coding examples in this lesson.  I would strongly suggest that you type these examples in Thonny (or your Python IDE) to better understand the code."
   ]
  },
  {
   "cell_type": "markdown",
   "metadata": {},
   "source": [
    "# 1 - Objectives and Goals\n",
    "\n",
    "Students will:\n",
    "\n",
    "- Learn to use if statements.\n"
   ]
  },
  {
   "cell_type": "markdown",
   "metadata": {},
   "source": [
    "# 2 - Preparation\n",
    "\n",
    "For this lesson, please review and read:\n",
    "\n",
    "- [More details on Python Conditions](https://www.w3schools.com/python/python_conditions.asp)\n"
   ]
  },
  {
   "cell_type": "markdown",
   "metadata": {},
   "source": [
    "# 3 - Lesson Details\n",
    "\n",
    "## 3.1 Conditions Review\n",
    "\n",
    "From a previos lesson, we used conditional expressions or Boolean expressions when we compared variables.\n",
    "\n",
    "Given these two variables, the following table outlines the different operators.\n",
    "\n",
    "```python\n",
    "a = 10\n",
    "b = 21\n",
    "```\n",
    "\n",
    "| Operator | Name | Description | Example |\n",
    "|----------\t|----------\t|---------------\t|-------\t|\n",
    "| == | is equal | If the values of two operands are equal, then the condition becomes true. | (a == b) is false |\n",
    "| != | not equal | If values of two operands are not equal, then condition becomes true. | (a != b) is true. |\n",
    "| > | greater than | If the value of left operand is greater than the value of right operand, then condition becomes true. | (a > b) is false. |\n",
    "| < | lesser than | If the value of left operand is less than the value of right operand, then condition becomes true. | (a < b) is true. |\n",
    "| >= | greater than equal | If the value of left operand is greater than or equal to the value of right operand, then condition becomes true. | (a >= b) is false. |\n",
    "| <= | lesser than equal | If the value of left operand is less than or equal to the value of right operand, then condition becomes true. | (a <= b) is true. |"
   ]
  },
  {
   "cell_type": "markdown",
   "metadata": {},
   "source": [
    "### Examples of using Boolean expressions"
   ]
  },
  {
   "cell_type": "code",
   "execution_count": 8,
   "metadata": {},
   "outputs": [
    {
     "name": "stdout",
     "output_type": "stream",
     "text": [
      "True\n"
     ]
    }
   ],
   "source": [
    "# If age is over 20 displaying the results with a print statement\n",
    "age = 22\n",
    "print(age > 20)"
   ]
  },
  {
   "cell_type": "code",
   "execution_count": 1,
   "metadata": {},
   "outputs": [
    {
     "name": "stdout",
     "output_type": "stream",
     "text": [
      "True\n",
      "the variable is of type: <class 'bool'>\n"
     ]
    }
   ],
   "source": [
    "# If age is over 20 using a variable\n",
    "age = 22\n",
    "over20 = age > 20\n",
    "print(over20)\n",
    "print('the variable is of type:', type(over20))"
   ]
  },
  {
   "cell_type": "code",
   "execution_count": 10,
   "metadata": {},
   "outputs": [
    {
     "name": "stdout",
     "output_type": "stream",
     "text": [
      "Do you pay taxes on your income: False\n"
     ]
    }
   ],
   "source": [
    "# Should a person pay taxes if income is over 10,000\n",
    "income = 8345\n",
    "payTaxes = (income >= 10000)\n",
    "print('Do you pay taxes on your income:', payTaxes)"
   ]
  },
  {
   "cell_type": "code",
   "execution_count": 11,
   "metadata": {},
   "outputs": [
    {
     "name": "stdout",
     "output_type": "stream",
     "text": [
      "Do you pay taxes on your income: True\n"
     ]
    }
   ],
   "source": [
    "# Should a person pay taxes if income is over 10,000\n",
    "income = 20101\n",
    "payTaxes = (income >= 10000)\n",
    "print('Do you pay taxes on your income:', payTaxes)"
   ]
  },
  {
   "cell_type": "markdown",
   "metadata": {},
   "source": [
    "## 3.2 IF statements\n",
    "\n",
    "The if statement uses boolean expressions to allow you the programmer to make decisions and execute different actions in a program. \n",
    "\n",
    "The general Python syntax for an if statement is\n",
    "\n",
    "```\n",
    "if condition :\n",
    "    statements\n",
    "else:\n",
    "    statements\n",
    "```\n",
    "\n",
    "**condition**\n",
    "\n",
    "This is the Boolean expression of the if statement.  You are \"testing\" the expression to see if it is True or False.  Notice that there is a \":\" after the Boolean expression.  Some programmers will place parentheses around the Boolean expression.  This is optional.\n",
    "\n",
    "**else**\n",
    "\n",
    "This is optional in an if statement.  The else section is used if you need to execute any statements if the Boolean expression is **not** true.  Notice that there is a \":\" after the \"else\".\n",
    "\n",
    "**statements**\n",
    "\n",
    "You are using an if statement to test a Boolean expression and to execute statements if the expression is true or false.  These statements can be any Python statements.  For example, you can print out lots of information to the user.  You can have another if statement.  You can call other functions, etc...  \n",
    "\n",
    "Please look at the following code examples for how if statements can be used.\n"
   ]
  },
  {
   "cell_type": "markdown",
   "metadata": {},
   "source": [
    "### Examples of if statements"
   ]
  },
  {
   "cell_type": "code",
   "execution_count": 2,
   "metadata": {},
   "outputs": [
    {
     "name": "stdout",
     "output_type": "stream",
     "text": [
      "You can vote\n"
     ]
    }
   ],
   "source": [
    "# Tell a person if they are old enough to vote\n",
    "age = 21\n",
    "if (age >= 21):\n",
    "    print('You can vote')"
   ]
  },
  {
   "cell_type": "code",
   "execution_count": 13,
   "metadata": {},
   "outputs": [],
   "source": [
    "# Tell a person if they are old enough to vote\n",
    "# Notice that in this case, the person is not old enough to vote and\n",
    "# nothing is displayed on the screen.\n",
    "age = 10\n",
    "if (age >= 20):\n",
    "    print('You can vote')"
   ]
  },
  {
   "cell_type": "code",
   "execution_count": 3,
   "metadata": {},
   "outputs": [
    {
     "name": "stdout",
     "output_type": "stream",
     "text": [
      "You can vote\n"
     ]
    }
   ],
   "source": [
    "# Tell a person if they are old enough to vote or not\n",
    "age = 21\n",
    "if (age >= 21):\n",
    "    print('You can vote')\n",
    "else:\n",
    "    print('Not old enough to vote')"
   ]
  },
  {
   "cell_type": "code",
   "execution_count": 4,
   "metadata": {},
   "outputs": [
    {
     "name": "stdout",
     "output_type": "stream",
     "text": [
      "Not old enough to vote\n"
     ]
    }
   ],
   "source": [
    "# Tell a person if they are old enough to vote or not\n",
    "age = 10\n",
    "if (age >= 21):\n",
    "    print('You can vote')\n",
    "else:\n",
    "    print('Not old enough to vote')"
   ]
  },
  {
   "cell_type": "code",
   "execution_count": 5,
   "metadata": {},
   "outputs": [
    {
     "name": "stdout",
     "output_type": "stream",
     "text": [
      "Not old enough to vote\n",
      "Thank you for using this program (This is not part of the if statement)\n"
     ]
    }
   ],
   "source": [
    "# Tell a person if they are old enough to vote or not\n",
    "# THEN, displaying that the program is finish\n",
    "age = 10\n",
    "if (age >= 21):\n",
    "    print('You can vote')\n",
    "else:\n",
    "    print('Not old enough to vote')\n",
    "\n",
    "# This statement is not indented, so it is not part of the if statement\n",
    "print('Thank you for using this program (This is not part of the if statement)')"
   ]
  },
  {
   "cell_type": "markdown",
   "metadata": {},
   "source": [
    "### Compound statements\n",
    "\n",
    "In the true and else section of an if statement, you can have multiple statements.  They must be indented."
   ]
  },
  {
   "cell_type": "code",
   "execution_count": 6,
   "metadata": {},
   "outputs": [
    {
     "name": "stdout",
     "output_type": "stream",
     "text": [
      "You can vote.\n",
      "Please go to your nearest voting station to vote.\n",
      "If you have any questions, please contact 800-111-2222.\n"
     ]
    }
   ],
   "source": [
    "# Tell a person if they are old enough to vote or not\n",
    "age = 21\n",
    "if (age >= 21):\n",
    "    print('You can vote.')\n",
    "    print('Please go to your nearest voting station to vote.')\n",
    "    print('If you have any questions, please contact 800-111-2222.')\n",
    "else:\n",
    "    print('Not old enough to vote.')\n",
    "    print('you will need to wait', 20 - age, 'more years to vote.')"
   ]
  },
  {
   "cell_type": "code",
   "execution_count": 8,
   "metadata": {},
   "outputs": [
    {
     "name": "stdout",
     "output_type": "stream",
     "text": [
      "Not old enough to vote.\n",
      "you will need to wait 4 more years to vote.\n"
     ]
    }
   ],
   "source": [
    "# Tell a person if they are old enough to vote or not\n",
    "age = 17\n",
    "if (age >= 21):\n",
    "    print('You can vote.')\n",
    "    print('Please go to your nearest voting station to vote.')\n",
    "    print('If you have any questions, please contact 800-111-2222.')\n",
    "else:\n",
    "    print('Not old enough to vote.')\n",
    "    print('you will need to wait', 21 - age, 'more years to vote.')"
   ]
  },
  {
   "cell_type": "code",
   "execution_count": 19,
   "metadata": {},
   "outputs": [
    {
     "name": "stdout",
     "output_type": "stream",
     "text": [
      "you are happy\n"
     ]
    }
   ],
   "source": [
    "# Happy and you know it.  This is using an \"and\" condition in the Boolean expression\n",
    "happy = True\n",
    "knowit = True\n",
    "if (happy and knowit):\n",
    "    print('you are happy')\n",
    "else:\n",
    "    print('you are sad')"
   ]
  },
  {
   "cell_type": "markdown",
   "metadata": {},
   "source": [
    "### elif statement\n",
    "\n",
    "This \"elif\" statement is used when there is more than one True or False condition that you want to test. "
   ]
  },
  {
   "cell_type": "code",
   "execution_count": 21,
   "metadata": {},
   "outputs": [
    {
     "name": "stdout",
     "output_type": "stream",
     "text": [
      "a < b\n"
     ]
    }
   ],
   "source": [
    "# Here is code that will compare two numbers to see if:\n",
    "# 1) a < b\n",
    "# 2) a == b\n",
    "# 3) a > b\n",
    "\n",
    "# Using normal \"if\" and \"else\".  Notice that the \"else\" contains another if statement\n",
    "# and is indented correctly.\n",
    "a = 10\n",
    "b = 20\n",
    "if (a < b):\n",
    "    print('a < b')\n",
    "else:\n",
    "    if (a == b):\n",
    "        print('a == b')\n",
    "    else:\n",
    "        print('a > b')"
   ]
  },
  {
   "cell_type": "code",
   "execution_count": 24,
   "metadata": {},
   "outputs": [
    {
     "name": "stdout",
     "output_type": "stream",
     "text": [
      "a < b\n"
     ]
    }
   ],
   "source": [
    "# This code is using \"elif\" and implements the above code.\n",
    "# Notice that the \"elif\" combines the \"else\" and the another \"if\" statement together\n",
    "a = 10\n",
    "b = 20\n",
    "if (a < b):\n",
    "    print('a < b')\n",
    "elif (a == b):\n",
    "    print('a == b')\n",
    "else:\n",
    "    print('a > b')"
   ]
  },
  {
   "cell_type": "markdown",
   "metadata": {},
   "source": [
    "### Comparing ranges of values\n",
    "\n",
    "Sometimes, you will need to see if a value is within a given range. For example, lets say that you want to know if a grade on a test is an \"A\".  \"A\" will be between 90 and 100."
   ]
  },
  {
   "cell_type": "code",
   "execution_count": 22,
   "metadata": {},
   "outputs": [
    {
     "name": "stdout",
     "output_type": "stream",
     "text": [
      "You have an A!\n"
     ]
    }
   ],
   "source": [
    "# First method of comparing a range between 90 and 100\n",
    "# Notice that I need two boolean comparisons and an \"and\" statement.\n",
    "grade = 95\n",
    "if (grade >= 90 and grade <= 100):\n",
    "    print('You have an A!')"
   ]
  },
  {
   "cell_type": "code",
   "execution_count": 23,
   "metadata": {},
   "outputs": [
    {
     "name": "stdout",
     "output_type": "stream",
     "text": [
      "You have an A!\n"
     ]
    }
   ],
   "source": [
    "# Second method of comparing a range between 90 and 100\n",
    "# Notice that I have one expression with two \"<=\" operators\n",
    "grade = 95\n",
    "if (90 <= grade <= 100):\n",
    "    print('You have an A!')"
   ]
  },
  {
   "cell_type": "markdown",
   "metadata": {},
   "source": [
    "# 4 - Lesson Review\n",
    "\n",
    "Here is more information on how to use an if statement.\n",
    "\n",
    "- [More information on if statements](http://anh.cs.luc.edu/handsonPythonTutorial/ifstatements.html)\n",
    "- [If statement video](https://www.youtube.com/watch?v=4u2ClNCtcgY)\n",
    "- [if else video](https://www.youtube.com/watch?v=qf0sfRZ0hHc)"
   ]
  }
 ],
 "metadata": {
  "kernelspec": {
   "display_name": "Python 3",
   "language": "python",
   "name": "python3"
  },
  "language_info": {
   "codemirror_mode": {
    "name": "ipython",
    "version": 3
   },
   "file_extension": ".py",
   "mimetype": "text/x-python",
   "name": "python",
   "nbconvert_exporter": "python",
   "pygments_lexer": "ipython3",
   "version": "3.7.0"
  }
 },
 "nbformat": 4,
 "nbformat_minor": 2
}
