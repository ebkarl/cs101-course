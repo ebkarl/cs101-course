{
 "cells": [
  {
   "cell_type": "markdown",
   "metadata": {},
   "source": [
    "![](../images/cs101.png)\n",
    "***\n",
    "\n",
    "# 01 - Installing Python on your computer\n"
   ]
  },
  {
   "cell_type": "markdown",
   "metadata": {},
   "source": [
    "# 1 - Objectives and Goals\n",
    "\n",
    "Students will:\n",
    "\n",
    "- Install Python on their computer.\n",
    "- Be able to type and run \"Hello World\" program.\n"
   ]
  },
  {
   "cell_type": "markdown",
   "metadata": {},
   "source": [
    "# 2 - Preparation\n",
    "\n",
    "For this lesson, please review and read:\n",
    "\n",
    "- [Python website](http://www.python.org)\n",
    "- [Python for Astronomy](http://prancer.physics.louisville.edu/astrowiki/index.php/Python_for_Physics_and_Astronomy)\n",
    "- [Python for CPAs](http://www.python4cpas.com)\n",
    "- [Companies that use Python](https://realpython.com/world-class-companies-using-python)\n"
   ]
  },
  {
   "cell_type": "markdown",
   "metadata": {},
   "source": [
    "# 3 - Lesson Details\n"
   ]
  },
  {
   "cell_type": "markdown",
   "metadata": {},
   "source": [
    "## 3.1 - Thonny\n",
    "\n",
    "There are many free and commercial Python IDEs available.  An IDE is \"integrated development environment\".  IDEs are used to help programmers create software.  You are free to use any IDE that you want.  The only requirement is that your projects must be able to be compiled when submitted.\n",
    "\n",
    "Is this course, I will be using Thonny.  Thonny was created by the University of Tartu and is easy to set up and use.  To Install Thonny on your computer, please [go to this link](../resources/thonny.ipynb).\n",
    "\n"
   ]
  },
  {
   "cell_type": "markdown",
   "metadata": {},
   "source": [
    "## 3.2 - \"Hello World\" program\n",
    "\n",
    "What is \"Hello World\"\n",
    "\n",
    "> A \"Hello, World!\" program is a computer program that outputs or displays \"Hello, World!\" to a user. Being a very simple program in most programming languages, it is often used to illustrate the basic syntax of a programming language for a working program, and as such is often the very first program people write.\n",
    "\n",
    "### 3.2.1 - Start Thonny\n",
    "\n",
    "Once Thonny is installed on your computer, double click on it's icon to start it.\n",
    "\n",
    "![](step1.png)\n",
    "\n",
    "### 3.2.2 - Write the \"Hello World\" program\n",
    "\n",
    "Type: print(\"Hello World\") in the area where code goes.  Notice the single quotes around 'Hello World'.  This is important.\n",
    "\n",
    "![](step2.png)\n",
    "\n",
    "### 3.2.3 - Save your program\n",
    "\n",
    "From the File menu, select \"Save\" to save your program to a file.  The extension of the file must be \".py\".  My example below, I used \"hello.py\"\n",
    "\n",
    "![](step3.png)\n",
    "\n",
    "### 3.2.4 - Run \"Hello World\"\n",
    "\n",
    "Click on the little green arrow or press F5 on your keyboard to run your program.\n",
    "\n",
    "![](step4.png)\n",
    "\n"
   ]
  },
  {
   "cell_type": "markdown",
   "metadata": {},
   "source": [
    "## 3.3 - Write your own program\n",
    "\n",
    "Try to display different messages using the print() statement.\n"
   ]
  },
  {
   "cell_type": "markdown",
   "metadata": {},
   "source": [
    "# 4 - Lesson Review\n",
    "\n",
    "After following the steps outlined in today's lesson, you are ready to create your own programs."
   ]
  }
 ],
 "metadata": {
  "kernelspec": {
   "display_name": "Python 3",
   "language": "python",
   "name": "python3"
  },
  "language_info": {
   "codemirror_mode": {
    "name": "ipython",
    "version": 3
   },
   "file_extension": ".py",
   "mimetype": "text/x-python",
   "name": "python",
   "nbconvert_exporter": "python",
   "pygments_lexer": "ipython3",
   "version": "3.6.6"
  }
 },
 "nbformat": 4,
 "nbformat_minor": 2
}
