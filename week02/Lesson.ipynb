{
 "cells": [
  {
   "cell_type": "markdown",
   "metadata": {},
   "source": [
    "![](../images/cs101.png)\n",
    "***\n",
    "\n",
    "# 02 - Lesson : The print() statement\n"
   ]
  },
  {
   "cell_type": "markdown",
   "metadata": {},
   "source": [
    "# 0 - Coding Examples in This Lesson\n",
    "\n",
    "There are many small coding examples in this lesson.  I would strongly suggest that you type these examples in Thonny (or your Python IDE) to better understand the code."
   ]
  },
  {
   "cell_type": "markdown",
   "metadata": {},
   "source": [
    "# 1 - Objectives and Goals\n",
    "\n",
    "Students will:\n",
    "\n",
    "- be able to use the print() statement to display information to the screen.\n"
   ]
  },
  {
   "cell_type": "markdown",
   "metadata": {},
   "source": [
    "# 2 - Preparation\n",
    "\n",
    "For this lesson, please review and read:\n",
    "\n",
    "- [Python.org Print Documention](https://docs.python.org/3/tutorial/inputoutput.html)\n",
    "- Optional: [Python Built in Functions](https://docs.python.org/3/library/functions.html)"
   ]
  },
  {
   "cell_type": "markdown",
   "metadata": {},
   "source": [
    "# 3 - Lesson Details\n",
    "\n",
    "This lesson outlines the print() statement that is built into Python.  Please note that this will version 3 of Python.  Version 2 of Python has a different print() statment."
   ]
  },
  {
   "cell_type": "markdown",
   "metadata": {},
   "source": [
    "## print() statement\n",
    "\n",
    "One of the most used statement or function in any computer language is the print() or output statement.  Python uses the function print() to display information to the screen."
   ]
  },
  {
   "cell_type": "code",
   "execution_count": 1,
   "metadata": {},
   "outputs": [
    {
     "name": "stdout",
     "output_type": "stream",
     "text": [
      "hi\n"
     ]
    }
   ],
   "source": [
    "# display the text 'hi' to the screen\n",
    "print('hi')"
   ]
  },
  {
   "cell_type": "markdown",
   "metadata": {},
   "source": [
    "## Python Strings\n",
    "\n",
    "In the example above, 'hi' is called a string.  String in Python must start and end with either a single quote or a double quote.\n",
    "\n",
    "```python\n",
    "Good Examples:\n",
    "    \n",
    "   'hi'\n",
    "   \"My name is John\"\n",
    "    \n",
    "Bad Examples:\n",
    "    \n",
    "    'hi\"\n",
    "    \"\"My name is John\n",
    "    \n",
    "```"
   ]
  },
  {
   "cell_type": "markdown",
   "metadata": {},
   "source": [
    "## Displaying multiple strings\n",
    "\n",
    "You can display multiple strings using one print() statement"
   ]
  },
  {
   "cell_type": "code",
   "execution_count": 2,
   "metadata": {},
   "outputs": [
    {
     "name": "stdout",
     "output_type": "stream",
     "text": [
      "Hi, my name is John\n"
     ]
    }
   ],
   "source": [
    "print('Hi, my name is', 'John')"
   ]
  },
  {
   "cell_type": "markdown",
   "metadata": {},
   "source": [
    "In the above example, notice that a space was added between the words is and John.  By default, when you display multiple strings in Python, the print() statement will add a space."
   ]
  },
  {
   "cell_type": "code",
   "execution_count": 3,
   "metadata": {},
   "outputs": [
    {
     "name": "stdout",
     "output_type": "stream",
     "text": [
      "abcde\n",
      "a b c d e\n",
      "a b c d e\n"
     ]
    }
   ],
   "source": [
    "print('abcde')\n",
    "\n",
    "# Display one string with spaces\n",
    "print('a b c d e')\n",
    "\n",
    "# Display many strings and let Python add the spaces\n",
    "print('a', 'b', 'c', 'd', 'e')\n"
   ]
  },
  {
   "cell_type": "markdown",
   "metadata": {},
   "source": [
    "## Changing the default space between strings\n",
    "\n",
    "We see from the above section that Python will add a space between strings be default.  However, there is a method to change this default space character. The print() statement has an option called '**sep**' that allows you to change that default separator character.  It's placed at the end of the print() statement."
   ]
  },
  {
   "cell_type": "code",
   "execution_count": 4,
   "metadata": {},
   "outputs": [
    {
     "name": "stdout",
     "output_type": "stream",
     "text": [
      "a,b,c,d,e\n",
      "a-b-c-d-e\n",
      "a   b   c   d   e\n",
      "a-=-b-=-c-=-d-=-e\n"
     ]
    }
   ],
   "source": [
    "# comma separator\n",
    "print('a', 'b', 'c', 'd', 'e', sep=',')\n",
    "\n",
    "# - separator\n",
    "print('a', 'b', 'c', 'd', 'e', sep='-')\n",
    "\n",
    "# multiple spaces separator\n",
    "print('a', 'b', 'c', 'd', 'e', sep='   ')\n",
    "\n",
    "# multiple characters separator\n",
    "print('a', 'b', 'c', 'd', 'e', sep='-=-')\n"
   ]
  },
  {
   "cell_type": "markdown",
   "metadata": {},
   "source": [
    "## Display multiple lines\n",
    "\n",
    "Let's say that you have the following code."
   ]
  },
  {
   "cell_type": "code",
   "execution_count": 5,
   "metadata": {},
   "outputs": [
    {
     "name": "stdout",
     "output_type": "stream",
     "text": [
      "John\n",
      "Brown\n"
     ]
    }
   ],
   "source": [
    "print('John')\n",
    "print('Brown')"
   ]
  },
  {
   "cell_type": "markdown",
   "metadata": {},
   "source": [
    "Notice that each print() statement displays the text on a separate line.  If you want to change this default behavior, you can use the 'end=' option."
   ]
  },
  {
   "cell_type": "code",
   "execution_count": 6,
   "metadata": {},
   "outputs": [
    {
     "name": "stdout",
     "output_type": "stream",
     "text": [
      "John Brown\n"
     ]
    }
   ],
   "source": [
    "# the end=' ' changes the default end of the statement to use a space character\n",
    "print('John', end=' ')\n",
    "print('Brown')"
   ]
  },
  {
   "cell_type": "code",
   "execution_count": 7,
   "metadata": {},
   "outputs": [
    {
     "name": "stdout",
     "output_type": "stream",
     "text": [
      "John|Brown\n"
     ]
    }
   ],
   "source": [
    "# End the first line with a '|' character\n",
    "print('John', end='|')\n",
    "print('Brown')"
   ]
  },
  {
   "cell_type": "code",
   "execution_count": 8,
   "metadata": {},
   "outputs": [
    {
     "name": "stdout",
     "output_type": "stream",
     "text": [
      "JohnBrown\n"
     ]
    }
   ],
   "source": [
    "# End the first line with no character\n",
    "print('John', end='')\n",
    "print('Brown')"
   ]
  },
  {
   "cell_type": "markdown",
   "metadata": {},
   "source": [
    "## Using the format() function\n",
    "\n",
    "In many cases, you as the programmer will need more control on how output is displayed to the user.  There is a **format()** function that help with this need for control."
   ]
  },
  {
   "cell_type": "code",
   "execution_count": 9,
   "metadata": {},
   "outputs": [
    {
     "name": "stdout",
     "output_type": "stream",
     "text": [
      "My name is John\n"
     ]
    }
   ],
   "source": [
    "print('My name is {}'.format('John'))"
   ]
  },
  {
   "cell_type": "markdown",
   "metadata": {},
   "source": [
    "In the example above, the {} is called a place holder for the string 'John'.  You can have multiple place holders.  Notice that the number of place holders and strings in the format() function must match"
   ]
  },
  {
   "cell_type": "code",
   "execution_count": 10,
   "metadata": {},
   "outputs": [
    {
     "name": "stdout",
     "output_type": "stream",
     "text": [
      "My name is John and I'm 12 years old\n"
     ]
    }
   ],
   "source": [
    "print(\"My name is {} and I'm {} years old\".format('John', '12'))"
   ]
  },
  {
   "cell_type": "markdown",
   "metadata": {},
   "source": [
    "There is an option to add numbers in the place holders that match the order of strings in the format() function.  You must add any spacing around place holders."
   ]
  },
  {
   "cell_type": "code",
   "execution_count": 11,
   "metadata": {},
   "outputs": [
    {
     "name": "stdout",
     "output_type": "stream",
     "text": [
      "My name is John and I'm 12 years old\n"
     ]
    }
   ],
   "source": [
    "# {0} matches 'John', {1}  matches '12'\n",
    "print(\"My name is {0} and I'm {1} years old\".format('John', '12'))"
   ]
  },
  {
   "cell_type": "markdown",
   "metadata": {},
   "source": [
    "### Before we continue, we need to learn how programmers count\n",
    "\n",
    "In most computer languages that exist or will exist, programmers count starting at **zero** not one.  In the above example, 'John' is the first item in the format() function and it's location is position zero.  As programmers, we realize that in other sciences such as math, engineering and physics, that they start counting at one.\n",
    "\n",
    "This is something you just need to accept - coders start counting at zero. [Zero Based numbering](https://en.wikipedia.org/wiki/Zero-based_numbering)"
   ]
  },
  {
   "cell_type": "code",
   "execution_count": 12,
   "metadata": {},
   "outputs": [
    {
     "name": "stdout",
     "output_type": "stream",
     "text": [
      "My name is 12 and I'm John years old\n"
     ]
    }
   ],
   "source": [
    "# {0} matches 'John', {1} matches '12'\n",
    "# We can change the order\n",
    "print(\"My name is {1} and I'm {0} years old\".format('John', '12'))"
   ]
  },
  {
   "cell_type": "code",
   "execution_count": 13,
   "metadata": {},
   "outputs": [
    {
     "ename": "IndexError",
     "evalue": "tuple index out of range",
     "output_type": "error",
     "traceback": [
      "\u001b[1;31m---------------------------------------------------------------------------\u001b[0m",
      "\u001b[1;31mIndexError\u001b[0m                                Traceback (most recent call last)",
      "\u001b[1;32m<ipython-input-13-c612edf664af>\u001b[0m in \u001b[0;36m<module>\u001b[1;34m()\u001b[0m\n\u001b[0;32m      1\u001b[0m \u001b[1;31m# This is an error because the place holders are starting at one.  There is no {2} place holder\u001b[0m\u001b[1;33m\u001b[0m\u001b[1;33m\u001b[0m\u001b[0m\n\u001b[1;32m----> 2\u001b[1;33m \u001b[0mprint\u001b[0m\u001b[1;33m(\u001b[0m\u001b[1;34m\"My name is {1} and I'm {2} years old\"\u001b[0m\u001b[1;33m.\u001b[0m\u001b[0mformat\u001b[0m\u001b[1;33m(\u001b[0m\u001b[1;34m'John'\u001b[0m\u001b[1;33m,\u001b[0m \u001b[1;34m'12'\u001b[0m\u001b[1;33m)\u001b[0m\u001b[1;33m)\u001b[0m\u001b[1;33m\u001b[0m\u001b[0m\n\u001b[0m",
      "\u001b[1;31mIndexError\u001b[0m: tuple index out of range"
     ]
    }
   ],
   "source": [
    "# This is an error because the place holders are starting at one.  There is no {2} place holder\n",
    "print(\"My name is {1} and I'm {2} years old\".format('John', '12'))"
   ]
  },
  {
   "cell_type": "code",
   "execution_count": 14,
   "metadata": {},
   "outputs": [
    {
     "name": "stdout",
     "output_type": "stream",
     "text": [
      "John, My name is John and I'm 12 years old... really 12 years old. (I am John)\n"
     ]
    }
   ],
   "source": [
    "# {0} matches 'John', {1} matches '12'\n",
    "# We can use place holders more than once and in any order\n",
    "print(\"{0}, My name is {0} and I'm {1} years old... really {1} years old. (I am {0})\".format('John', '12'))"
   ]
  },
  {
   "cell_type": "markdown",
   "metadata": {},
   "source": [
    "## Displaying Special Characters\n",
    "\n",
    "There are groups or sets of special characters that can be displayed.  [Here is a list of some of these characters](https://en.wikipedia.org/wiki/Box-drawing_character)."
   ]
  },
  {
   "cell_type": "code",
   "execution_count": 15,
   "metadata": {},
   "outputs": [
    {
     "name": "stdout",
     "output_type": "stream",
     "text": [
      "╬\n"
     ]
    }
   ],
   "source": [
    "# Display box character\n",
    "print('\\u256c')"
   ]
  },
  {
   "cell_type": "code",
   "execution_count": 16,
   "metadata": {},
   "outputs": [
    {
     "name": "stdout",
     "output_type": "stream",
     "text": [
      "╠╡╢╣╤╥╦╧╨╩╪╫╬ ▚▞\n"
     ]
    }
   ],
   "source": [
    "# Display box character\n",
    "print('\\u2560\\u2561\\u2562\\u2563\\u2564\\u2565\\u2566\\u2567\\u2568\\u2569\\u256a\\u256b\\u256c', end='')\n",
    "print(' \\u259a\\u259e')"
   ]
  },
  {
   "cell_type": "code",
   "execution_count": 17,
   "metadata": {},
   "outputs": [
    {
     "name": "stdout",
     "output_type": "stream",
     "text": [
      "This is a special character: ▚\n"
     ]
    }
   ],
   "source": [
    "# Display box character\n",
    "print('This is a special character:', '\\u259a')"
   ]
  },
  {
   "cell_type": "code",
   "execution_count": 18,
   "metadata": {},
   "outputs": [
    {
     "name": "stdout",
     "output_type": "stream",
     "text": [
      "character ▚ and ▞\n"
     ]
    }
   ],
   "source": [
    "# Display box character\n",
    "print('character {0} and {1}'.format('\\u259a', '\\u259e'))"
   ]
  },
  {
   "cell_type": "markdown",
   "metadata": {},
   "source": [
    "## Extra formating features"
   ]
  },
  {
   "cell_type": "markdown",
   "metadata": {},
   "source": [
    "**Left Aligned**\n",
    "\n",
    "You can left align a string within a given space.  There are are special codes that are placed between the {} brackets."
   ]
  },
  {
   "cell_type": "code",
   "execution_count": 19,
   "metadata": {},
   "outputs": [
    {
     "name": "stdout",
     "output_type": "stream",
     "text": [
      "123456789012345678901234567890\n",
      "left aligned                  \n",
      "left aligned                  after\n"
     ]
    }
   ],
   "source": [
    "# left align the string \"left aligned\" within a 30 space section\n",
    "print('123456789012345678901234567890')\n",
    "print('{:<30}'.format('left aligned'))\n",
    "print('{:<30}after'.format('left aligned'))"
   ]
  },
  {
   "cell_type": "markdown",
   "metadata": {},
   "source": [
    "**Center Aligned**\n",
    "\n",
    "You can center a string within a given space."
   ]
  },
  {
   "cell_type": "code",
   "execution_count": 20,
   "metadata": {},
   "outputs": [
    {
     "name": "stdout",
     "output_type": "stream",
     "text": [
      "123456789012345678901234567890\n",
      "           centered           \n"
     ]
    }
   ],
   "source": [
    "# center the string \"centered\" within a 30 space section\n",
    "print('123456789012345678901234567890')\n",
    "print('{:^30}'.format('centered'))"
   ]
  },
  {
   "cell_type": "markdown",
   "metadata": {},
   "source": [
    "**Right Aligned**\n",
    "\n",
    "You can also right align text within a given space."
   ]
  },
  {
   "cell_type": "code",
   "execution_count": 21,
   "metadata": {},
   "outputs": [
    {
     "name": "stdout",
     "output_type": "stream",
     "text": [
      "123456789012345678901234567890\n",
      "                 right aligned\n"
     ]
    }
   ],
   "source": [
    "# right align the string \"right aligned\" within a 30 space section\n",
    "print('123456789012345678901234567890')\n",
    "print('{:>30}'.format('right aligned'))"
   ]
  },
  {
   "cell_type": "markdown",
   "metadata": {},
   "source": [
    "**Fill Characters**\n",
    "\n",
    "This option allows you to center text and have extra characters around it.  Notice the character right after the \":\" character."
   ]
  },
  {
   "cell_type": "code",
   "execution_count": 22,
   "metadata": {},
   "outputs": [
    {
     "name": "stdout",
     "output_type": "stream",
     "text": [
      "123456789012345678901234567890\n",
      "left aligned..................\n",
      "***********centered***********\n",
      "---------- centered ----------\n",
      "................ right aligned\n"
     ]
    }
   ],
   "source": [
    "# center the string \"centered\" within a 30 space section\n",
    "print('123456789012345678901234567890')\n",
    "print('{:.<30}'.format('left aligned'))\n",
    "print('{:*^30}'.format('centered'))\n",
    "print('{:-^30}'.format(' centered '))\n",
    "print('{:.>30}'.format(' right aligned'))"
   ]
  },
  {
   "cell_type": "markdown",
   "metadata": {},
   "source": [
    "## len() function\n",
    "\n",
    "Many times while a program is running, it is important to know the length or size of a string.  Perhaps you write a program to take in ZIP code and your need to make sure that the user enters exactly 5 numbers for that zip code.  The len() function will allow you to do this. "
   ]
  },
  {
   "cell_type": "code",
   "execution_count": 23,
   "metadata": {},
   "outputs": [
    {
     "name": "stdout",
     "output_type": "stream",
     "text": [
      "10\n",
      "ABC is 3 characters\n"
     ]
    }
   ],
   "source": [
    "# Display the length or number of characters in a string\n",
    "name = 'John Brown'\n",
    "print(len(name))\n",
    "print('ABC is', len('ABC'), 'characters')"
   ]
  },
  {
   "cell_type": "markdown",
   "metadata": {},
   "source": [
    "# 4 - Lesson Review\n",
    "\n",
    "The print() statement is very useful to display information to the screen.  The best method to learn how to use it is to use it in your coding."
   ]
  }
 ],
 "metadata": {
  "kernelspec": {
   "display_name": "Python 3",
   "language": "python",
   "name": "python3"
  },
  "language_info": {
   "codemirror_mode": {
    "name": "ipython",
    "version": 3
   },
   "file_extension": ".py",
   "mimetype": "text/x-python",
   "name": "python",
   "nbconvert_exporter": "python",
   "pygments_lexer": "ipython3",
   "version": "3.7.0"
  }
 },
 "nbformat": 4,
 "nbformat_minor": 2
}
