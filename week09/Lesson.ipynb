{
 "cells": [
  {
   "cell_type": "markdown",
   "metadata": {},
   "source": [
    "![](../images/cs101.png)\n",
    "***\n",
    "\n",
    "# 09 - Lesson : Loops (Part 1)\n"
   ]
  },
  {
   "cell_type": "markdown",
   "metadata": {},
   "source": [
    "# 0 - Coding Examples in This Lesson\n",
    "\n",
    "There are many small coding examples in this lesson.  I would strongly suggest that you type these examples in Thonny (or your Python IDE) to better understand the code."
   ]
  },
  {
   "cell_type": "markdown",
   "metadata": {},
   "source": [
    "# 1 - Objectives and Goals\n",
    "\n",
    "Students will:\n",
    "\n",
    "- be able to create and implement for loops\n"
   ]
  },
  {
   "cell_type": "markdown",
   "metadata": {},
   "source": [
    "# 2 - Preparation\n",
    "\n",
    "For this lesson, please review and read:\n",
    "\n",
    "- None\n"
   ]
  },
  {
   "cell_type": "markdown",
   "metadata": {},
   "source": [
    "# 3 - Lesson Details\n",
    "\n",
    "This lesson introduces `for` loops in Python.  A `for` loop is used to repeat statements a given number of times. \n",
    "\n",
    "## Version 1\n",
    "\n",
    "```python\n",
    "# for loop\n",
    "for variable in range(stop):\n",
    "    statements\n",
    "```\n",
    "\n",
    "**variable**\n",
    "\n",
    "The `for` loop in this format, uses a variable to keep track of the current iteration of the loop.  This variable can be used in the statements of the loop.\n",
    "\n",
    "**stop**\n",
    "\n",
    "This is a number that indicates when the loop will end or stop.  This format will assume that the `for` loop will start at value zero.  Note that the value of this stop value is **NOT** included in the loop count.  For example: range(3) includes values 0, 1 and 2.\n",
    "\n",
    "\n",
    "**statements**\n",
    "\n",
    "These are one to many Python statements.  All statements for a `for` loop must be indented.  Notice the \":\" at the end of the `for` loop line before the statements.\n",
    "\n",
    "\n",
    "## Version 2\n",
    "\n",
    "```python\n",
    "# for loop\n",
    "for variable in range(start, end, step):\n",
    "    statements\n",
    "```\n",
    "\n",
    "**start**\n",
    "\n",
    "The loop will start with this value.  This means that the first time through the loop, the variable will be set to the value of start.\n",
    "\n",
    "**end**\n",
    "\n",
    "This is a number that indicates when the loop will end or stop.  This format will assume that the `for` loop will start at value zero.  Note that the value of this stop value is **NOT** included in the loop count.\n",
    "\n",
    "**step**\n",
    "\n",
    "While the `for` loop is going through the range of values (ie., 'start' to 'end'), the loop will jump or step this amount."
   ]
  },
  {
   "cell_type": "markdown",
   "metadata": {},
   "source": [
    "# 3.1 - for loop examples\n",
    "\n",
    "The best method of understanding for loops is to write code with them.  Please copy the following examples into Thonny to run them yourself."
   ]
  },
  {
   "cell_type": "code",
   "execution_count": 2,
   "metadata": {},
   "outputs": [
    {
     "name": "stdout",
     "output_type": "stream",
     "text": [
      "Hello World\n",
      "Hello World\n",
      "Hello World\n",
      "Hello World\n",
      "Hello World\n"
     ]
    }
   ],
   "source": [
    "# Display Hello World 5 times\n",
    "for i in range(5):\n",
    "    print('Hello World')"
   ]
  },
  {
   "cell_type": "code",
   "execution_count": 3,
   "metadata": {},
   "outputs": [
    {
     "name": "stdout",
     "output_type": "stream",
     "text": [
      "Line 1\n",
      "Line 2\n",
      "----------\n",
      "Line 1\n",
      "Line 2\n",
      "----------\n",
      "Line 1\n",
      "Line 2\n",
      "----------\n"
     ]
    }
   ],
   "source": [
    "# Display three print statements 3 times.  Notice that the three lines are indented.\n",
    "for i in range(3):\n",
    "    print('Line 1')\n",
    "    print('Line 2')\n",
    "    print('-' * 10)"
   ]
  },
  {
   "cell_type": "code",
   "execution_count": 4,
   "metadata": {},
   "outputs": [
    {
     "name": "stdout",
     "output_type": "stream",
     "text": [
      "0\n",
      "1\n",
      "2\n",
      "3\n",
      "4\n"
     ]
    }
   ],
   "source": [
    "# Prints out the numbers 0,1,2,3,4\n",
    "for x in range(5):\n",
    "    print(x)"
   ]
  },
  {
   "cell_type": "code",
   "execution_count": 5,
   "metadata": {},
   "outputs": [
    {
     "name": "stdout",
     "output_type": "stream",
     "text": [
      "0 1 2 3 4 \n"
     ]
    }
   ],
   "source": [
    "# Prints out the numbers 0 1 2 3 4\n",
    "for x in range(5):\n",
    "    print(x, end=' ')\n",
    "print()"
   ]
  },
  {
   "cell_type": "code",
   "execution_count": 6,
   "metadata": {},
   "outputs": [
    {
     "name": "stdout",
     "output_type": "stream",
     "text": [
      "3\n",
      "4\n",
      "5\n"
     ]
    }
   ],
   "source": [
    "# Prints out 3,4,5\n",
    "for x in range(3, 6):\n",
    "    print(x)"
   ]
  },
  {
   "cell_type": "code",
   "execution_count": 7,
   "metadata": {},
   "outputs": [
    {
     "name": "stdout",
     "output_type": "stream",
     "text": [
      "3\n",
      "5\n",
      "7\n"
     ]
    }
   ],
   "source": [
    "# Prints out 3,5,7\n",
    "for x in range(3, 8, 2):\n",
    "    print(x)"
   ]
  },
  {
   "cell_type": "code",
   "execution_count": 8,
   "metadata": {},
   "outputs": [
    {
     "name": "stdout",
     "output_type": "stream",
     "text": [
      "8\n",
      "6\n",
      "4\n"
     ]
    }
   ],
   "source": [
    "# Prints out 8, 6, 4\n",
    "for x in range(8, 3, -2):\n",
    "    print(x)"
   ]
  },
  {
   "cell_type": "code",
   "execution_count": 9,
   "metadata": {
    "scrolled": true
   },
   "outputs": [
    {
     "name": "stdout",
     "output_type": "stream",
     "text": [
      "**********\n"
     ]
    }
   ],
   "source": [
    "# Display 10 star characters\n",
    "print('*' * 10)"
   ]
  },
  {
   "cell_type": "code",
   "execution_count": 10,
   "metadata": {},
   "outputs": [
    {
     "name": "stdout",
     "output_type": "stream",
     "text": [
      "**********\n"
     ]
    }
   ],
   "source": [
    "# Display the same 10 star characters using a for loop\n",
    "for i in range(10):\n",
    "    print('*', end='')\n",
    "print()"
   ]
  },
  {
   "cell_type": "code",
   "execution_count": 11,
   "metadata": {},
   "outputs": [
    {
     "name": "stdout",
     "output_type": "stream",
     "text": [
      "i = 0, total = 0\n",
      "i = 1, total = 1\n",
      "i = 2, total = 3\n",
      "i = 3, total = 6\n",
      "i = 4, total = 10\n",
      "i = 5, total = 15\n",
      "total is 15\n"
     ]
    }
   ],
   "source": [
    "# Add values from range 0 to 5\n",
    "total = 0\n",
    "for i in range(6):\n",
    "    total += i\n",
    "    print('i = {}, total = {}'.format(i, total))\n",
    "print('total is', total)"
   ]
  },
  {
   "cell_type": "code",
   "execution_count": 12,
   "metadata": {},
   "outputs": [
    {
     "name": "stdout",
     "output_type": "stream",
     "text": [
      "0\n",
      "13\n",
      "26\n",
      "39\n",
      "52\n",
      "65\n",
      "78\n",
      "91\n"
     ]
    }
   ],
   "source": [
    "# Display all numbers that are factors of 13 under 100\n",
    "for i in range(100):\n",
    "    if (i % 13 == 0):\n",
    "        print(i)"
   ]
  },
  {
   "cell_type": "code",
   "execution_count": 1,
   "metadata": {},
   "outputs": [
    {
     "name": "stdout",
     "output_type": "stream",
     "text": [
      "0\n",
      "13\n",
      "26\n",
      "39\n",
      "52\n",
      "65\n",
      "78\n",
      "91\n"
     ]
    }
   ],
   "source": [
    "# Display all numbers that are factors of 13 under 100\n",
    "for i in range(0, 100, 13):\n",
    "    print(i)"
   ]
  },
  {
   "cell_type": "code",
   "execution_count": 2,
   "metadata": {},
   "outputs": [
    {
     "name": "stdout",
     "output_type": "stream",
     "text": [
      "J\n",
      "o\n",
      "h\n",
      "n\n",
      " \n",
      "B\n",
      "r\n",
      "o\n",
      "w\n",
      "n\n"
     ]
    }
   ],
   "source": [
    "# Tranverse all of the letters of a string using a for loop\n",
    "# Here, the variable \"letter\" will be each letter of the string name, one at a time\n",
    "name = 'John Brown'\n",
    "for letter in name:\n",
    "    print(letter)"
   ]
  },
  {
   "cell_type": "code",
   "execution_count": 3,
   "metadata": {},
   "outputs": [
    {
     "name": "stdout",
     "output_type": "stream",
     "text": [
      "J\n",
      "o\n",
      "h\n",
      "n\n",
      " \n",
      "B\n",
      "r\n",
      "o\n",
      "w\n",
      "n\n"
     ]
    }
   ],
   "source": [
    "# Tranverse all of the letters of a string using a for loop using indexing\n",
    "name = 'John Brown'\n",
    "for i in range(len(name)):\n",
    "    print(name[i])"
   ]
  },
  {
   "cell_type": "code",
   "execution_count": 6,
   "metadata": {},
   "outputs": [
    {
     "name": "stdout",
     "output_type": "stream",
     "text": [
      "This is a 5 x 5 grid\n",
      "Row 1:  1  2  3  4  5\n",
      "Row 2:  6  7  8  9 10\n",
      "Row 3: 11 12 13 14 15\n",
      "Row 4: 16 17 18 19 20\n",
      "Row 5: 21 22 23 24 25\n",
      "All done!!\n"
     ]
    }
   ],
   "source": [
    "# Display 5 x 5 grid of 'X' characters\n",
    "print('This is a 5 x 5 grid')\n",
    "\n",
    "value = 1\n",
    "for row in range(5):\n",
    "    # Start the line with the row number\n",
    "    print('Row {}:'.format(row + 1), end='')\n",
    "    \n",
    "    # display 'X' characters with a width of 3 spaces (ie., {:>3})\n",
    "    for col in range(5):\n",
    "        print('{:>3}'.format(value), end='')\n",
    "        value += 1\n",
    "        \n",
    "    # end the current line\n",
    "    print()\n",
    "\n",
    "print('All done!!')"
   ]
  },
  {
   "cell_type": "code",
   "execution_count": 21,
   "metadata": {},
   "outputs": [
    {
     "name": "stdout",
     "output_type": "stream",
     "text": [
      "22 is half of 44\n",
      "336 is half of 672\n",
      "301 is half of 602\n"
     ]
    }
   ],
   "source": [
    "import random\n",
    "\n",
    "# Go through 5,000 random values displaying pairs of numbers where one number is half the next value\n",
    "# ie: ... 50, 34, 100, 200, 2, 665, ... would display 100 and 200\n",
    "lastValue = 0\n",
    "for i in range(5000):\n",
    "    # Get new random value\n",
    "    value = random.randint(1, 1000)\n",
    "    \n",
    "    # is the last value half the new value\n",
    "    if ((lastValue * 2) == value):\n",
    "        print('{} is half of {}'.format(lastValue, value))\n",
    "        \n",
    "    lastValue = value"
   ]
  },
  {
   "cell_type": "markdown",
   "metadata": {},
   "source": [
    "# 4 - Lesson Review\n",
    "\n",
    "`for` loops are traditionally used when you have a block of code which you want to repeat a fixed number of times. The Python `for` statement iterates over the numbers of a sequence in order, executing the block each time.\n",
    "\n",
    "- [For loop Video](https://www.youtube.com/watch?v=9LgyKiq_hU0)"
   ]
  }
 ],
 "metadata": {
  "kernelspec": {
   "display_name": "Python 3",
   "language": "python",
   "name": "python3"
  },
  "language_info": {
   "codemirror_mode": {
    "name": "ipython",
    "version": 3
   },
   "file_extension": ".py",
   "mimetype": "text/x-python",
   "name": "python",
   "nbconvert_exporter": "python",
   "pygments_lexer": "ipython3",
   "version": "3.7.1"
  }
 },
 "nbformat": 4,
 "nbformat_minor": 2
}
