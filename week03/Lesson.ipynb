{
 "cells": [
  {
   "cell_type": "markdown",
   "metadata": {},
   "source": [
    "![](../images/cs101.png)\n",
    "***\n",
    "\n",
    "# 03 - Lesson : Variables\n"
   ]
  },
  {
   "cell_type": "markdown",
   "metadata": {},
   "source": [
    "# 0 - Coding Examples in This Lesson\n",
    "\n",
    "There are many small coding examples in this lesson.  I would strongly suggest that you type these examples in Thonny (or your Python IDE) to better understand the code."
   ]
  },
  {
   "cell_type": "markdown",
   "metadata": {},
   "source": [
    "# 1 - Objectives and Goals\n",
    "\n",
    "Students will:\n",
    "\n",
    "- be able to use strings, integers and floats.\n"
   ]
  },
  {
   "cell_type": "markdown",
   "metadata": {},
   "source": [
    "# 2 - Preparation\n",
    "\n",
    "None\n",
    "\n"
   ]
  },
  {
   "cell_type": "markdown",
   "metadata": {},
   "source": [
    "# 3 - Lesson Details\n",
    "\n",
    "Variables are used to hold data in a program.  We will be covering three of the basic data types in this lesson.  All variables must be given a meaningful name.\n",
    "\n",
    "## Naming Conventions\n",
    "\n",
    "- There are various naming conventions used in Python and other programming languages. The two common ones we will see are lowercase_with_underscore and mixedCase (aka lowerCamelCase).\n",
    "\n",
    "- For consistency, we should stick to the mixedCase convention. Multi-word names should start with a lowercase letter, and each new word should start with a capital letter. You can never have a space within a name.\n",
    "\n",
    "- Except for for loop variables, do not use single letter variables.\n",
    "\n",
    "```python\n",
    "sumOfSquares\n",
    "printHappyBirthday\n",
    "totalApples\n",
    "```\n",
    "\n",
    "### Names to Avoid\n",
    "\n",
    "- Never use the characters `l' (lowercase letter el), `O' (uppercase letter oh), or `I' (uppercase letter eye) as single character variable names.\n",
    "In some fonts, these characters are indistinguishable from the numerals one and zero.\n",
    "\n",
    "- In general, try to avoid using single character names. There are some times when using x, y, z for axis names, or a, b, c for the sides of a triangle will make sense. For most other cases, create names that have meaning for their function\n",
    "\n",
    "### Spaces around Operators\n",
    "\n",
    "Always surround these binary operators with a single space on either side: assignment (=), augmented assignment (+=, -= etc.), comparisons (==, <, >, !=, <>, <=, >=, in, not in, is, is not), Booleans (and, or, not).\n",
    "\n",
    "**Good Examples**:\n",
    "\n",
    "```Python\n",
    "x = 9\n",
    "apples = 5\n",
    "name = 'John'\n",
    "sum = value1 + value2\n",
    "```\n",
    "\n",
    "**Bad Examples** (Where you will lose points if you do this):\n",
    "\n",
    "```Python\n",
    "x=9\n",
    "apples =5\n",
    "name= 'John'\n",
    "sum = value1+value2\n",
    "```\n"
   ]
  },
  {
   "cell_type": "markdown",
   "metadata": {},
   "source": [
    "## 3.1 - Strings\n",
    "\n",
    "String are used to contain letters or text.  In your first program 'Hello World' is a string.\n",
    "\n",
    "### Single or double quotes\n",
    "\n",
    "Strings must start and end with the same type of quote.  Most Python programmers use single quotes for strings.\n",
    "\n",
    "```python\n",
    "name = 'John Brown'\n",
    "```\n",
    "\n",
    "You can also use double quotes.\n",
    "\n",
    "```python\n",
    "name = \"John Brown\"\n",
    "```\n",
    "\n",
    "The main issue is that the quotes must match.  If you need a quote in your text, use the other type of quote for the whole string.\n",
    "\n",
    "```python\n",
    "name = \"I'm John Brown\"\n",
    "text = 'This is a quote from John \"Hello World\"'\n",
    "```\n",
    "\n",
    "### String Operations\n",
    "\n",
    "#### + Operator or Concatenation\n",
    "\n",
    "Strings can be \"added\" together or concatenated"
   ]
  },
  {
   "cell_type": "code",
   "execution_count": 3,
   "metadata": {},
   "outputs": [
    {
     "name": "stdout",
     "output_type": "stream",
     "text": [
      "***abc123***\n"
     ]
    }
   ],
   "source": [
    "text1 = 'abc'\n",
    "text2 = '123'\n",
    "newText = '***' + text1 + text2 + '***'\n",
    "print(newText)"
   ]
  },
  {
   "cell_type": "markdown",
   "metadata": {},
   "source": [
    "#### [] Operator\n",
    "\n",
    "The square brackets are used to access letters or a sub-string in a string.  Reminder that programmers start counting from zero."
   ]
  },
  {
   "cell_type": "code",
   "execution_count": 4,
   "metadata": {},
   "outputs": [
    {
     "name": "stdout",
     "output_type": "stream",
     "text": [
      "The first letter in John is J\n"
     ]
    }
   ],
   "source": [
    "name = 'John'\n",
    "print('The first letter in {} is {}'.format(name, name[0]))"
   ]
  },
  {
   "cell_type": "markdown",
   "metadata": {},
   "source": [
    "## 3.2 - Integers\n",
    "\n",
    "An integer represents a whole number - both negative and positive.\n",
    "\n",
    "```python\n",
    "apples = 5\n",
    "temperature = -8\n",
    "studentsInClass = 40\n",
    "```"
   ]
  },
  {
   "cell_type": "markdown",
   "metadata": {},
   "source": [
    "### Displaying Integers\n",
    "\n",
    "Display integers is like displaying strings."
   ]
  },
  {
   "cell_type": "code",
   "execution_count": 5,
   "metadata": {},
   "outputs": [
    {
     "name": "stdout",
     "output_type": "stream",
     "text": [
      "34 23\n"
     ]
    }
   ],
   "source": [
    "# display two numbers\n",
    "print(34, 23)"
   ]
  },
  {
   "cell_type": "code",
   "execution_count": 6,
   "metadata": {},
   "outputs": [
    {
     "name": "stdout",
     "output_type": "stream",
     "text": [
      "57\n"
     ]
    }
   ],
   "source": [
    "# Display the sum of two numbers\n",
    "print(34 + 23)"
   ]
  },
  {
   "cell_type": "code",
   "execution_count": 7,
   "metadata": {},
   "outputs": [
    {
     "name": "stdout",
     "output_type": "stream",
     "text": [
      "123,456,789\n"
     ]
    }
   ],
   "source": [
    "# Display an integer with thousands' commas\n",
    "value = 123456789\n",
    "print('{:,}'.format(value))"
   ]
  },
  {
   "cell_type": "code",
   "execution_count": 8,
   "metadata": {},
   "outputs": [
    {
     "name": "stdout",
     "output_type": "stream",
     "text": [
      "     123456789      \n"
     ]
    }
   ],
   "source": [
    "# Display an integer centered within 20 spaces\n",
    "# This is like centering a string from last lesson.  \n",
    "# Notice the 'd' in the format section\n",
    "value = 123456789\n",
    "print('{:^20d}'.format(value))"
   ]
  },
  {
   "cell_type": "markdown",
   "metadata": {},
   "source": [
    "### Integer Math\n",
    "\n",
    "You can do math operations on integers.  The results are different than normal math you learnt in school.  The results of adding, subtracting and multiplication of two integers is always an integer.  Division is different, see below in the lesson.\n",
    "\n",
    "**Adding, subtracting and multiplication**"
   ]
  },
  {
   "cell_type": "code",
   "execution_count": 9,
   "metadata": {},
   "outputs": [
    {
     "name": "stdout",
     "output_type": "stream",
     "text": [
      "The sum of 34 + 23 is: 57\n"
     ]
    }
   ],
   "source": [
    "# Addition\n",
    "print('The sum of 34 + 23 is:', 34 + 23)"
   ]
  },
  {
   "cell_type": "code",
   "execution_count": 10,
   "metadata": {},
   "outputs": [
    {
     "name": "stdout",
     "output_type": "stream",
     "text": [
      "The sum of 34 + 23 + 99 + 12 is: 168\n"
     ]
    }
   ],
   "source": [
    "# Addition\n",
    "print('The sum of 34 + 23 + 99 + 12 is:', 34 + 23 + 99 + 12)"
   ]
  },
  {
   "cell_type": "code",
   "execution_count": 11,
   "metadata": {},
   "outputs": [
    {
     "name": "stdout",
     "output_type": "stream",
     "text": [
      "The difference of 34 - 23 is: 11\n"
     ]
    }
   ],
   "source": [
    "# Subtraction\n",
    "print('The difference of 34 - 23 is:', 34 - 23)"
   ]
  },
  {
   "cell_type": "code",
   "execution_count": 12,
   "metadata": {},
   "outputs": [
    {
     "name": "stdout",
     "output_type": "stream",
     "text": [
      "The product of 34 * 23 is: 782\n"
     ]
    }
   ],
   "source": [
    "# Multiplication\n",
    "print('The product of 34 * 23 is:', 34 * 23)"
   ]
  },
  {
   "cell_type": "code",
   "execution_count": 13,
   "metadata": {},
   "outputs": [
    {
     "name": "stdout",
     "output_type": "stream",
     "text": [
      "The product of 99 + 2 * 4 / 3 is: 101.66666666666667\n"
     ]
    }
   ],
   "source": [
    "# +, - and *\n",
    "print('The product of 99 + 2 * 4 / 3 is:', 99 + 2 * 4 / 3)"
   ]
  },
  {
   "cell_type": "code",
   "execution_count": 14,
   "metadata": {},
   "outputs": [
    {
     "name": "stdout",
     "output_type": "stream",
     "text": [
      "The product of ((99 + 2) * 4) / 3 is: 134.66666666666666\n"
     ]
    }
   ],
   "source": [
    "# +, - and * with parentheses\n",
    "print('The product of ((99 + 2) * 4) / 3 is:', ((99 + 2) * 4) / 3)"
   ]
  },
  {
   "cell_type": "markdown",
   "metadata": {},
   "source": [
    "**Integer Division**\n",
    "\n",
    "There are two division operators that you can apply to integers.\n",
    "\n",
    "/ or Division Operator\n",
    "\n",
    "This operator results in a float as the answer."
   ]
  },
  {
   "cell_type": "code",
   "execution_count": 15,
   "metadata": {},
   "outputs": [
    {
     "name": "stdout",
     "output_type": "stream",
     "text": [
      "6.666666666666667\n"
     ]
    }
   ],
   "source": [
    "print(20 / 3)"
   ]
  },
  {
   "cell_type": "code",
   "execution_count": 16,
   "metadata": {},
   "outputs": [
    {
     "name": "stdout",
     "output_type": "stream",
     "text": [
      "The results of 34 / 23 is: 1.4782608695652173\n"
     ]
    }
   ],
   "source": [
    "# Division\n",
    "print('The results of 34 / 23 is:', 34 / 23)"
   ]
  },
  {
   "cell_type": "markdown",
   "metadata": {},
   "source": [
    "// or Remaining Operator\n",
    "\n",
    "This operator results in an integer as the answer where it represents the whole part of the division."
   ]
  },
  {
   "cell_type": "code",
   "execution_count": 17,
   "metadata": {},
   "outputs": [
    {
     "name": "stdout",
     "output_type": "stream",
     "text": [
      "6\n"
     ]
    }
   ],
   "source": [
    "# \"How many whole 3s are there in 20?\"\n",
    "print(20 // 3)"
   ]
  },
  {
   "cell_type": "code",
   "execution_count": 18,
   "metadata": {},
   "outputs": [
    {
     "name": "stdout",
     "output_type": "stream",
     "text": [
      "The results of 34 // 23 is: 1\n"
     ]
    }
   ],
   "source": [
    "# Division\n",
    "print('The results of 34 // 23 is:', 34 // 23)"
   ]
  },
  {
   "cell_type": "markdown",
   "metadata": {},
   "source": [
    "## 3.3 - Floats\n",
    "\n",
    "The last data type for this lesson is called a float or floating point number.  In math, is it also called a real number.\n",
    "\n",
    "```python\n",
    "exchangeRate = 1.07\n",
    "pi = 3.14159\n",
    "temperature = -10.3\n",
    "```\n"
   ]
  },
  {
   "cell_type": "markdown",
   "metadata": {},
   "source": [
    "### Float Math\n",
    "\n",
    "You can do math operations on floats. The operators +, -, * and / all result in a float for the answer."
   ]
  },
  {
   "cell_type": "code",
   "execution_count": 19,
   "metadata": {},
   "outputs": [
    {
     "name": "stdout",
     "output_type": "stream",
     "text": [
      "The results of 34 / 23 is: 1.4782608695652173\n"
     ]
    }
   ],
   "source": [
    "# Division\n",
    "print('The results of {} / {} is: {}'.format(34, 23, 34 / 23))"
   ]
  },
  {
   "cell_type": "code",
   "execution_count": 20,
   "metadata": {},
   "outputs": [
    {
     "name": "stdout",
     "output_type": "stream",
     "text": [
      "The results of 34 / 23 is: 1.48\n"
     ]
    }
   ],
   "source": [
    "# Division - 2 decimal points\n",
    "print('The results of {} / {} is: {:.2f}'.format(34, 23, 34 / 23))"
   ]
  },
  {
   "cell_type": "code",
   "execution_count": 21,
   "metadata": {},
   "outputs": [
    {
     "name": "stdout",
     "output_type": "stream",
     "text": [
      "The results of 34 / 23 is: 1.4783\n"
     ]
    }
   ],
   "source": [
    "# Division - 4 decimal points\n",
    "print('The results of {} / {} is: {:.4f}'.format(34, 23, 34 / 23))"
   ]
  },
  {
   "cell_type": "markdown",
   "metadata": {},
   "source": [
    "# 4 - Lesson Review\n",
    "\n",
    "Variables are required to allow programs to work with data.  As a programmer, you must select which type of variables that you need."
   ]
  }
 ],
 "metadata": {
  "kernelspec": {
   "display_name": "Python 3",
   "language": "python",
   "name": "python3"
  },
  "language_info": {
   "codemirror_mode": {
    "name": "ipython",
    "version": 3
   },
   "file_extension": ".py",
   "mimetype": "text/x-python",
   "name": "python",
   "nbconvert_exporter": "python",
   "pygments_lexer": "ipython3",
   "version": "3.6.6"
  }
 },
 "nbformat": 4,
 "nbformat_minor": 2
}
