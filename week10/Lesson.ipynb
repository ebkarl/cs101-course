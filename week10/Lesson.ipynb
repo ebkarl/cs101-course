{
 "cells": [
  {
   "cell_type": "markdown",
   "metadata": {},
   "source": [
    "![](../images/cs101.png)\n",
    "***\n",
    "\n",
    "# 10 - Lesson : Loops (Part 2)\n"
   ]
  },
  {
   "cell_type": "markdown",
   "metadata": {},
   "source": [
    "# 0 - Coding Examples in This Lesson\n",
    "\n",
    "There are many small coding examples in this lesson.  I would strongly suggest that you type these examples in Thonny (or your Python IDE) to better understand the code."
   ]
  },
  {
   "cell_type": "markdown",
   "metadata": {},
   "source": [
    "# 1 - Objectives and Goals\n",
    "\n",
    "Students will:\n",
    "\n",
    "- Be able to use `while` loops in their programs.\n"
   ]
  },
  {
   "cell_type": "markdown",
   "metadata": {},
   "source": [
    "# 2 - Preparation\n",
    "\n",
    "For this lesson, please review and read:\n",
    "\n",
    "- Review Lesson 09 on `for` loops\n"
   ]
  },
  {
   "cell_type": "markdown",
   "metadata": {},
   "source": [
    "# 3 - Lesson Details\n",
    "\n",
    "This lesson introduces `while` loops in Python.  A `while` loop is used to repeat statements while a boolean expression is True. Once the boolean expression is False, the while loop is finished.\n",
    "\n",
    "\n",
    "```python\n",
    "# while loop\n",
    "while (condition):\n",
    "    statements\n",
    "```\n",
    "\n",
    "**condition**\n",
    "\n",
    "This is a boolean expression.  As long as this condition is true, the `while` loop will continue to loop.  It is important that when using a `while` loop that something in your program will eventually cause the boolean expression to become false in order to stop the `while` loop.\n",
    "\n",
    "**statements**\n",
    "\n",
    "These are one to many Python statements.  All statements for a `while` loop must be indented.  Notice the \":\" at the end of the `while` loop line before the statements.\n"
   ]
  },
  {
   "cell_type": "markdown",
   "metadata": {},
   "source": [
    "## Coding Examples\n",
    "\n",
    "Please code these small coding examples into Thonny to try them out for yourself."
   ]
  },
  {
   "cell_type": "code",
   "execution_count": 3,
   "metadata": {},
   "outputs": [
    {
     "name": "stdout",
     "output_type": "stream",
     "text": [
      "0\n",
      "1\n",
      "2\n",
      "3\n",
      "\n",
      "0\n",
      "1\n",
      "2\n",
      "3\n"
     ]
    }
   ],
   "source": [
    "# Display numbers 0 to 3 using a for loop\n",
    "for i in range(4):\n",
    "    print(i)\n",
    "print()  # add a blank line between each loop\n",
    "\n",
    "# Display numbers 0 to 3 using a while loop\n",
    "i = 0\n",
    "while (i < 4):\n",
    "    print(i)\n",
    "    # This causes the boolean expression to become false when i == 5\n",
    "    i += 1    # Same as i = i + 1.  "
   ]
  },
  {
   "cell_type": "code",
   "execution_count": 12,
   "metadata": {},
   "outputs": [
    {
     "name": "stdout",
     "output_type": "stream",
     "text": [
      "10\n",
      "11\n",
      "12\n",
      "13\n",
      "\n",
      "10\n",
      "11\n",
      "12\n",
      "13\n"
     ]
    }
   ],
   "source": [
    "# Display numbers 10 to 13 using a for loop\n",
    "for i in range(10, 14):\n",
    "    print(i)\n",
    "print()   # add a blank line between each loop\n",
    "\n",
    "# Display numbers 10 to 13 using a while loop\n",
    "i = 10\n",
    "while (i < 14):\n",
    "    print(i)\n",
    "    i += 1    # Same as i = i + 1.     "
   ]
  },
  {
   "cell_type": "code",
   "execution_count": 13,
   "metadata": {},
   "outputs": [
    {
     "name": "stdout",
     "output_type": "stream",
     "text": [
      "10\n",
      "12\n",
      "14\n",
      "16\n",
      "18\n",
      "\n",
      "10\n",
      "12\n",
      "14\n",
      "16\n",
      "18\n"
     ]
    }
   ],
   "source": [
    "# Display even numbers 10 to 20 using a for loop\n",
    "for i in range(10, 20, 2):\n",
    "    print(i)\n",
    "print()    # add a blank line between each loop\n",
    "\n",
    "# Display even numbers 10 to 20 using a while loop\n",
    "i = 10\n",
    "while (i < 20):\n",
    "    print(i)\n",
    "    i += 2    # Same as i = i + 2.      "
   ]
  },
  {
   "cell_type": "code",
   "execution_count": 14,
   "metadata": {},
   "outputs": [
    {
     "name": "stdout",
     "output_type": "stream",
     "text": [
      "Total so far = 0\n",
      "Total so far = 15\n",
      "Total so far = 45\n",
      "Total so far = 90\n",
      "Total so far = 150\n",
      "Total so far = 225\n",
      "Total so far = 315\n",
      "Total = 315\n",
      "\n",
      "Total so far = 0\n",
      "Total so far = 15\n",
      "Total so far = 45\n",
      "Total so far = 90\n",
      "Total so far = 150\n",
      "Total so far = 225\n",
      "Total so far = 315\n",
      "Total = 315\n"
     ]
    }
   ],
   "source": [
    "# Use for loop to total all multiples of 15 under 100\n",
    "total = 0\n",
    "for i in range(0, 100, 15):\n",
    "    total += i\n",
    "    print('Total so far =', total)\n",
    "print('Total =', total)\n",
    "print()\n",
    "\n",
    "# Use while loop to total all multiples of 15 under 100\n",
    "total = 0\n",
    "i = 0\n",
    "while (i < 100):\n",
    "    total += i\n",
    "    i += 15\n",
    "    print('Total so far =', total)\n",
    "print('Total =', total)"
   ]
  },
  {
   "cell_type": "code",
   "execution_count": 15,
   "metadata": {},
   "outputs": [
    {
     "name": "stdin",
     "output_type": "stream",
     "text": [
      "Enter a positive number:  -10\n",
      "Enter a positive number:  -1\n",
      "Enter a positive number:  10\n"
     ]
    },
    {
     "name": "stdout",
     "output_type": "stream",
     "text": [
      "You entered the value: 10\n"
     ]
    }
   ],
   "source": [
    "# Get a positive number from a user\n",
    "value = -1\n",
    "while (value < 0):\n",
    "    value = int(input('Enter a positive number: '))\n",
    "print('You entered the value:', value)"
   ]
  },
  {
   "cell_type": "code",
   "execution_count": 16,
   "metadata": {},
   "outputs": [
    {
     "name": "stdin",
     "output_type": "stream",
     "text": [
      "Enter name:  john\n",
      "Enter name:  harry\n"
     ]
    },
    {
     "name": "stdout",
     "output_type": "stream",
     "text": [
      "You entered the name: harry\n"
     ]
    }
   ],
   "source": [
    "# Get a 5 character name from the user\n",
    "name = ''\n",
    "while (len(name) != 5):\n",
    "    name = input('Enter name: ')\n",
    "print('You entered the name:', name)"
   ]
  },
  {
   "cell_type": "code",
   "execution_count": 17,
   "metadata": {},
   "outputs": [
    {
     "name": "stdin",
     "output_type": "stream",
     "text": [
      "Enter name:  john\n"
     ]
    },
    {
     "name": "stdout",
     "output_type": "stream",
     "text": [
      "Please enter a name that has 5 characters\n"
     ]
    },
    {
     "name": "stdin",
     "output_type": "stream",
     "text": [
      "Enter name:  harry\n"
     ]
    },
    {
     "name": "stdout",
     "output_type": "stream",
     "text": [
      "You entered the name: harry\n"
     ]
    }
   ],
   "source": [
    "# Get a 5 character name from the user.  Give details if the user is wrong\n",
    "name = ''\n",
    "while (len(name) != 5):\n",
    "    name = input('Enter name: ')\n",
    "    if (len(name) != 5):\n",
    "        print('Please enter a name that has 5 characters')\n",
    "print('You entered the name:', name)"
   ]
  },
  {
   "cell_type": "code",
   "execution_count": 18,
   "metadata": {},
   "outputs": [
    {
     "name": "stdin",
     "output_type": "stream",
     "text": [
      "Enter name:  john\n"
     ]
    },
    {
     "name": "stdout",
     "output_type": "stream",
     "text": [
      "Please enter a name that has 5 characters\n"
     ]
    },
    {
     "name": "stdin",
     "output_type": "stream",
     "text": [
      "Enter name:  harry\n"
     ]
    },
    {
     "name": "stdout",
     "output_type": "stream",
     "text": [
      "You entered the name: harry\n"
     ]
    }
   ],
   "source": [
    "# Get a 5 character name from the user.  Give details if the user is wrong\n",
    "# This code is using a boolean flag to control the while loop\n",
    "name = ''\n",
    "done = False\n",
    "while (not done):\n",
    "    name = input('Enter name: ')\n",
    "    if (len(name) != 5):\n",
    "        print('Please enter a name that has 5 characters')\n",
    "    else:\n",
    "        done = True\n",
    "print('You entered the name:', name)"
   ]
  },
  {
   "cell_type": "code",
   "execution_count": 19,
   "metadata": {},
   "outputs": [
    {
     "name": "stdin",
     "output_type": "stream",
     "text": [
      "Enter month between 1 and 12:  55\n",
      "Enter month between 1 and 12:  0\n",
      "Enter month between 1 and 12:  5\n"
     ]
    },
    {
     "name": "stdout",
     "output_type": "stream",
     "text": [
      "You entered the month: 5\n"
     ]
    }
   ],
   "source": [
    "# Get a valid month number.  Valid values are 1 to 12\n",
    "month = 0\n",
    "while ((month < 1) or (month > 12)):\n",
    "    month = int(input('Enter month between 1 and 12: '))\n",
    "print('You entered the month:', month)"
   ]
  },
  {
   "cell_type": "code",
   "execution_count": 20,
   "metadata": {},
   "outputs": [
    {
     "name": "stdin",
     "output_type": "stream",
     "text": [
      "Enter Guess:  50\n"
     ]
    },
    {
     "name": "stdout",
     "output_type": "stream",
     "text": [
      "Too low\n"
     ]
    },
    {
     "name": "stdin",
     "output_type": "stream",
     "text": [
      "Enter Guess:  90\n"
     ]
    },
    {
     "name": "stdout",
     "output_type": "stream",
     "text": [
      "Too high\n"
     ]
    },
    {
     "name": "stdin",
     "output_type": "stream",
     "text": [
      "Enter Guess:  60\n"
     ]
    },
    {
     "name": "stdout",
     "output_type": "stream",
     "text": [
      "Too high\n"
     ]
    },
    {
     "name": "stdin",
     "output_type": "stream",
     "text": [
      "Enter Guess:  55\n"
     ]
    },
    {
     "name": "stdout",
     "output_type": "stream",
     "text": [
      "Too low\n"
     ]
    },
    {
     "name": "stdin",
     "output_type": "stream",
     "text": [
      "Enter Guess:  56\n"
     ]
    },
    {
     "name": "stdout",
     "output_type": "stream",
     "text": [
      "You found it!!\n",
      "You took 5 guesses\n"
     ]
    }
   ],
   "source": [
    "# Number Guessing Game\n",
    "numberToGuess = 56\n",
    "guess = 0\n",
    "guesses = 0\n",
    "\n",
    "# While the user hasn't guessed the number, keep looping\n",
    "while (guess != numberToGuess):\n",
    "    guess = int(input('Enter Guess: '))\n",
    "    guesses += 1       # Keep count on the number of guesses\n",
    "    if (guess == numberToGuess):\n",
    "        print('You found it!!')\n",
    "    elif (guess < numberToGuess):\n",
    "        print('Too low')\n",
    "    else:\n",
    "        print('Too high')\n",
    "\n",
    "print('You took', guesses, 'guesses')"
   ]
  },
  {
   "cell_type": "markdown",
   "metadata": {},
   "source": [
    "# 4 - Lesson Review\n",
    "\n",
    "`while` loops are traditionally used when you have a block of code which you want to repeat while a boolean expression is true. \n",
    "\n",
    "- [while loop Video](https://www.youtube.com/watch?v=D0Nb2Fs3Q8c)"
   ]
  }
 ],
 "metadata": {
  "kernelspec": {
   "display_name": "Python 3",
   "language": "python",
   "name": "python3"
  },
  "language_info": {
   "codemirror_mode": {
    "name": "ipython",
    "version": 3
   },
   "file_extension": ".py",
   "mimetype": "text/x-python",
   "name": "python",
   "nbconvert_exporter": "python",
   "pygments_lexer": "ipython3",
   "version": "3.7.1"
  }
 },
 "nbformat": 4,
 "nbformat_minor": 2
}
