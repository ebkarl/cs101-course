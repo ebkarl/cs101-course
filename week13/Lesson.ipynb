{
 "cells": [
  {
   "cell_type": "markdown",
   "metadata": {},
   "source": [
    "![](../images/cs101.png)\n",
    "***\n",
    "\n",
    "# 13 - Lesson : Dictionaries\n"
   ]
  },
  {
   "cell_type": "markdown",
   "metadata": {},
   "source": [
    "# 0 - Coding Examples in This Lesson\n",
    "\n",
    "There are many small coding examples in this lesson.  I would strongly suggest that you type these examples in Thonny (or your Python IDE) to better understand the code."
   ]
  },
  {
   "cell_type": "markdown",
   "metadata": {},
   "source": [
    "# 1 - Objectives and Goals\n",
    "\n",
    "Students will:\n",
    "\n",
    "- Learn how to use Python dictionaries.\n"
   ]
  },
  {
   "cell_type": "markdown",
   "metadata": {},
   "source": [
    "# 2 - Preparation\n",
    "\n",
    "For this lesson, please review and read:\n",
    "\n",
    "- lessons on Python lists.\n"
   ]
  },
  {
   "cell_type": "markdown",
   "metadata": {},
   "source": [
    "# 3 - Lesson Details\n",
    "\n",
    "The oxford dictionary is used to look up the meanings of words.  You use this dictionary by finding the word you are looking for and once you have the word, it's meaning.\n",
    "\n",
    "Python dictionaries are used to store and retrieve information based on a \"key -> value\" pair.  In the case of the oxford dictionary, the \"key\" is the word you are searching for and the \"value\" is the meaning of that word.  With that \"key\", you are able to associate information with it.\n",
    "\n",
    "English Dictionary example:\n",
    "```\n",
    "key      -> value\n",
    "\"python\" -> \"a large heavy-bodied nonvenomous constrictor snake\"\n",
    "```\n",
    "\n",
    "\n",
    "> What's the difference between lists and dictionaries? A list is an ordered sequence of objects, whereas dictionaries are unordered sets. But the main difference is that items in dictionaries are accessed via keys and not via their position.\n",
    "> -- [Python Course Website](https://www.python-course.eu/python3_dictionaries.php)"
   ]
  },
  {
   "cell_type": "markdown",
   "metadata": {},
   "source": [
    "## Creating a Dictionary\n",
    "\n",
    "Lists are created using the `[]` brackets.\n",
    "\n",
    "```python\n",
    "grades = []\n",
    "```\n",
    "\n",
    "Dictionaries are created using the `{}` brackets.\n",
    "\n",
    "```python\n",
    "grades = {}\n",
    "```"
   ]
  },
  {
   "cell_type": "markdown",
   "metadata": {},
   "source": [
    "## Adding to a Dictionary\n",
    "\n",
    "To add a value to a list, the `append()` function is used.  There is no function that allows you to append anything to a dictionary.  Lists are ordered and appending to the end of a list makes sense.  For dictionaries, we need to create a \"Key -> Value\" pair.  This is done by using `[]` brackets.\n",
    "\n",
    "In the sample code below, \"key -> value\" pairs are created by using the name of the dictionary, placing the \"key\" within `[]` brackets and assigning that to the value.  If the key already exists in the dictionary, then Python will associate that key with the new value.  Otherwise, a new \"Key -> value\" pair will be created in the dictionary.\n",
    "\n",
    "```python\n",
    "yourDictionary[key] = value\n",
    "```\n",
    "\n",
    "Note that you can not have duplicate keys in a dictionary.  In the Python list, you are free to repeat values."
   ]
  },
  {
   "cell_type": "code",
   "execution_count": 33,
   "metadata": {},
   "outputs": [
    {
     "name": "stdout",
     "output_type": "stream",
     "text": [
      "Grade for test 3 100\n"
     ]
    }
   ],
   "source": [
    "# Create a dictionary to hold test grades for 4 tests\n",
    "grades = {}\n",
    "grades['test1'] = 89\n",
    "grades['test2'] = 99\n",
    "grades['test3'] = 100\n",
    "grades['test4'] = 65\n",
    "\n",
    "print('Grade for test 3', grades['test3'])"
   ]
  },
  {
   "cell_type": "code",
   "execution_count": 3,
   "metadata": {},
   "outputs": [
    {
     "name": "stdout",
     "output_type": "stream",
     "text": [
      "Grade for test 3 100\n"
     ]
    }
   ],
   "source": [
    "# Create a dictionary to hold test grades for 4 tests using letters\n",
    "grades = {}\n",
    "grades['a'] = 89\n",
    "grades['b'] = 99\n",
    "grades['c'] = 100\n",
    "grades['d'] = 65\n",
    "\n",
    "print('Grade for test 3', grades['c'])"
   ]
  },
  {
   "cell_type": "code",
   "execution_count": 2,
   "metadata": {},
   "outputs": [
    {
     "name": "stdout",
     "output_type": "stream",
     "text": [
      "Grade for test 3 100\n"
     ]
    }
   ],
   "source": [
    "# Create a dictionary to hold test grades for 4 tests using integer keys\n",
    "grades = {}\n",
    "grades[1] = 89\n",
    "grades[2] = 99\n",
    "grades[3] = 100\n",
    "grades[4] = 65\n",
    "\n",
    "print('Grade for test 3', grades[3])"
   ]
  },
  {
   "cell_type": "code",
   "execution_count": 4,
   "metadata": {},
   "outputs": [
    {
     "name": "stdout",
     "output_type": "stream",
     "text": [
      "Grade for test 3 100\n"
     ]
    }
   ],
   "source": [
    "# For a dictionary, the order you add items doesn't matter\n",
    "grades = {}\n",
    "grades['test2'] = 99\n",
    "grades['test4'] = 65\n",
    "grades['test1'] = 89\n",
    "grades['test3'] = 100\n",
    "\n",
    "print('Grade for test 3', grades['test3'])"
   ]
  },
  {
   "cell_type": "markdown",
   "metadata": {},
   "source": [
    "## Accessing values in a Dictionary\n",
    "\n",
    "As you can see from the above coding examples, you access a value in the dictionary by using it's key.  If the key doesn't exist in the dictionary, you will cause an error in your program and Python will stop your program."
   ]
  },
  {
   "cell_type": "markdown",
   "metadata": {},
   "source": [
    "## Dictionary Functions\n",
    "\n",
    "There are a number of functions that can be used on a dictionary to help with using them."
   ]
  },
  {
   "cell_type": "markdown",
   "metadata": {},
   "source": [
    "### in statement\n",
    "\n",
    "This statement is used to know if a key exists in a dictionary."
   ]
  },
  {
   "cell_type": "code",
   "execution_count": 35,
   "metadata": {},
   "outputs": [
    {
     "name": "stdout",
     "output_type": "stream",
     "text": [
      "The course cs101 is in room: STC 243\n",
      "The course cs312 is not found\n"
     ]
    }
   ],
   "source": [
    "# Does the courses \"cs101\" and \"cs312\" in the dictionary\n",
    "rooms = {}\n",
    "rooms['cs124'] = 'STC 398'\n",
    "rooms['cs165'] = 'STC 397'\n",
    "rooms['cs246'] = 'STC 389'\n",
    "rooms['cs101'] = 'STC 243'\n",
    "\n",
    "# Look for cs101\n",
    "if ('cs101' in rooms):\n",
    "    print('The course cs101 is in room:', rooms['cs101'])\n",
    "else:\n",
    "    print('The course cs101 is not found')\n",
    "    \n",
    "# Look for cs312\n",
    "if ('cs312' in rooms):\n",
    "    print('The course cs312 is in room:', rooms['cs312'])\n",
    "else:\n",
    "    print('The course cs312 is not found')\n",
    "    "
   ]
  },
  {
   "cell_type": "markdown",
   "metadata": {},
   "source": [
    "### len()\n",
    "\n",
    "The len() function is used to get the length of a string, number of items in a list and number of keys in a dictionary."
   ]
  },
  {
   "cell_type": "code",
   "execution_count": 5,
   "metadata": {},
   "outputs": [
    {
     "name": "stdout",
     "output_type": "stream",
     "text": [
      "There are 4 locations\n",
      "Rexburg is in the state of: ID\n"
     ]
    }
   ],
   "source": [
    "locations = {}\n",
    "locations['rexburg'] = 'ID'\n",
    "locations['logan'] = 'UT'\n",
    "locations['boston'] = 'MA'\n",
    "locations['idaho fals'] = 'ID'\n",
    "\n",
    "print('There are', len(locations), 'locations')\n",
    "print('Rexburg is in the state of:', locations['rexburg'])"
   ]
  },
  {
   "cell_type": "markdown",
   "metadata": {},
   "source": [
    "### values()\n",
    "\n",
    "There are times when you need to get a list of all of the values in a dictionary.  The values() function will do this."
   ]
  },
  {
   "cell_type": "code",
   "execution_count": 37,
   "metadata": {},
   "outputs": [
    {
     "name": "stdout",
     "output_type": "stream",
     "text": [
      "grade: 99\n",
      "grade: 89\n",
      "grade: 100\n",
      "grade: 78\n"
     ]
    }
   ],
   "source": [
    "# Here is a dictionary where we want to display all of the grades\n",
    "grades = {}\n",
    "grades['project 1'] = 99\n",
    "grades['project 2'] = 89\n",
    "grades['test 1']    = 100\n",
    "grades['project 3'] = 78\n",
    "\n",
    "for grade in grades.values():\n",
    "    print('grade:', grade)"
   ]
  },
  {
   "cell_type": "code",
   "execution_count": 38,
   "metadata": {},
   "outputs": [
    {
     "name": "stdout",
     "output_type": "stream",
     "text": [
      "average grade is 91.5\n"
     ]
    }
   ],
   "source": [
    "# Here is a dictionary where we want to average all of the grades\n",
    "grades = {}\n",
    "grades['project 1'] = 99\n",
    "grades['project 2'] = 89\n",
    "grades['test 1']    = 100\n",
    "grades['project 3'] = 78\n",
    "\n",
    "total = 0\n",
    "for grade in grades.values():\n",
    "    total += grade\n",
    "print('average grade is', total / len(grades))\n"
   ]
  },
  {
   "cell_type": "markdown",
   "metadata": {},
   "source": [
    "### keys()\n",
    "\n",
    "The keys() function allows you to get a list of all of the keys in a dictionary."
   ]
  },
  {
   "cell_type": "code",
   "execution_count": 39,
   "metadata": {},
   "outputs": [
    {
     "name": "stdout",
     "output_type": "stream",
     "text": [
      "There are 4 countries\n",
      "Austria\n",
      "Switzerland\n",
      "Germany\n",
      "Netherlands\n"
     ]
    }
   ],
   "source": [
    "capitals = {}\n",
    "capitals[\"Austria\"] = \"Vienna\"\n",
    "capitals[\"Switzerland\"] = \"Bern\"\n",
    "capitals[\"Germany\"] = \"Berlin\"\n",
    "capitals[\"Netherlands\"] =\"Amsterdam\"\n",
    "\n",
    "print('There are', len(capitals), 'countries')\n",
    "for country in capitals.keys():\n",
    "    print(country)"
   ]
  },
  {
   "cell_type": "markdown",
   "metadata": {},
   "source": [
    "## Examples"
   ]
  },
  {
   "cell_type": "markdown",
   "metadata": {},
   "source": [
    "## Counting letters in a string\n",
    "\n",
    "Let's say you want to count the number of times of all of the letter in a string appear."
   ]
  },
  {
   "cell_type": "code",
   "execution_count": 24,
   "metadata": {},
   "outputs": [
    {
     "name": "stdout",
     "output_type": "stream",
     "text": [
      "There are 14 different letters in the text\n",
      "a was found 5 times\n",
      "c was found 1 times\n",
      "d was found 1 times\n",
      "e was found 4 times\n",
      "h was found 3 times\n",
      "i was found 2 times\n",
      "n was found 2 times\n",
      "p was found 2 times\n",
      "r was found 1 times\n",
      "s was found 2 times\n",
      "t was found 5 times\n",
      "w was found 2 times\n",
      "y was found 1 times\n"
     ]
    }
   ],
   "source": [
    "text = 'the cat was in the tree and it was happy'\n",
    "counts = {}\n",
    "# Go through each letter at a time\n",
    "for letter in text:\n",
    "    # Check to see if the letter is already in the dictionary\n",
    "    if (letter in counts):\n",
    "        # The letter is in the dictionary, so add one to the value\n",
    "        counts[letter] += 1\n",
    "    else:\n",
    "        # the letter is not, so create a new (letter -> count) pair and\n",
    "        # set the count to one.\n",
    "        counts[letter] = 1\n",
    "\n",
    "# display the letters found\n",
    "print('There are', len(counts), 'different letters in the text')\n",
    "\n",
    "# Go through all of the letters and check if there are in the dictionary\n",
    "for letter in 'abcdefghijklmnopqrstuvwxyz':\n",
    "    # Check to see if the letter exists in the dictionary\n",
    "    if (letter in counts):\n",
    "        print('{} was found {} times'.format(letter, counts[letter]))"
   ]
  },
  {
   "cell_type": "markdown",
   "metadata": {},
   "source": [
    "## Morse Code Example\n",
    "\n",
    "The following is a program that converts letters to Morse code.  It uses a dictionary to contain the \"letter -> code\" relationships.  For a coding excercise, create a dictionary that contains the \"code -> letter\" relationships.\n",
    "\n",
    "In this example, the dictionary \"morse\" is initialized with the letter -> code pairs when it is created.\n",
    "\n",
    "For example: here is how we could create a dictionary of 4 test grades\n",
    "\n",
    "```Python\n",
    "grades = {\"test1\" : 89, \"test2\" : 99, \"test3\" : 100, \"test4\" : 90}\n",
    "```\n",
    "\n",
    "The above code and the following code are the same\n",
    "\n",
    "```python\n",
    "grades = {}\n",
    "grades[\"test1\"] = 89\n",
    "grades[\"test2\"] = 99\n",
    "grades[\"test3\"] = 100\n",
    "grades[\"test4\"] = 90\n",
    "```\n"
   ]
  },
  {
   "cell_type": "code",
   "execution_count": 23,
   "metadata": {},
   "outputs": [
    {
     "name": "stdout",
     "output_type": "stream",
     "text": [
      "\"5\" in Morse code is: ..... \n",
      "\"0123456789\" in Morse code is: ----- .---- ..--- ...-- ....- ..... -.... --... ---.. ----. \n",
      "\"John Brown\" in Morse code is: .--- --- .... -.   -... .-. --- .-- -. \n",
      "\"SOS\" in Morse code is: ... --- ... \n",
      "\"Python is great\" in Morse code is: .--. -.-- - .... --- -.   .. ...   --. .-. . .- - \n"
     ]
    }
   ],
   "source": [
    "morse = {\n",
    "\" \" : \" \", \n",
    "\"A\" : \".-\", \n",
    "\"B\" : \"-...\", \n",
    "\"C\" : \"-.-.\", \n",
    "\"D\" : \"-..\", \n",
    "\"E\" : \".\", \n",
    "\"F\" : \"..-.\", \n",
    "\"G\" : \"--.\", \n",
    "\"H\" : \"....\", \n",
    "\"I\" : \"..\", \n",
    "\"J\" : \".---\", \n",
    "\"K\" : \"-.-\", \n",
    "\"L\" : \".-..\", \n",
    "\"M\" : \"--\", \n",
    "\"N\" : \"-.\", \n",
    "\"O\" : \"---\", \n",
    "\"P\" : \".--.\", \n",
    "\"Q\" : \"--.-\", \n",
    "\"R\" : \".-.\", \n",
    "\"S\" : \"...\", \n",
    "\"T\" : \"-\", \n",
    "\"U\" : \"..-\", \n",
    "\"V\" : \"...-\", \n",
    "\"W\" : \".--\", \n",
    "\"X\" : \"-..-\", \n",
    "\"Y\" : \"-.--\", \n",
    "\"Z\" : \"--..\", \n",
    "\"0\" : \"-----\", \n",
    "\"1\" : \".----\", \n",
    "\"2\" : \"..---\", \n",
    "\"3\" : \"...--\", \n",
    "\"4\" : \"....-\", \n",
    "\"5\" : \".....\", \n",
    "\"6\" : \"-....\", \n",
    "\"7\" : \"--...\", \n",
    "\"8\" : \"---..\", \n",
    "\"9\" : \"----.\", \n",
    "\".\" : \".-.-.-\", \n",
    "\",\" : \"--..--\"\n",
    "}\n",
    "\n",
    "def displayMorseCodes(text):\n",
    "    print('\"{}\" in Morse code is: '.format(text), end='')\n",
    "    \n",
    "    # go through the text string one letter at a time\n",
    "    for letter in text:\n",
    "        # Note that the letter keys in the dictionary are upper case, so we need\n",
    "        # to use the upper() function to convert each letter to uppercase.\n",
    "        print(morse[letter.upper()], end=' ')\n",
    "    print()\n",
    "\n",
    "\n",
    "displayMorseCodes('5')\n",
    "displayMorseCodes('0123456789')\n",
    "displayMorseCodes('John Brown')\n",
    "displayMorseCodes('SOS')\n",
    "displayMorseCodes('Python is great')\n"
   ]
  },
  {
   "cell_type": "markdown",
   "metadata": {},
   "source": [
    "# 4 - Lesson Review\n",
    "\n",
    "Dictionaries allow for the \"key -> value\" pair relationships.  You use the \"key\" to access the \"value\"."
   ]
  }
 ],
 "metadata": {
  "kernelspec": {
   "display_name": "Python 3",
   "language": "python",
   "name": "python3"
  },
  "language_info": {
   "codemirror_mode": {
    "name": "ipython",
    "version": 3
   },
   "file_extension": ".py",
   "mimetype": "text/x-python",
   "name": "python",
   "nbconvert_exporter": "python",
   "pygments_lexer": "ipython3",
   "version": "3.7.1"
  }
 },
 "nbformat": 4,
 "nbformat_minor": 2
}
